{
  "nbformat": 4,
  "nbformat_minor": 0,
  "metadata": {
    "kernelspec": {
      "display_name": "Python 3",
      "language": "python",
      "name": "python3"
    },
    "language_info": {
      "codemirror_mode": {
        "name": "ipython",
        "version": 3
      },
      "file_extension": ".py",
      "mimetype": "text/x-python",
      "name": "python",
      "nbconvert_exporter": "python",
      "pygments_lexer": "ipython3",
      "version": "3.7.4"
    },
    "colab": {
      "name": "Baseline model.ipynb",
      "provenance": []
    }
  },
  "cells": [
    {
      "cell_type": "markdown",
      "metadata": {
        "id": "6QthtHt117XP",
        "colab_type": "text"
      },
      "source": [
        "# Customer Churn Prediction:\n",
        "A Bank wants to take care of customer retention for its product: savings accounts. The bank wants you to identify customers likely to churn balances below the minimum balance. You have the customers information such as age, gender, demographics along with their transactions with the bank.\n",
        "Your task as a data scientist would be to predict the propensity to churn for each customer."
      ]
    },
    {
      "cell_type": "markdown",
      "metadata": {
        "id": "cltQccjj2Rhb",
        "colab_type": "text"
      },
      "source": [
        "## Data Dictionary\n",
        "There are multiple variables in the dataset which can be cleanly divided into 3 categories:\n",
        "\n",
        "## I. Demographic information about customers\n",
        "\n",
        "       •\tcustomer_id - Customer id \n",
        "       •\tvintage - Vintage of the customer with the bank in a number of days \n",
        "       •\tage - Age of customer \n",
        "       •\tgender - Gender of customer \n",
        "       •\tdependents - Number of dependents \n",
        "       •\toccupation - Occupation of the customer \n",
        "       •\tcity - City of the customer (anonymized) \n",
        "       \n",
        "## II. Customer Bank Relationship\n",
        "\n",
        "       •\tcustomer_nw_category - Net worth of customer (3: Low 2: Medium 1: High) \n",
        "       •\tbranch_code - Branch Code for a customer account \n",
        "       •\tdays_since_last_transaction - No of Days Since Last Credit in Last 1 year \n",
        "\n",
        "## III. Transactional Information\n",
        "       •\tcurrent_balance - Balance as of today \n",
        "       •\tprevious_month_end_balance - End of Month Balance of previous month \n",
        "       •\taverage_monthly_balance_prevQ - Average monthly balances (AMB) in Previous Quarter \n",
        "       •\taverage_monthly_balance_prevQ2 - Average monthly balances (AMB) in previous to the previous quarter \n",
        "       •\tcurrent_month_credit - Total Credit Amount current month \n",
        "       •\tprevious_month_credit - Total Credit Amount previous month \n",
        "       •\tcurrent_month_debit - Total Debit Amount current month \n",
        "       •\tprevious_month_debit - Total Debit Amount previous month \n",
        "       •\tcurrent_month_balance - Average Balance of current month \n",
        "       •\tprevious_month_balance - Average Balance of previous month \n",
        "       •\tchurn - Average balance of customer falls below minimum balance in the next quarter (1/0) "
      ]
    },
    {
      "cell_type": "markdown",
      "metadata": {
        "id": "nOrJw7Ph7Rpm",
        "colab_type": "text"
      },
      "source": [
        "# Importing Libraries"
      ]
    },
    {
      "cell_type": "code",
      "metadata": {
        "id": "4MtWVr5t7Rpn",
        "colab_type": "code",
        "colab": {}
      },
      "source": [
        "import pandas as pd\n",
        "import numpy as np\n",
        "import matplotlib.pyplot as plt\n",
        "%matplotlib inline"
      ],
      "execution_count": null,
      "outputs": []
    },
    {
      "cell_type": "markdown",
      "metadata": {
        "id": "uMD7clIh3F7W",
        "colab_type": "text"
      },
      "source": [
        "# Importing churn_prediction dataset"
      ]
    },
    {
      "cell_type": "code",
      "metadata": {
        "id": "m4c4mOJc7Rps",
        "colab_type": "code",
        "colab": {
          "base_uri": "https://localhost:8080/",
          "height": 215
        },
        "outputId": "a04a18c1-7eb1-4b32-8057-d602bc7a65cb"
      },
      "source": [
        "churn_data = pd.read_csv(\"churn_prediction.csv\")\n",
        "churn_data.head()"
      ],
      "execution_count": null,
      "outputs": [
        {
          "output_type": "execute_result",
          "data": {
            "text/html": [
              "<div>\n",
              "<style scoped>\n",
              "    .dataframe tbody tr th:only-of-type {\n",
              "        vertical-align: middle;\n",
              "    }\n",
              "\n",
              "    .dataframe tbody tr th {\n",
              "        vertical-align: top;\n",
              "    }\n",
              "\n",
              "    .dataframe thead th {\n",
              "        text-align: right;\n",
              "    }\n",
              "</style>\n",
              "<table border=\"1\" class=\"dataframe\">\n",
              "  <thead>\n",
              "    <tr style=\"text-align: right;\">\n",
              "      <th></th>\n",
              "      <th>customer_id</th>\n",
              "      <th>vintage</th>\n",
              "      <th>age</th>\n",
              "      <th>gender</th>\n",
              "      <th>dependents</th>\n",
              "      <th>occupation</th>\n",
              "      <th>city</th>\n",
              "      <th>customer_nw_category</th>\n",
              "      <th>branch_code</th>\n",
              "      <th>days_since_last_transaction</th>\n",
              "      <th>current_balance</th>\n",
              "      <th>previous_month_end_balance</th>\n",
              "      <th>average_monthly_balance_prevQ</th>\n",
              "      <th>average_monthly_balance_prevQ2</th>\n",
              "      <th>current_month_credit</th>\n",
              "      <th>previous_month_credit</th>\n",
              "      <th>current_month_debit</th>\n",
              "      <th>previous_month_debit</th>\n",
              "      <th>current_month_balance</th>\n",
              "      <th>previous_month_balance</th>\n",
              "      <th>churn</th>\n",
              "    </tr>\n",
              "  </thead>\n",
              "  <tbody>\n",
              "    <tr>\n",
              "      <th>0</th>\n",
              "      <td>1</td>\n",
              "      <td>3135</td>\n",
              "      <td>66</td>\n",
              "      <td>Male</td>\n",
              "      <td>0.0</td>\n",
              "      <td>self_employed</td>\n",
              "      <td>187.0</td>\n",
              "      <td>2</td>\n",
              "      <td>755</td>\n",
              "      <td>224.0</td>\n",
              "      <td>1458.71</td>\n",
              "      <td>1458.71</td>\n",
              "      <td>1458.71</td>\n",
              "      <td>1449.07</td>\n",
              "      <td>0.20</td>\n",
              "      <td>0.20</td>\n",
              "      <td>0.20</td>\n",
              "      <td>0.20</td>\n",
              "      <td>1458.71</td>\n",
              "      <td>1458.71</td>\n",
              "      <td>0</td>\n",
              "    </tr>\n",
              "    <tr>\n",
              "      <th>1</th>\n",
              "      <td>2</td>\n",
              "      <td>310</td>\n",
              "      <td>35</td>\n",
              "      <td>Male</td>\n",
              "      <td>0.0</td>\n",
              "      <td>self_employed</td>\n",
              "      <td>NaN</td>\n",
              "      <td>2</td>\n",
              "      <td>3214</td>\n",
              "      <td>60.0</td>\n",
              "      <td>5390.37</td>\n",
              "      <td>8704.66</td>\n",
              "      <td>7799.26</td>\n",
              "      <td>12419.41</td>\n",
              "      <td>0.56</td>\n",
              "      <td>0.56</td>\n",
              "      <td>5486.27</td>\n",
              "      <td>100.56</td>\n",
              "      <td>6496.78</td>\n",
              "      <td>8787.61</td>\n",
              "      <td>0</td>\n",
              "    </tr>\n",
              "    <tr>\n",
              "      <th>2</th>\n",
              "      <td>4</td>\n",
              "      <td>2356</td>\n",
              "      <td>31</td>\n",
              "      <td>Male</td>\n",
              "      <td>0.0</td>\n",
              "      <td>salaried</td>\n",
              "      <td>146.0</td>\n",
              "      <td>2</td>\n",
              "      <td>41</td>\n",
              "      <td>NaN</td>\n",
              "      <td>3913.16</td>\n",
              "      <td>5815.29</td>\n",
              "      <td>4910.17</td>\n",
              "      <td>2815.94</td>\n",
              "      <td>0.61</td>\n",
              "      <td>0.61</td>\n",
              "      <td>6046.73</td>\n",
              "      <td>259.23</td>\n",
              "      <td>5006.28</td>\n",
              "      <td>5070.14</td>\n",
              "      <td>0</td>\n",
              "    </tr>\n",
              "    <tr>\n",
              "      <th>3</th>\n",
              "      <td>5</td>\n",
              "      <td>478</td>\n",
              "      <td>90</td>\n",
              "      <td>NaN</td>\n",
              "      <td>NaN</td>\n",
              "      <td>self_employed</td>\n",
              "      <td>1020.0</td>\n",
              "      <td>2</td>\n",
              "      <td>582</td>\n",
              "      <td>147.0</td>\n",
              "      <td>2291.91</td>\n",
              "      <td>2291.91</td>\n",
              "      <td>2084.54</td>\n",
              "      <td>1006.54</td>\n",
              "      <td>0.47</td>\n",
              "      <td>0.47</td>\n",
              "      <td>0.47</td>\n",
              "      <td>2143.33</td>\n",
              "      <td>2291.91</td>\n",
              "      <td>1669.79</td>\n",
              "      <td>1</td>\n",
              "    </tr>\n",
              "    <tr>\n",
              "      <th>4</th>\n",
              "      <td>6</td>\n",
              "      <td>2531</td>\n",
              "      <td>42</td>\n",
              "      <td>Male</td>\n",
              "      <td>2.0</td>\n",
              "      <td>self_employed</td>\n",
              "      <td>1494.0</td>\n",
              "      <td>3</td>\n",
              "      <td>388</td>\n",
              "      <td>58.0</td>\n",
              "      <td>927.72</td>\n",
              "      <td>1401.72</td>\n",
              "      <td>1643.31</td>\n",
              "      <td>1871.12</td>\n",
              "      <td>0.33</td>\n",
              "      <td>714.61</td>\n",
              "      <td>588.62</td>\n",
              "      <td>1538.06</td>\n",
              "      <td>1157.15</td>\n",
              "      <td>1677.16</td>\n",
              "      <td>1</td>\n",
              "    </tr>\n",
              "  </tbody>\n",
              "</table>\n",
              "</div>"
            ],
            "text/plain": [
              "   customer_id  vintage  ...  previous_month_balance churn\n",
              "0            1     3135  ...                 1458.71     0\n",
              "1            2      310  ...                 8787.61     0\n",
              "2            4     2356  ...                 5070.14     0\n",
              "3            5      478  ...                 1669.79     1\n",
              "4            6     2531  ...                 1677.16     1\n",
              "\n",
              "[5 rows x 21 columns]"
            ]
          },
          "metadata": {
            "tags": []
          },
          "execution_count": 30
        }
      ]
    },
    {
      "cell_type": "markdown",
      "metadata": {
        "id": "ER_epmvv7Rpw",
        "colab_type": "text"
      },
      "source": [
        "# Filling missing values with pandas"
      ]
    },
    {
      "cell_type": "code",
      "metadata": {
        "id": "kH7psuLnelrh",
        "colab_type": "code",
        "colab": {}
      },
      "source": [
        "df = churn_data.copy()"
      ],
      "execution_count": null,
      "outputs": []
    },
    {
      "cell_type": "code",
      "metadata": {
        "id": "yoxnOq3eTxLU",
        "colab_type": "code",
        "colab": {
          "base_uri": "https://localhost:8080/",
          "height": 118
        },
        "outputId": "8809d142-9ecc-4dfe-b017-44dfede916c9"
      },
      "source": [
        "df.occupation.value_counts()"
      ],
      "execution_count": null,
      "outputs": [
        {
          "output_type": "execute_result",
          "data": {
            "text/plain": [
              "self_employed    17476\n",
              "salaried          6704\n",
              "student           2058\n",
              "retired           2024\n",
              "company             40\n",
              "Name: occupation, dtype: int64"
            ]
          },
          "metadata": {
            "tags": []
          },
          "execution_count": 31
        }
      ]
    },
    {
      "cell_type": "code",
      "metadata": {
        "id": "czBG0glt7Rpx",
        "colab_type": "code",
        "colab": {}
      },
      "source": [
        "df[\"city\"].fillna(value = 0.0, inplace = True)\n",
        "df[\"city\"] = df[\"city\"].astype(\"int\")"
      ],
      "execution_count": null,
      "outputs": []
    },
    {
      "cell_type": "code",
      "metadata": {
        "id": "m9GlVo-G7Rp2",
        "colab_type": "code",
        "colab": {}
      },
      "source": [
        "df[\"occupation\"].fillna(value = \"missing\", inplace = True)"
      ],
      "execution_count": null,
      "outputs": []
    },
    {
      "cell_type": "code",
      "metadata": {
        "id": "bI8Y2ZhJU-f5",
        "colab_type": "code",
        "colab": {}
      },
      "source": [
        "df[\"occupation_with_missing_data\"] = pd.Categorical(df[\"occupation\"]).codes"
      ],
      "execution_count": null,
      "outputs": []
    },
    {
      "cell_type": "code",
      "metadata": {
        "id": "WCKcQ3LIVsOq",
        "colab_type": "code",
        "colab": {
          "base_uri": "https://localhost:8080/",
          "height": 215
        },
        "outputId": "96781bd4-7004-4d2e-f6f5-64b5ae50df1b"
      },
      "source": [
        "df.head()"
      ],
      "execution_count": null,
      "outputs": [
        {
          "output_type": "execute_result",
          "data": {
            "text/html": [
              "<div>\n",
              "<style scoped>\n",
              "    .dataframe tbody tr th:only-of-type {\n",
              "        vertical-align: middle;\n",
              "    }\n",
              "\n",
              "    .dataframe tbody tr th {\n",
              "        vertical-align: top;\n",
              "    }\n",
              "\n",
              "    .dataframe thead th {\n",
              "        text-align: right;\n",
              "    }\n",
              "</style>\n",
              "<table border=\"1\" class=\"dataframe\">\n",
              "  <thead>\n",
              "    <tr style=\"text-align: right;\">\n",
              "      <th></th>\n",
              "      <th>customer_id</th>\n",
              "      <th>vintage</th>\n",
              "      <th>age</th>\n",
              "      <th>gender</th>\n",
              "      <th>dependents</th>\n",
              "      <th>occupation</th>\n",
              "      <th>city</th>\n",
              "      <th>customer_nw_category</th>\n",
              "      <th>branch_code</th>\n",
              "      <th>days_since_last_transaction</th>\n",
              "      <th>current_balance</th>\n",
              "      <th>previous_month_end_balance</th>\n",
              "      <th>average_monthly_balance_prevQ</th>\n",
              "      <th>average_monthly_balance_prevQ2</th>\n",
              "      <th>current_month_credit</th>\n",
              "      <th>previous_month_credit</th>\n",
              "      <th>current_month_debit</th>\n",
              "      <th>previous_month_debit</th>\n",
              "      <th>current_month_balance</th>\n",
              "      <th>previous_month_balance</th>\n",
              "      <th>churn</th>\n",
              "    </tr>\n",
              "  </thead>\n",
              "  <tbody>\n",
              "    <tr>\n",
              "      <th>0</th>\n",
              "      <td>1</td>\n",
              "      <td>3135</td>\n",
              "      <td>66</td>\n",
              "      <td>Male</td>\n",
              "      <td>0.0</td>\n",
              "      <td>self_employed</td>\n",
              "      <td>187</td>\n",
              "      <td>2</td>\n",
              "      <td>755</td>\n",
              "      <td>224.0</td>\n",
              "      <td>1458.71</td>\n",
              "      <td>1458.71</td>\n",
              "      <td>1458.71</td>\n",
              "      <td>1449.07</td>\n",
              "      <td>0.20</td>\n",
              "      <td>0.20</td>\n",
              "      <td>0.20</td>\n",
              "      <td>0.20</td>\n",
              "      <td>1458.71</td>\n",
              "      <td>1458.71</td>\n",
              "      <td>0</td>\n",
              "    </tr>\n",
              "    <tr>\n",
              "      <th>1</th>\n",
              "      <td>2</td>\n",
              "      <td>310</td>\n",
              "      <td>35</td>\n",
              "      <td>Male</td>\n",
              "      <td>0.0</td>\n",
              "      <td>self_employed</td>\n",
              "      <td>0</td>\n",
              "      <td>2</td>\n",
              "      <td>3214</td>\n",
              "      <td>60.0</td>\n",
              "      <td>5390.37</td>\n",
              "      <td>8704.66</td>\n",
              "      <td>7799.26</td>\n",
              "      <td>12419.41</td>\n",
              "      <td>0.56</td>\n",
              "      <td>0.56</td>\n",
              "      <td>5486.27</td>\n",
              "      <td>100.56</td>\n",
              "      <td>6496.78</td>\n",
              "      <td>8787.61</td>\n",
              "      <td>0</td>\n",
              "    </tr>\n",
              "    <tr>\n",
              "      <th>2</th>\n",
              "      <td>4</td>\n",
              "      <td>2356</td>\n",
              "      <td>31</td>\n",
              "      <td>Male</td>\n",
              "      <td>0.0</td>\n",
              "      <td>salaried</td>\n",
              "      <td>146</td>\n",
              "      <td>2</td>\n",
              "      <td>41</td>\n",
              "      <td>NaN</td>\n",
              "      <td>3913.16</td>\n",
              "      <td>5815.29</td>\n",
              "      <td>4910.17</td>\n",
              "      <td>2815.94</td>\n",
              "      <td>0.61</td>\n",
              "      <td>0.61</td>\n",
              "      <td>6046.73</td>\n",
              "      <td>259.23</td>\n",
              "      <td>5006.28</td>\n",
              "      <td>5070.14</td>\n",
              "      <td>0</td>\n",
              "    </tr>\n",
              "    <tr>\n",
              "      <th>3</th>\n",
              "      <td>5</td>\n",
              "      <td>478</td>\n",
              "      <td>90</td>\n",
              "      <td>NaN</td>\n",
              "      <td>NaN</td>\n",
              "      <td>self_employed</td>\n",
              "      <td>1020</td>\n",
              "      <td>2</td>\n",
              "      <td>582</td>\n",
              "      <td>147.0</td>\n",
              "      <td>2291.91</td>\n",
              "      <td>2291.91</td>\n",
              "      <td>2084.54</td>\n",
              "      <td>1006.54</td>\n",
              "      <td>0.47</td>\n",
              "      <td>0.47</td>\n",
              "      <td>0.47</td>\n",
              "      <td>2143.33</td>\n",
              "      <td>2291.91</td>\n",
              "      <td>1669.79</td>\n",
              "      <td>1</td>\n",
              "    </tr>\n",
              "    <tr>\n",
              "      <th>4</th>\n",
              "      <td>6</td>\n",
              "      <td>2531</td>\n",
              "      <td>42</td>\n",
              "      <td>Male</td>\n",
              "      <td>2.0</td>\n",
              "      <td>self_employed</td>\n",
              "      <td>1494</td>\n",
              "      <td>3</td>\n",
              "      <td>388</td>\n",
              "      <td>58.0</td>\n",
              "      <td>927.72</td>\n",
              "      <td>1401.72</td>\n",
              "      <td>1643.31</td>\n",
              "      <td>1871.12</td>\n",
              "      <td>0.33</td>\n",
              "      <td>714.61</td>\n",
              "      <td>588.62</td>\n",
              "      <td>1538.06</td>\n",
              "      <td>1157.15</td>\n",
              "      <td>1677.16</td>\n",
              "      <td>1</td>\n",
              "    </tr>\n",
              "  </tbody>\n",
              "</table>\n",
              "</div>"
            ],
            "text/plain": [
              "   customer_id  vintage  ...  previous_month_balance churn\n",
              "0            1     3135  ...                 1458.71     0\n",
              "1            2      310  ...                 8787.61     0\n",
              "2            4     2356  ...                 5070.14     0\n",
              "3            5      478  ...                 1669.79     1\n",
              "4            6     2531  ...                 1677.16     1\n",
              "\n",
              "[5 rows x 21 columns]"
            ]
          },
          "metadata": {
            "tags": []
          },
          "execution_count": 34
        }
      ]
    },
    {
      "cell_type": "code",
      "metadata": {
        "id": "zHcJZGXc7Rp8",
        "colab_type": "code",
        "colab": {}
      },
      "source": [
        "df[\"gender\"].fillna(value = \"missing\", inplace = True)"
      ],
      "execution_count": null,
      "outputs": []
    },
    {
      "cell_type": "code",
      "metadata": {
        "id": "utF8ANw97RqC",
        "colab_type": "code",
        "colab": {}
      },
      "source": [
        "df[\"dependents\"].fillna(value = 0.0, inplace = True)"
      ],
      "execution_count": null,
      "outputs": []
    },
    {
      "cell_type": "code",
      "metadata": {
        "id": "YA8Y2RGTPgMV",
        "colab_type": "code",
        "colab": {}
      },
      "source": [
        "df[\"dependents\"] = churn_data[\"dependents\"].astype(\"int\")"
      ],
      "execution_count": null,
      "outputs": []
    },
    {
      "cell_type": "code",
      "metadata": {
        "id": "n2gz2K6O7RqF",
        "colab_type": "code",
        "colab": {
          "base_uri": "https://localhost:8080/",
          "height": 698
        },
        "outputId": "595afbdf-efa4-466f-db40-c1d2e039cd23"
      },
      "source": [
        "df.head().T"
      ],
      "execution_count": null,
      "outputs": [
        {
          "output_type": "execute_result",
          "data": {
            "text/html": [
              "<div>\n",
              "<style scoped>\n",
              "    .dataframe tbody tr th:only-of-type {\n",
              "        vertical-align: middle;\n",
              "    }\n",
              "\n",
              "    .dataframe tbody tr th {\n",
              "        vertical-align: top;\n",
              "    }\n",
              "\n",
              "    .dataframe thead th {\n",
              "        text-align: right;\n",
              "    }\n",
              "</style>\n",
              "<table border=\"1\" class=\"dataframe\">\n",
              "  <thead>\n",
              "    <tr style=\"text-align: right;\">\n",
              "      <th></th>\n",
              "      <th>0</th>\n",
              "      <th>1</th>\n",
              "      <th>2</th>\n",
              "      <th>3</th>\n",
              "      <th>4</th>\n",
              "    </tr>\n",
              "  </thead>\n",
              "  <tbody>\n",
              "    <tr>\n",
              "      <th>customer_id</th>\n",
              "      <td>1</td>\n",
              "      <td>2</td>\n",
              "      <td>4</td>\n",
              "      <td>5</td>\n",
              "      <td>6</td>\n",
              "    </tr>\n",
              "    <tr>\n",
              "      <th>vintage</th>\n",
              "      <td>3135</td>\n",
              "      <td>310</td>\n",
              "      <td>2356</td>\n",
              "      <td>478</td>\n",
              "      <td>2531</td>\n",
              "    </tr>\n",
              "    <tr>\n",
              "      <th>age</th>\n",
              "      <td>66</td>\n",
              "      <td>35</td>\n",
              "      <td>31</td>\n",
              "      <td>90</td>\n",
              "      <td>42</td>\n",
              "    </tr>\n",
              "    <tr>\n",
              "      <th>gender</th>\n",
              "      <td>Male</td>\n",
              "      <td>Male</td>\n",
              "      <td>Male</td>\n",
              "      <td>missing</td>\n",
              "      <td>Male</td>\n",
              "    </tr>\n",
              "    <tr>\n",
              "      <th>dependents</th>\n",
              "      <td>0</td>\n",
              "      <td>0</td>\n",
              "      <td>0</td>\n",
              "      <td>0</td>\n",
              "      <td>2</td>\n",
              "    </tr>\n",
              "    <tr>\n",
              "      <th>occupation</th>\n",
              "      <td>self_employed</td>\n",
              "      <td>self_employed</td>\n",
              "      <td>salaried</td>\n",
              "      <td>self_employed</td>\n",
              "      <td>self_employed</td>\n",
              "    </tr>\n",
              "    <tr>\n",
              "      <th>city</th>\n",
              "      <td>187</td>\n",
              "      <td>0</td>\n",
              "      <td>146</td>\n",
              "      <td>1020</td>\n",
              "      <td>1494</td>\n",
              "    </tr>\n",
              "    <tr>\n",
              "      <th>customer_nw_category</th>\n",
              "      <td>2</td>\n",
              "      <td>2</td>\n",
              "      <td>2</td>\n",
              "      <td>2</td>\n",
              "      <td>3</td>\n",
              "    </tr>\n",
              "    <tr>\n",
              "      <th>branch_code</th>\n",
              "      <td>755</td>\n",
              "      <td>3214</td>\n",
              "      <td>41</td>\n",
              "      <td>582</td>\n",
              "      <td>388</td>\n",
              "    </tr>\n",
              "    <tr>\n",
              "      <th>days_since_last_transaction</th>\n",
              "      <td>224</td>\n",
              "      <td>60</td>\n",
              "      <td>NaN</td>\n",
              "      <td>147</td>\n",
              "      <td>58</td>\n",
              "    </tr>\n",
              "    <tr>\n",
              "      <th>current_balance</th>\n",
              "      <td>1458.71</td>\n",
              "      <td>5390.37</td>\n",
              "      <td>3913.16</td>\n",
              "      <td>2291.91</td>\n",
              "      <td>927.72</td>\n",
              "    </tr>\n",
              "    <tr>\n",
              "      <th>previous_month_end_balance</th>\n",
              "      <td>1458.71</td>\n",
              "      <td>8704.66</td>\n",
              "      <td>5815.29</td>\n",
              "      <td>2291.91</td>\n",
              "      <td>1401.72</td>\n",
              "    </tr>\n",
              "    <tr>\n",
              "      <th>average_monthly_balance_prevQ</th>\n",
              "      <td>1458.71</td>\n",
              "      <td>7799.26</td>\n",
              "      <td>4910.17</td>\n",
              "      <td>2084.54</td>\n",
              "      <td>1643.31</td>\n",
              "    </tr>\n",
              "    <tr>\n",
              "      <th>average_monthly_balance_prevQ2</th>\n",
              "      <td>1449.07</td>\n",
              "      <td>12419.4</td>\n",
              "      <td>2815.94</td>\n",
              "      <td>1006.54</td>\n",
              "      <td>1871.12</td>\n",
              "    </tr>\n",
              "    <tr>\n",
              "      <th>current_month_credit</th>\n",
              "      <td>0.2</td>\n",
              "      <td>0.56</td>\n",
              "      <td>0.61</td>\n",
              "      <td>0.47</td>\n",
              "      <td>0.33</td>\n",
              "    </tr>\n",
              "    <tr>\n",
              "      <th>previous_month_credit</th>\n",
              "      <td>0.2</td>\n",
              "      <td>0.56</td>\n",
              "      <td>0.61</td>\n",
              "      <td>0.47</td>\n",
              "      <td>714.61</td>\n",
              "    </tr>\n",
              "    <tr>\n",
              "      <th>current_month_debit</th>\n",
              "      <td>0.2</td>\n",
              "      <td>5486.27</td>\n",
              "      <td>6046.73</td>\n",
              "      <td>0.47</td>\n",
              "      <td>588.62</td>\n",
              "    </tr>\n",
              "    <tr>\n",
              "      <th>previous_month_debit</th>\n",
              "      <td>0.2</td>\n",
              "      <td>100.56</td>\n",
              "      <td>259.23</td>\n",
              "      <td>2143.33</td>\n",
              "      <td>1538.06</td>\n",
              "    </tr>\n",
              "    <tr>\n",
              "      <th>current_month_balance</th>\n",
              "      <td>1458.71</td>\n",
              "      <td>6496.78</td>\n",
              "      <td>5006.28</td>\n",
              "      <td>2291.91</td>\n",
              "      <td>1157.15</td>\n",
              "    </tr>\n",
              "    <tr>\n",
              "      <th>previous_month_balance</th>\n",
              "      <td>1458.71</td>\n",
              "      <td>8787.61</td>\n",
              "      <td>5070.14</td>\n",
              "      <td>1669.79</td>\n",
              "      <td>1677.16</td>\n",
              "    </tr>\n",
              "    <tr>\n",
              "      <th>churn</th>\n",
              "      <td>0</td>\n",
              "      <td>0</td>\n",
              "      <td>0</td>\n",
              "      <td>1</td>\n",
              "      <td>1</td>\n",
              "    </tr>\n",
              "    <tr>\n",
              "      <th>occupation_with_missing_data</th>\n",
              "      <td>4</td>\n",
              "      <td>4</td>\n",
              "      <td>3</td>\n",
              "      <td>4</td>\n",
              "      <td>4</td>\n",
              "    </tr>\n",
              "  </tbody>\n",
              "</table>\n",
              "</div>"
            ],
            "text/plain": [
              "                                            0  ...              4\n",
              "customer_id                                 1  ...              6\n",
              "vintage                                  3135  ...           2531\n",
              "age                                        66  ...             42\n",
              "gender                                   Male  ...           Male\n",
              "dependents                                  0  ...              2\n",
              "occupation                      self_employed  ...  self_employed\n",
              "city                                      187  ...           1494\n",
              "customer_nw_category                        2  ...              3\n",
              "branch_code                               755  ...            388\n",
              "days_since_last_transaction               224  ...             58\n",
              "current_balance                       1458.71  ...         927.72\n",
              "previous_month_end_balance            1458.71  ...        1401.72\n",
              "average_monthly_balance_prevQ         1458.71  ...        1643.31\n",
              "average_monthly_balance_prevQ2        1449.07  ...        1871.12\n",
              "current_month_credit                      0.2  ...           0.33\n",
              "previous_month_credit                     0.2  ...         714.61\n",
              "current_month_debit                       0.2  ...         588.62\n",
              "previous_month_debit                      0.2  ...        1538.06\n",
              "current_month_balance                 1458.71  ...        1157.15\n",
              "previous_month_balance                1458.71  ...        1677.16\n",
              "churn                                       0  ...              1\n",
              "occupation_with_missing_data                4  ...              4\n",
              "\n",
              "[22 rows x 5 columns]"
            ]
          },
          "metadata": {
            "tags": []
          },
          "execution_count": 13
        }
      ]
    },
    {
      "cell_type": "code",
      "metadata": {
        "id": "bbA6m1laWU9-",
        "colab_type": "code",
        "colab": {
          "base_uri": "https://localhost:8080/",
          "height": 403
        },
        "outputId": "b7903e10-6b91-44b8-dfd2-abfed2fd6094"
      },
      "source": [
        "df.isna().sum()"
      ],
      "execution_count": null,
      "outputs": [
        {
          "output_type": "execute_result",
          "data": {
            "text/plain": [
              "customer_id                          0\n",
              "vintage                              1\n",
              "age                                  1\n",
              "gender                               0\n",
              "dependents                           0\n",
              "occupation                           0\n",
              "city                                 0\n",
              "customer_nw_category                 1\n",
              "branch_code                          1\n",
              "days_since_last_transaction       1978\n",
              "current_balance                      1\n",
              "previous_month_end_balance           1\n",
              "average_monthly_balance_prevQ        1\n",
              "average_monthly_balance_prevQ2       1\n",
              "current_month_credit                 1\n",
              "previous_month_credit                1\n",
              "current_month_debit                  1\n",
              "previous_month_debit                 1\n",
              "current_month_balance                1\n",
              "previous_month_balance               1\n",
              "churn                                1\n",
              "occupation_with_missing_data         0\n",
              "dtype: int64"
            ]
          },
          "metadata": {
            "tags": []
          },
          "execution_count": 14
        }
      ]
    },
    {
      "cell_type": "code",
      "metadata": {
        "id": "1ixdjAELS0ph",
        "colab_type": "code",
        "colab": {
          "base_uri": "https://localhost:8080/",
          "height": 283
        },
        "outputId": "24ed6029-4232-4015-df75-ce137e8e9d5f"
      },
      "source": [
        "df[\"days_since_last_transaction\"].plot.hist()"
      ],
      "execution_count": null,
      "outputs": [
        {
          "output_type": "execute_result",
          "data": {
            "text/plain": [
              "<matplotlib.axes._subplots.AxesSubplot at 0x7f2469207f28>"
            ]
          },
          "metadata": {
            "tags": []
          },
          "execution_count": 38
        },
        {
          "output_type": "display_data",
          "data": {
            "image/png": "[encoded data removed]",
            "text/plain": [
              "<Figure size 432x288 with 1 Axes>"
            ]
          },
          "metadata": {
            "tags": [],
            "needs_background": "light"
          }
        }
      ]
    },
    {
      "cell_type": "code",
      "metadata": {
        "id": "Sim0R-G4ZuZU",
        "colab_type": "code",
        "colab": {
          "base_uri": "https://localhost:8080/",
          "height": 403
        },
        "outputId": "abd1d182-209b-4511-fafb-530d9e200575"
      },
      "source": [
        "df.dtypes"
      ],
      "execution_count": null,
      "outputs": [
        {
          "output_type": "execute_result",
          "data": {
            "text/plain": [
              "customer_id                         int64\n",
              "vintage                           float64\n",
              "age                               float64\n",
              "gender                             object\n",
              "dependents                          int64\n",
              "occupation                         object\n",
              "city                                int64\n",
              "customer_nw_category              float64\n",
              "branch_code                       float64\n",
              "days_since_last_transaction       float64\n",
              "current_balance                   float64\n",
              "previous_month_end_balance        float64\n",
              "average_monthly_balance_prevQ     float64\n",
              "average_monthly_balance_prevQ2    float64\n",
              "current_month_credit              float64\n",
              "previous_month_credit             float64\n",
              "current_month_debit               float64\n",
              "previous_month_debit              float64\n",
              "current_month_balance             float64\n",
              "previous_month_balance            float64\n",
              "churn                             float64\n",
              "occupation_with_missing_data         int8\n",
              "dtype: object"
            ]
          },
          "metadata": {
            "tags": []
          },
          "execution_count": 17
        }
      ]
    },
    {
      "cell_type": "code",
      "metadata": {
        "id": "9bDt6y8abHFE",
        "colab_type": "code",
        "colab": {}
      },
      "source": [
        "df[\"days_since_last_transaction\"].fillna(value = df[\"days_since_last_transaction\"].median(), inplace = True)"
      ],
      "execution_count": null,
      "outputs": []
    },
    {
      "cell_type": "code",
      "metadata": {
        "id": "VUk8-yDyUh15",
        "colab_type": "code",
        "colab": {
          "base_uri": "https://localhost:8080/",
          "height": 370
        },
        "outputId": "f699b594-aaef-4ba2-afe3-3e455cb133cf"
      },
      "source": [
        "df.isna().sum()"
      ],
      "execution_count": null,
      "outputs": [
        {
          "output_type": "execute_result",
          "data": {
            "text/plain": [
              "customer_id                       0\n",
              "vintage                           0\n",
              "age                               0\n",
              "gender                            0\n",
              "dependents                        0\n",
              "city                              0\n",
              "customer_nw_category              0\n",
              "branch_code                       0\n",
              "days_since_last_transaction       0\n",
              "current_balance                   0\n",
              "previous_month_end_balance        0\n",
              "average_monthly_balance_prevQ     0\n",
              "average_monthly_balance_prevQ2    0\n",
              "current_month_credit              0\n",
              "previous_month_credit             0\n",
              "current_month_debit               0\n",
              "previous_month_debit              0\n",
              "current_month_balance             0\n",
              "previous_month_balance            0\n",
              "churn                             0\n",
              "dtype: int64"
            ]
          },
          "metadata": {
            "tags": []
          },
          "execution_count": 76
        }
      ]
    },
    {
      "cell_type": "code",
      "metadata": {
        "id": "O5nL9Y3RVz6j",
        "colab_type": "code",
        "colab": {}
      },
      "source": [
        "df.drop(\"occupation\", axis = 1, inplace = True)"
      ],
      "execution_count": null,
      "outputs": []
    },
    {
      "cell_type": "markdown",
      "metadata": {
        "id": "uqVMsS6UbQah",
        "colab_type": "text"
      },
      "source": [
        "# Modelling"
      ]
    },
    {
      "cell_type": "code",
      "metadata": {
        "id": "jK7n3sD_bWCI",
        "colab_type": "code",
        "colab": {
          "base_uri": "https://localhost:8080/",
          "height": 296
        },
        "outputId": "28886ea7-5f97-4565-dd0f-bcb76867a299"
      },
      "source": [
        "df.plot.scatter('age', 'days_since_last_transaction')"
      ],
      "execution_count": null,
      "outputs": [
        {
          "output_type": "execute_result",
          "data": {
            "text/plain": [
              "<matplotlib.axes._subplots.AxesSubplot at 0x7f2465587278>"
            ]
          },
          "metadata": {
            "tags": []
          },
          "execution_count": 78
        },
        {
          "output_type": "display_data",
          "data": {
            "image/png": "[encoded data removed]",
            "text/plain": [
              "<Figure size 432x288 with 1 Axes>"
            ]
          },
          "metadata": {
            "tags": [],
            "needs_background": "light"
          }
        }
      ]
    },
    {
      "cell_type": "markdown",
      "metadata": {
        "id": "i0GG1gzQ3xDt",
        "colab_type": "text"
      },
      "source": [
        "# Droping the target column\n",
        "\n",
        "Two Variable are created namely X and y.\n",
        "* X stores the data set except the target column Churn\n",
        "* y stores only the target column "
      ]
    },
    {
      "cell_type": "code",
      "metadata": {
        "id": "nQ2tf_QF7RqN",
        "colab_type": "code",
        "colab": {}
      },
      "source": [
        "X = df.drop(\"churn\",axis = 1)\n",
        "y = df[\"churn\"]"
      ],
      "execution_count": null,
      "outputs": []
    },
    {
      "cell_type": "markdown",
      "metadata": {
        "id": "07moxe1Q7RqP",
        "colab_type": "text"
      },
      "source": [
        "# Encoding categorical variable with OnehotEncoder"
      ]
    },
    {
      "cell_type": "code",
      "metadata": {
        "id": "d12MVW8JVh4R",
        "colab_type": "code",
        "colab": {
          "base_uri": "https://localhost:8080/",
          "height": 151
        },
        "outputId": "75b3ce1b-1143-4fcf-b348-0e653e836c74"
      },
      "source": [
        "df.columns"
      ],
      "execution_count": null,
      "outputs": [
        {
          "output_type": "execute_result",
          "data": {
            "text/plain": [
              "Index(['customer_id', 'vintage', 'age', 'gender', 'dependents', 'city',\n",
              "       'customer_nw_category', 'branch_code', 'days_since_last_transaction',\n",
              "       'current_balance', 'previous_month_end_balance',\n",
              "       'average_monthly_balance_prevQ', 'average_monthly_balance_prevQ2',\n",
              "       'current_month_credit', 'previous_month_credit', 'current_month_debit',\n",
              "       'previous_month_debit', 'current_month_balance',\n",
              "       'previous_month_balance', 'churn', 'occupation_with_missing_data'],\n",
              "      dtype='object')"
            ]
          },
          "metadata": {
            "tags": []
          },
          "execution_count": 24
        }
      ]
    },
    {
      "cell_type": "code",
      "metadata": {
        "id": "A4Xddkcx7RqQ",
        "colab_type": "code",
        "colab": {
          "base_uri": "https://localhost:8080/",
          "height": 235
        },
        "outputId": "a0303412-a78a-409b-a908-4f5252b787ac"
      },
      "source": [
        "from sklearn.preprocessing import OneHotEncoder\n",
        "from sklearn.compose import ColumnTransformer\n",
        "\n",
        "categorical_features = [\"gender\"]\n",
        "one_hot = OneHotEncoder()\n",
        "transformer = ColumnTransformer([(\"one_hot\", \n",
        "                                 one_hot, \n",
        "                                 categorical_features)],\n",
        "                                 remainder=\"passthrough\")\n",
        "\n",
        "transformed_X = transformer.fit_transform(X)\n",
        "transformed_X"
      ],
      "execution_count": null,
      "outputs": [
        {
          "output_type": "execute_result",
          "data": {
            "text/plain": [
              "array([[0.000000e+00, 1.000000e+00, 0.000000e+00, ..., 2.000000e-01,\n",
              "        1.458710e+03, 1.458710e+03],\n",
              "       [0.000000e+00, 1.000000e+00, 0.000000e+00, ..., 1.005600e+02,\n",
              "        6.496780e+03, 8.787610e+03],\n",
              "       [0.000000e+00, 1.000000e+00, 0.000000e+00, ..., 2.592300e+02,\n",
              "        5.006280e+03, 5.070140e+03],\n",
              "       ...,\n",
              "       [0.000000e+00, 1.000000e+00, 0.000000e+00, ..., 7.180000e+01,\n",
              "        6.107850e+04, 5.756424e+04],\n",
              "       [0.000000e+00, 1.000000e+00, 0.000000e+00, ..., 2.000000e-01,\n",
              "        1.625550e+03, 1.625550e+03],\n",
              "       [0.000000e+00, 1.000000e+00, 0.000000e+00, ..., 1.094090e+03,\n",
              "        2.402620e+03, 3.260580e+03]])"
            ]
          },
          "metadata": {
            "tags": []
          },
          "execution_count": 42
        }
      ]
    },
    {
      "cell_type": "markdown",
      "metadata": {
        "id": "8csVrbqcCg4p",
        "colab_type": "text"
      },
      "source": [
        "# Different classification model"
      ]
    },
    {
      "cell_type": "code",
      "metadata": {
        "id": "mzYFuT6-7RqS",
        "colab_type": "code",
        "colab": {
          "base_uri": "https://localhost:8080/",
          "height": 34
        },
        "outputId": "1451d594-76bb-4cba-b478-358b83c4a795"
      },
      "source": [
        "from sklearn.ensemble import RandomForestClassifier\n",
        "from sklearn.model_selection import train_test_split\n",
        "np.random.seed(42)\n",
        "\n",
        "X_train, X_test, y_train, y_test = train_test_split(transformed_X, y, test_size = 0.2)\n",
        "\n",
        "\n",
        "clf = RandomForestClassifier(n_estimators = 20)\n",
        "clf.fit(X_train, y_train)\n",
        "clf.score(X_test, y_test)"
      ],
      "execution_count": null,
      "outputs": [
        {
          "output_type": "execute_result",
          "data": {
            "text/plain": [
              "0.8603135458869121"
            ]
          },
          "metadata": {
            "tags": []
          },
          "execution_count": 43
        }
      ]
    },
    {
      "cell_type": "code",
      "metadata": {
        "id": "6z8lAVEa_E4w",
        "colab_type": "code",
        "colab": {
          "base_uri": "https://localhost:8080/",
          "height": 34
        },
        "outputId": "a22bbfb9-ca61-4642-ae22-6fc6d398a933"
      },
      "source": [
        "from sklearn.linear_model import LogisticRegression\n",
        "\n",
        "model = LogisticRegression(max_iter = 100, n_jobs = -1)\n",
        "model.fit(X_train, y_train)\n",
        "model.score(X_test,y_test)"
      ],
      "execution_count": null,
      "outputs": [
        {
          "output_type": "execute_result",
          "data": {
            "text/plain": [
              "0.8316011978157477"
            ]
          },
          "metadata": {
            "tags": []
          },
          "execution_count": 44
        }
      ]
    },
    {
      "cell_type": "code",
      "metadata": {
        "id": "GvPINimReCgk",
        "colab_type": "code",
        "colab": {
          "base_uri": "https://localhost:8080/",
          "height": 34
        },
        "outputId": "bb34d386-e3cc-4e4c-9e73-3cd756ea8fe1"
      },
      "source": [
        "from sklearn.neighbors import KNeighborsClassifier\n",
        "\n",
        "model2 = KNeighborsClassifier()\n",
        "model2.fit(X_train,y_train)\n",
        "model2.score(X_test,y_test)"
      ],
      "execution_count": null,
      "outputs": [
        {
          "output_type": "execute_result",
          "data": {
            "text/plain": [
              "0.8374141271798485"
            ]
          },
          "metadata": {
            "tags": []
          },
          "execution_count": 45
        }
      ]
    },
    {
      "cell_type": "markdown",
      "metadata": {
        "id": "Lh81qwsO7RqW",
        "colab_type": "text"
      },
      "source": [
        "# confusion matrix"
      ]
    },
    {
      "cell_type": "code",
      "metadata": {
        "id": "0lDklJ6G7RqX",
        "colab_type": "code",
        "colab": {
          "base_uri": "https://localhost:8080/",
          "height": 286
        },
        "outputId": "ce5afda4-9d54-46ae-b75e-509ea1a3a6fc"
      },
      "source": [
        "from sklearn.metrics import confusion_matrix, classification_report, accuracy_score\n",
        "\n",
        "preds = clf.predict(X_test)\n",
        "print(\"confusion matrix:\\n \" , confusion_matrix( y_test, preds))\n",
        "print(\"accuracy score:\\n\", accuracy_score(y_test, preds))\n",
        "print(\"classification_report:\\n\\n\", classification_report( y_test, preds))"
      ],
      "execution_count": null,
      "outputs": [
        {
          "output_type": "stream",
          "text": [
            "confusion matrix:\n",
            "  [[4474  165]\n",
            " [ 628  410]]\n",
            "accuracy score:\n",
            " 0.8603135458869121\n",
            "classification_report:\n",
            "\n",
            "               precision    recall  f1-score   support\n",
            "\n",
            "           0       0.88      0.96      0.92      4639\n",
            "           1       0.71      0.39      0.51      1038\n",
            "\n",
            "    accuracy                           0.86      5677\n",
            "   macro avg       0.79      0.68      0.71      5677\n",
            "weighted avg       0.85      0.86      0.84      5677\n",
            "\n"
          ],
          "name": "stdout"
        }
      ]
    },
    {
      "cell_type": "code",
      "metadata": {
        "id": "mDofkuTMOk1G",
        "colab_type": "code",
        "colab": {
          "base_uri": "https://localhost:8080/",
          "height": 353
        },
        "outputId": "e15242e8-b39a-419e-e1d6-6f7563205823"
      },
      "source": [
        "preds = model.predict(X_test)\n",
        "print(\"confusion matrix:\\n \" , confusion_matrix( y_test, preds))\n",
        "print(\"\\n\\naccuracy score:\\n\", accuracy_score(y_test, preds))\n",
        "print(\"\\n\\nclassification_report:\\n\\n\", classification_report( y_test, preds))"
      ],
      "execution_count": null,
      "outputs": [
        {
          "output_type": "stream",
          "text": [
            "confusion matrix:\n",
            "  [[4605   34]\n",
            " [ 922  116]]\n",
            "\n",
            "\n",
            "accuracy score:\n",
            " 0.8316011978157477\n",
            "\n",
            "\n",
            "classification_report:\n",
            "\n",
            "               precision    recall  f1-score   support\n",
            "\n",
            "           0       0.83      0.99      0.91      4639\n",
            "           1       0.77      0.11      0.20      1038\n",
            "\n",
            "    accuracy                           0.83      5677\n",
            "   macro avg       0.80      0.55      0.55      5677\n",
            "weighted avg       0.82      0.83      0.78      5677\n",
            "\n"
          ],
          "name": "stdout"
        }
      ]
    },
    {
      "cell_type": "code",
      "metadata": {
        "id": "tJt0Q75XPDAy",
        "colab_type": "code",
        "colab": {
          "base_uri": "https://localhost:8080/",
          "height": 353
        },
        "outputId": "bd2da843-d76a-45c7-c411-ffde35da9c87"
      },
      "source": [
        "preds = model2.predict(X_test)\n",
        "print(\"confusion matrix:\\n \" , confusion_matrix( y_test, preds))\n",
        "print(\"\\n\\naccuracy score:\\n\", accuracy_score(y_test, preds))\n",
        "print(\"\\n\\nclassification_report:\\n\\n\", classification_report( y_test, preds))"
      ],
      "execution_count": null,
      "outputs": [
        {
          "output_type": "stream",
          "text": [
            "confusion matrix:\n",
            "  [[4419  220]\n",
            " [ 703  335]]\n",
            "\n",
            "\n",
            "accuracy score:\n",
            " 0.8374141271798485\n",
            "\n",
            "\n",
            "classification_report:\n",
            "\n",
            "               precision    recall  f1-score   support\n",
            "\n",
            "           0       0.86      0.95      0.91      4639\n",
            "           1       0.60      0.32      0.42      1038\n",
            "\n",
            "    accuracy                           0.84      5677\n",
            "   macro avg       0.73      0.64      0.66      5677\n",
            "weighted avg       0.82      0.84      0.82      5677\n",
            "\n"
          ],
          "name": "stdout"
        }
      ]
    },
    {
      "cell_type": "markdown",
      "metadata": {
        "id": "uNDL0p9AdoTy",
        "colab_type": "text"
      },
      "source": [
        "# Hyperparameter tuning"
      ]
    },
    {
      "cell_type": "markdown",
      "metadata": {
        "id": "MD_WqVFQEtqG",
        "colab_type": "text"
      },
      "source": [
        "## Hyperparameter tuning for KNN"
      ]
    },
    {
      "cell_type": "code",
      "metadata": {
        "id": "33mcSc4KEyey",
        "colab_type": "code",
        "colab": {}
      },
      "source": [
        "# Create a list of train scores\n",
        "train_scores = []\n",
        "\n",
        "# Create a list of test scores\n",
        "test_scores = []\n",
        "\n",
        "# Create a list of different values for n_neighbors\n",
        "neighbors = range(1, 21) # 1 to 20\n",
        "\n",
        "# Setup algorithm\n",
        "knn = KNeighborsClassifier()\n",
        "\n",
        "# Loop through different neighbors values\n",
        "for i in neighbors:\n",
        "    knn.set_params(n_neighbors = i) # set neighbors value\n",
        "    \n",
        "    # Fit the algorithm\n",
        "    knn.fit(X_train, y_train)\n",
        "    \n",
        "    # Update the training scores\n",
        "    train_scores.append(knn.score(X_train, y_train))\n",
        "    \n",
        "    # Update the test scores\n",
        "    test_scores.append(knn.score(X_test, y_test))"
      ],
      "execution_count": null,
      "outputs": []
    },
    {
      "cell_type": "code",
      "metadata": {
        "id": "SpDIATsNFPAk",
        "colab_type": "code",
        "colab": {
          "base_uri": "https://localhost:8080/",
          "height": 296
        },
        "outputId": "ca8c3b4b-3827-4461-ed77-c82aab19f2cc"
      },
      "source": [
        "plt.plot(neighbors, train_scores, label=\"Train score\")\n",
        "plt.plot(neighbors, test_scores, label=\"Test score\")\n",
        "plt.xticks(np.arange(1, 21, 1))\n",
        "plt.xlabel(\"Number of neighbors\")\n",
        "plt.ylabel(\"Model score\")\n",
        "plt.legend()\n",
        "\n",
        "print(f\"Maximum KNN score on the test data: {max(test_scores)*100:.2f}%\")"
      ],
      "execution_count": null,
      "outputs": [
        {
          "output_type": "stream",
          "text": [
            "Maximum KNN score on the test data: 84.59%\n"
          ],
          "name": "stdout"
        },
        {
          "output_type": "display_data",
          "data": {
            "image/png": "[encoded data removed]",
            "text/plain": [
              "<Figure size 432x288 with 1 Axes>"
            ]
          },
          "metadata": {
            "tags": [],
            "needs_background": "light"
          }
        }
      ]
    },
    {
      "cell_type": "code",
      "metadata": {
        "id": "7NzOmxLzFO89",
        "colab_type": "code",
        "colab": {
          "base_uri": "https://localhost:8080/",
          "height": 34
        },
        "outputId": "17e4f074-1bc5-4db3-ec51-83380d9c1e1a"
      },
      "source": [
        "model3 = KNeighborsClassifier(n_neighbors = 6)\n",
        "model3.fit(X_train,y_train)\n",
        "model3.score(X_test,y_test)"
      ],
      "execution_count": null,
      "outputs": [
        {
          "output_type": "execute_result",
          "data": {
            "text/plain": [
              "0.8404086665492337"
            ]
          },
          "metadata": {
            "tags": []
          },
          "execution_count": 51
        }
      ]
    },
    {
      "cell_type": "code",
      "metadata": {
        "id": "TuckdN11FO5H",
        "colab_type": "code",
        "colab": {
          "base_uri": "https://localhost:8080/",
          "height": 34
        },
        "outputId": "5689b37f-3c24-4a35-b39f-65d261ec9b70"
      },
      "source": [
        "model3 = KNeighborsClassifier(n_neighbors = 7)\n",
        "model3.fit(X_train,y_train)\n",
        "model3.score(X_test,y_test)"
      ],
      "execution_count": null,
      "outputs": [
        {
          "output_type": "execute_result",
          "data": {
            "text/plain": [
              "0.8458692971639951"
            ]
          },
          "metadata": {
            "tags": []
          },
          "execution_count": 52
        }
      ]
    },
    {
      "cell_type": "code",
      "metadata": {
        "id": "v4KyBJI1FO2v",
        "colab_type": "code",
        "colab": {}
      },
      "source": [
        "from sklearn.model_selection import cross_val_score\n",
        "\n",
        "model3 = KNeighborsClassifier(n_neighbors = 7)\n",
        "model_cv = cross_val_score(model3, transformed_X, y, cv = 5)                         "
      ],
      "execution_count": null,
      "outputs": []
    },
    {
      "cell_type": "code",
      "metadata": {
        "id": "B_b9qd2yInPN",
        "colab_type": "code",
        "colab": {}
      },
      "source": [
        "model_cv = cross_val_score(model3, transformed_X, y, cv = 5, scoring = \"recall\")     "
      ],
      "execution_count": null,
      "outputs": []
    },
    {
      "cell_type": "code",
      "metadata": {
        "id": "LoHxY_AWFOw3",
        "colab_type": "code",
        "colab": {
          "base_uri": "https://localhost:8080/",
          "height": 34
        },
        "outputId": "cb66191d-cdb7-4d22-a7dc-6e3cf84ef2bd"
      },
      "source": [
        "model_cv"
      ],
      "execution_count": null,
      "outputs": [
        {
          "output_type": "execute_result",
          "data": {
            "text/plain": [
              "array([0.26330798, 0.32319392, 0.35456274, 0.30893536, 0.21007605])"
            ]
          },
          "metadata": {
            "tags": []
          },
          "execution_count": 62
        }
      ]
    },
    {
      "cell_type": "code",
      "metadata": {
        "id": "jJy0ad-XFOtA",
        "colab_type": "code",
        "colab": {
          "base_uri": "https://localhost:8080/",
          "height": 34
        },
        "outputId": "cafc23d9-1fe4-41c3-ff85-b4a45653f7cb"
      },
      "source": [
        "model_cv.mean()"
      ],
      "execution_count": null,
      "outputs": [
        {
          "output_type": "execute_result",
          "data": {
            "text/plain": [
              "0.2920152091254753"
            ]
          },
          "metadata": {
            "tags": []
          },
          "execution_count": 63
        }
      ]
    },
    {
      "cell_type": "markdown",
      "metadata": {
        "id": "5pBwAJkyLBmn",
        "colab_type": "text"
      },
      "source": [
        "## Hyperparameter tuning for Logistic Regression"
      ]
    },
    {
      "cell_type": "code",
      "metadata": {
        "id": "EbPLSCqFPP8z",
        "colab_type": "code",
        "colab": {}
      },
      "source": [
        "log_reg_grid = { \"C\": np.logspace(-4, 4, 20),\n",
        "                \"solver\": [\"liblinear\"]}"
      ],
      "execution_count": null,
      "outputs": []
    },
    {
      "cell_type": "code",
      "metadata": {
        "id": "juQJ7Dl7FOqD",
        "colab_type": "code",
        "colab": {
          "base_uri": "https://localhost:8080/",
          "height": 420
        },
        "outputId": "6256af7d-ad20-435c-bb39-b12518009859"
      },
      "source": [
        "from sklearn.model_selection import RandomizedSearchCV\n",
        "np.random.seed(42)\n",
        "\n",
        "rs_log_reg = RandomizedSearchCV(LogisticRegression(),\n",
        "                                param_distributions = log_reg_grid,\n",
        "                                n_jobs = -1,\n",
        "                                cv = 5,\n",
        "                                n_iter = 20,\n",
        "                                verbose = True)\n",
        "\n",
        "rs_log_reg.fit(X_train,y_train)"
      ],
      "execution_count": null,
      "outputs": [
        {
          "output_type": "stream",
          "text": [
            "Fitting 5 folds for each of 20 candidates, totalling 100 fits\n"
          ],
          "name": "stdout"
        },
        {
          "output_type": "stream",
          "text": [
            "[Parallel(n_jobs=-1)]: Using backend LokyBackend with 2 concurrent workers.\n",
            "[Parallel(n_jobs=-1)]: Done  46 tasks      | elapsed:   32.8s\n",
            "[Parallel(n_jobs=-1)]: Done 100 out of 100 | elapsed:  1.1min finished\n",
            "/usr/local/lib/python3.6/dist-packages/sklearn/svm/_base.py:947: ConvergenceWarning: Liblinear failed to converge, increase the number of iterations.\n",
            "  \"the number of iterations.\", ConvergenceWarning)\n"
          ],
          "name": "stderr"
        },
        {
          "output_type": "execute_result",
          "data": {
            "text/plain": [
              "RandomizedSearchCV(cv=5, error_score=nan,\n",
              "                   estimator=LogisticRegression(C=1.0, class_weight=None,\n",
              "                                                dual=False, fit_intercept=True,\n",
              "                                                intercept_scaling=1,\n",
              "                                                l1_ratio=None, max_iter=100,\n",
              "                                                multi_class='auto', n_jobs=None,\n",
              "                                                penalty='l2', random_state=None,\n",
              "                                                solver='lbfgs', tol=0.0001,\n",
              "                                                verbose=0, warm_start=False),\n",
              "                   iid='deprecated', n_iter=20, n_jobs=-1,\n",
              "                   param_distributions={'C': ar...\n",
              "       4.83293024e-03, 1.27427499e-02, 3.35981829e-02, 8.85866790e-02,\n",
              "       2.33572147e-01, 6.15848211e-01, 1.62377674e+00, 4.28133240e+00,\n",
              "       1.12883789e+01, 2.97635144e+01, 7.84759970e+01, 2.06913808e+02,\n",
              "       5.45559478e+02, 1.43844989e+03, 3.79269019e+03, 1.00000000e+04]),\n",
              "                                        'solver': ['liblinear']},\n",
              "                   pre_dispatch='2*n_jobs', random_state=None, refit=True,\n",
              "                   return_train_score=False, scoring=None, verbose=True)"
            ]
          },
          "metadata": {
            "tags": []
          },
          "execution_count": 66
        }
      ]
    },
    {
      "cell_type": "code",
      "metadata": {
        "id": "To6jagKUFOmk",
        "colab_type": "code",
        "colab": {
          "base_uri": "https://localhost:8080/",
          "height": 34
        },
        "outputId": "6729160a-f5ed-4b08-853f-cc405d66ac64"
      },
      "source": [
        "rs_log_reg.best_params_"
      ],
      "execution_count": null,
      "outputs": [
        {
          "output_type": "execute_result",
          "data": {
            "text/plain": [
              "{'C': 0.615848211066026, 'solver': 'liblinear'}"
            ]
          },
          "metadata": {
            "tags": []
          },
          "execution_count": 67
        }
      ]
    },
    {
      "cell_type": "code",
      "metadata": {
        "id": "fhbTn1nTV2K1",
        "colab_type": "code",
        "colab": {
          "base_uri": "https://localhost:8080/",
          "height": 67
        },
        "outputId": "38e42df2-8100-48c2-e89e-e3d94778a402"
      },
      "source": [
        "model = LogisticRegression( C = 0.615848211066026,\n",
        "                           solver = \"liblinear\")\n",
        "model.fit(X_train,y_train)\n",
        "model.score(X_test,y_test)"
      ],
      "execution_count": null,
      "outputs": [
        {
          "output_type": "stream",
          "text": [
            "/usr/local/lib/python3.6/dist-packages/sklearn/svm/_base.py:947: ConvergenceWarning: Liblinear failed to converge, increase the number of iterations.\n",
            "  \"the number of iterations.\", ConvergenceWarning)\n"
          ],
          "name": "stderr"
        },
        {
          "output_type": "execute_result",
          "data": {
            "text/plain": [
              "0.8312488990664083"
            ]
          },
          "metadata": {
            "tags": []
          },
          "execution_count": 73
        }
      ]
    },
    {
      "cell_type": "code",
      "metadata": {
        "id": "9wqg0gyqFOh6",
        "colab_type": "code",
        "colab": {
          "base_uri": "https://localhost:8080/",
          "height": 34
        },
        "outputId": "d0e2d368-f073-4494-d7d9-571276ca66a0"
      },
      "source": [
        "rs_log_reg.score(X_test,y_test)"
      ],
      "execution_count": null,
      "outputs": [
        {
          "output_type": "execute_result",
          "data": {
            "text/plain": [
              "0.8312488990664083"
            ]
          },
          "metadata": {
            "tags": []
          },
          "execution_count": 68
        }
      ]
    },
    {
      "cell_type": "code",
      "metadata": {
        "id": "JAGj-9SgFOen",
        "colab_type": "code",
        "colab": {
          "base_uri": "https://localhost:8080/",
          "height": 202
        },
        "outputId": "16a8f80f-3f6e-4ec4-ce66-8a1092d70ac1"
      },
      "source": [
        "print(\"classification_report:\\n\\n\", classification_report( y_test, preds))"
      ],
      "execution_count": null,
      "outputs": [
        {
          "output_type": "stream",
          "text": [
            "classification_report:\n",
            "\n",
            "               precision    recall  f1-score   support\n",
            "\n",
            "           0       0.86      0.95      0.91      4639\n",
            "           1       0.60      0.32      0.42      1038\n",
            "\n",
            "    accuracy                           0.84      5677\n",
            "   macro avg       0.73      0.64      0.66      5677\n",
            "weighted avg       0.82      0.84      0.82      5677\n",
            "\n"
          ],
          "name": "stdout"
        }
      ]
    },
    {
      "cell_type": "code",
      "metadata": {
        "id": "9p5CDGc9FNxS",
        "colab_type": "code",
        "colab": {
          "base_uri": "https://localhost:8080/",
          "height": 420
        },
        "outputId": "9a658021-dc5e-497e-f9e9-ac04325c28e9"
      },
      "source": [
        "from sklearn.model_selection import GridSearchCV\n",
        "\n",
        "gs_clf = GridSearchCV(LogisticRegression() ,\n",
        "                      param_grid = log_reg_grid,\n",
        "                      cv = 5,\n",
        "                      n_jobs = -1,\n",
        "                      verbose = 2,\n",
        "                      refit = True\n",
        "                     )\n",
        "\n",
        "gs_clf.fit(X_train,y_train)"
      ],
      "execution_count": null,
      "outputs": [
        {
          "output_type": "stream",
          "text": [
            "Fitting 5 folds for each of 20 candidates, totalling 100 fits\n"
          ],
          "name": "stdout"
        },
        {
          "output_type": "stream",
          "text": [
            "[Parallel(n_jobs=-1)]: Using backend LokyBackend with 2 concurrent workers.\n",
            "[Parallel(n_jobs=-1)]: Done  37 tasks      | elapsed:   26.8s\n",
            "[Parallel(n_jobs=-1)]: Done 100 out of 100 | elapsed:  1.1min finished\n",
            "/usr/local/lib/python3.6/dist-packages/sklearn/svm/_base.py:947: ConvergenceWarning: Liblinear failed to converge, increase the number of iterations.\n",
            "  \"the number of iterations.\", ConvergenceWarning)\n"
          ],
          "name": "stderr"
        },
        {
          "output_type": "execute_result",
          "data": {
            "text/plain": [
              "GridSearchCV(cv=5, error_score=nan,\n",
              "             estimator=LogisticRegression(C=1.0, class_weight=None, dual=False,\n",
              "                                          fit_intercept=True,\n",
              "                                          intercept_scaling=1, l1_ratio=None,\n",
              "                                          max_iter=100, multi_class='auto',\n",
              "                                          n_jobs=None, penalty='l2',\n",
              "                                          random_state=None, solver='lbfgs',\n",
              "                                          tol=0.0001, verbose=0,\n",
              "                                          warm_start=False),\n",
              "             iid='deprecated', n_jobs=-1,\n",
              "             param_grid={'C': array([1.00000000e-04, 2.636...,\n",
              "       4.83293024e-03, 1.27427499e-02, 3.35981829e-02, 8.85866790e-02,\n",
              "       2.33572147e-01, 6.15848211e-01, 1.62377674e+00, 4.28133240e+00,\n",
              "       1.12883789e+01, 2.97635144e+01, 7.84759970e+01, 2.06913808e+02,\n",
              "       5.45559478e+02, 1.43844989e+03, 3.79269019e+03, 1.00000000e+04]),\n",
              "                         'solver': ['liblinear']},\n",
              "             pre_dispatch='2*n_jobs', refit=True, return_train_score=False,\n",
              "             scoring=None, verbose=2)"
            ]
          },
          "metadata": {
            "tags": []
          },
          "execution_count": 70
        }
      ]
    },
    {
      "cell_type": "code",
      "metadata": {
        "id": "TSZePNKQVsZD",
        "colab_type": "code",
        "colab": {
          "base_uri": "https://localhost:8080/",
          "height": 34
        },
        "outputId": "b8c004da-b607-40b8-f921-99e4e844ae5a"
      },
      "source": [
        "gs_clf.best_params_"
      ],
      "execution_count": null,
      "outputs": [
        {
          "output_type": "execute_result",
          "data": {
            "text/plain": [
              "{'C': 0.615848211066026, 'solver': 'liblinear'}"
            ]
          },
          "metadata": {
            "tags": []
          },
          "execution_count": 71
        }
      ]
    },
    {
      "cell_type": "code",
      "metadata": {
        "id": "HlQ2koW5VsE8",
        "colab_type": "code",
        "colab": {
          "base_uri": "https://localhost:8080/",
          "height": 34
        },
        "outputId": "e9d81182-494b-45ab-c753-51d232a8a3f6"
      },
      "source": [
        "gs_clf.score(X_test,y_test)"
      ],
      "execution_count": null,
      "outputs": [
        {
          "output_type": "execute_result",
          "data": {
            "text/plain": [
              "0.8312488990664083"
            ]
          },
          "metadata": {
            "tags": []
          },
          "execution_count": 74
        }
      ]
    },
    {
      "cell_type": "code",
      "metadata": {
        "id": "GHaMvAzEVr4h",
        "colab_type": "code",
        "colab": {}
      },
      "source": [
        ""
      ],
      "execution_count": null,
      "outputs": []
    },
    {
      "cell_type": "markdown",
      "metadata": {
        "id": "3KeSusXab49F",
        "colab_type": "text"
      },
      "source": [
        "## Hyper-parameter Tuning for RandomForestClassifier()"
      ]
    },
    {
      "cell_type": "markdown",
      "metadata": {
        "id": "kaI8iPszmov3",
        "colab_type": "text"
      },
      "source": [
        "### RandomizedSearchCV"
      ]
    },
    {
      "cell_type": "code",
      "metadata": {
        "id": "ktVVih1mb3g7",
        "colab_type": "code",
        "colab": {
          "base_uri": "https://localhost:8080/",
          "height": 554
        },
        "outputId": "ece81b82-e47a-47a9-f9a4-7387633d1aa6"
      },
      "source": [
        "from sklearn.model_selection import RandomizedSearchCV\n",
        "\n",
        "rs_grid = {\"n_estimators\": [10,100,200],\n",
        "            \"max_depth\": [None,10,20],\n",
        "            \"min_samples_split\": [2],\n",
        "            \"max_features\": [\"auto\", \"sqrt\"],\n",
        "            \"min_samples_leaf\": [1,4]}\n",
        "\n",
        "clf = RandomForestClassifier()\n",
        "\n",
        "rs_clf = RandomizedSearchCV(estimator = clf,\n",
        "                            param_distributions = rs_grid,\n",
        "                            n_jobs = -1,\n",
        "                            n_iter = 10,\n",
        "                            cv = 5,\n",
        "                            verbose = 2,\n",
        "                            random_state = 42,\n",
        "                            refit = True)\n",
        "\n",
        "rs_clf.fit(X_train,y_train)"
      ],
      "execution_count": null,
      "outputs": [
        {
          "output_type": "stream",
          "text": [
            "Fitting 5 folds for each of 10 candidates, totalling 50 fits\n"
          ],
          "name": "stdout"
        },
        {
          "output_type": "stream",
          "text": [
            "[Parallel(n_jobs=-1)]: Using backend LokyBackend with 2 concurrent workers.\n",
            "[Parallel(n_jobs=-1)]: Done  37 tasks      | elapsed:  2.6min\n",
            "[Parallel(n_jobs=-1)]: Done  50 out of  50 | elapsed:  4.1min finished\n"
          ],
          "name": "stderr"
        },
        {
          "output_type": "execute_result",
          "data": {
            "text/plain": [
              "RandomizedSearchCV(cv=5, error_score=nan,\n",
              "                   estimator=RandomForestClassifier(bootstrap=True,\n",
              "                                                    ccp_alpha=0.0,\n",
              "                                                    class_weight=None,\n",
              "                                                    criterion='gini',\n",
              "                                                    max_depth=None,\n",
              "                                                    max_features='auto',\n",
              "                                                    max_leaf_nodes=None,\n",
              "                                                    max_samples=None,\n",
              "                                                    min_impurity_decrease=0.0,\n",
              "                                                    min_impurity_split=None,\n",
              "                                                    min_samples_leaf=1,\n",
              "                                                    min_samples_split=2,\n",
              "                                                    min_weight_fraction_leaf=0.0,\n",
              "                                                    n_estimators=100,\n",
              "                                                    n_jobs...\n",
              "                                                    oob_score=False,\n",
              "                                                    random_state=None,\n",
              "                                                    verbose=0,\n",
              "                                                    warm_start=False),\n",
              "                   iid='deprecated', n_iter=10, n_jobs=-1,\n",
              "                   param_distributions={'max_depth': [None, 10, 20],\n",
              "                                        'max_features': ['auto', 'sqrt'],\n",
              "                                        'min_samples_leaf': [1, 4],\n",
              "                                        'min_samples_split': [2],\n",
              "                                        'n_estimators': [10, 100, 200]},\n",
              "                   pre_dispatch='2*n_jobs', random_state=42, refit=True,\n",
              "                   return_train_score=False, scoring=None, verbose=2)"
            ]
          },
          "metadata": {
            "tags": []
          },
          "execution_count": 29
        }
      ]
    },
    {
      "cell_type": "code",
      "metadata": {
        "id": "gR3-Yco2Cppl",
        "colab_type": "code",
        "colab": {
          "base_uri": "https://localhost:8080/",
          "height": 101
        },
        "outputId": "75adc1a3-7b8c-4581-eac2-1d7634e5cfa0"
      },
      "source": [
        "rs_clf.best_params_"
      ],
      "execution_count": null,
      "outputs": [
        {
          "output_type": "execute_result",
          "data": {
            "text/plain": [
              "{'max_depth': 20,\n",
              " 'max_features': 'sqrt',\n",
              " 'min_samples_leaf': 4,\n",
              " 'min_samples_split': 2,\n",
              " 'n_estimators': 200}"
            ]
          },
          "metadata": {
            "tags": []
          },
          "execution_count": 30
        }
      ]
    },
    {
      "cell_type": "code",
      "metadata": {
        "id": "3wxP0HfWqmpD",
        "colab_type": "code",
        "colab": {
          "base_uri": "https://localhost:8080/",
          "height": 34
        },
        "outputId": "4ef13e74-b24d-4f37-c19f-adb1377851d2"
      },
      "source": [
        "rs_clf.score(X_test,y_test)"
      ],
      "execution_count": null,
      "outputs": [
        {
          "output_type": "execute_result",
          "data": {
            "text/plain": [
              "0.8661264752510128"
            ]
          },
          "metadata": {
            "tags": []
          },
          "execution_count": 31
        }
      ]
    },
    {
      "cell_type": "code",
      "metadata": {
        "id": "3cFk3-XA-qmF",
        "colab_type": "code",
        "colab": {}
      },
      "source": [
        "clf = RandomForestClassifier( max_depth = 20,\n",
        "                          max_features = 'sqrt',\n",
        "                          min_samples_leaf= 4,\n",
        "                          min_samples_split= 2,\n",
        "                          n_estimators = 200)"
      ],
      "execution_count": null,
      "outputs": []
    },
    {
      "cell_type": "markdown",
      "metadata": {
        "id": "PUBESwzlq2OW",
        "colab_type": "text"
      },
      "source": [
        "### GridSearchCV"
      ]
    },
    {
      "cell_type": "code",
      "metadata": {
        "id": "L3tn5ox8q6z_",
        "colab_type": "code",
        "colab": {
          "base_uri": "https://localhost:8080/",
          "height": 504
        },
        "outputId": "6ae159d9-eca5-4945-cff8-c8ed172efc09"
      },
      "source": [
        "from sklearn.model_selection import GridSearchCV\n",
        "\n",
        "gs_grid = {\"n_estimators\": [20,100,200],\n",
        "           \"max_depth\": [10,20],\n",
        "           \"max_features\": [\"auto\", \"sqrt\"],\n",
        "           \"min_samples_split\": [2],\n",
        "           \"min_samples_leaf\": [1,2,4]}\n",
        "\n",
        "clf = RandomForestClassifier()\n",
        "\n",
        "gs_clf = GridSearchCV(estimator = clf,\n",
        "                      param_grid = gs_grid,\n",
        "                      cv = 5,\n",
        "                      n_jobs = -1,\n",
        "                      verbose = 2,\n",
        "                      refit = True\n",
        "                     )\n",
        "\n",
        "gs_clf.fit(X_train,y_train)"
      ],
      "execution_count": null,
      "outputs": [
        {
          "output_type": "stream",
          "text": [
            "Fitting 5 folds for each of 36 candidates, totalling 180 fits\n"
          ],
          "name": "stdout"
        },
        {
          "output_type": "stream",
          "text": [
            "[Parallel(n_jobs=-1)]: Using backend LokyBackend with 2 concurrent workers.\n",
            "[Parallel(n_jobs=-1)]: Done  37 tasks      | elapsed:  1.9min\n",
            "[Parallel(n_jobs=-1)]: Done 158 tasks      | elapsed: 10.7min\n",
            "[Parallel(n_jobs=-1)]: Done 180 out of 180 | elapsed: 13.0min finished\n"
          ],
          "name": "stderr"
        },
        {
          "output_type": "execute_result",
          "data": {
            "text/plain": [
              "GridSearchCV(cv=5, error_score=nan,\n",
              "             estimator=RandomForestClassifier(bootstrap=True, ccp_alpha=0.0,\n",
              "                                              class_weight=None,\n",
              "                                              criterion='gini', max_depth=None,\n",
              "                                              max_features='auto',\n",
              "                                              max_leaf_nodes=None,\n",
              "                                              max_samples=None,\n",
              "                                              min_impurity_decrease=0.0,\n",
              "                                              min_impurity_split=None,\n",
              "                                              min_samples_leaf=1,\n",
              "                                              min_samples_split=2,\n",
              "                                              min_weight_fraction_leaf=0.0,\n",
              "                                              n_estimators=100, n_jobs=None,\n",
              "                                              oob_score=False,\n",
              "                                              random_state=None, verbose=0,\n",
              "                                              warm_start=False),\n",
              "             iid='deprecated', n_jobs=-1,\n",
              "             param_grid={'max_depth': [10, 20],\n",
              "                         'max_features': ['auto', 'sqrt'],\n",
              "                         'min_samples_leaf': [1, 2, 4],\n",
              "                         'min_samples_split': [2],\n",
              "                         'n_estimators': [20, 100, 200]},\n",
              "             pre_dispatch='2*n_jobs', refit=True, return_train_score=False,\n",
              "             scoring=None, verbose=2)"
            ]
          },
          "metadata": {
            "tags": []
          },
          "execution_count": 34
        }
      ]
    },
    {
      "cell_type": "code",
      "metadata": {
        "id": "gxBxeH20tLgm",
        "colab_type": "code",
        "colab": {
          "base_uri": "https://localhost:8080/",
          "height": 101
        },
        "outputId": "60252dbe-9c96-4205-ea2e-874068b25f68"
      },
      "source": [
        "gs_clf.best_params_"
      ],
      "execution_count": null,
      "outputs": [
        {
          "output_type": "execute_result",
          "data": {
            "text/plain": [
              "{'max_depth': 20,\n",
              " 'max_features': 'sqrt',\n",
              " 'min_samples_leaf': 2,\n",
              " 'min_samples_split': 2,\n",
              " 'n_estimators': 200}"
            ]
          },
          "metadata": {
            "tags": []
          },
          "execution_count": 35
        }
      ]
    },
    {
      "cell_type": "code",
      "metadata": {
        "id": "17G47tvfthoE",
        "colab_type": "code",
        "colab": {
          "base_uri": "https://localhost:8080/",
          "height": 34
        },
        "outputId": "d9b0a2fe-fed7-4df1-8a4d-c7c0be726589"
      },
      "source": [
        "gs_clf.score(X_test,y_test)"
      ],
      "execution_count": null,
      "outputs": [
        {
          "output_type": "execute_result",
          "data": {
            "text/plain": [
              "0.866654923375022"
            ]
          },
          "metadata": {
            "tags": []
          },
          "execution_count": 36
        }
      ]
    },
    {
      "cell_type": "code",
      "metadata": {
        "id": "M2sfsi10-YK9",
        "colab_type": "code",
        "colab": {}
      },
      "source": [
        "clf = RandomForestClassifier( max_depth = 20,\n",
        "                          max_features = 'sqrt',\n",
        "                          min_samples_leaf= 2,\n",
        "                          min_samples_split= 2,\n",
        "                          n_estimators = 200)"
      ],
      "execution_count": null,
      "outputs": []
    },
    {
      "cell_type": "markdown",
      "metadata": {
        "id": "fP-BNvgX44qg",
        "colab_type": "text"
      },
      "source": [
        "## Best Parameters"
      ]
    },
    {
      "cell_type": "code",
      "metadata": {
        "id": "rZlcuziQ6QfA",
        "colab_type": "code",
        "colab": {
          "base_uri": "https://localhost:8080/",
          "height": 34
        },
        "outputId": "bcdef0d7-6115-43af-c979-0efa9ffe0e25"
      },
      "source": [
        "from sklearn.model_selection import cross_val_score\n",
        "\n",
        "cv_acc = cross_val_score(clf,\n",
        "                         transformed_X,\n",
        "                         y,\n",
        "                         cv = 5,\n",
        "                         scoring = \"accuracy\")\n",
        "cv_acc"
      ],
      "execution_count": null,
      "outputs": [
        {
          "output_type": "execute_result",
          "data": {
            "text/plain": [
              "array([0.86595033, 0.86665492, 0.86205074, 0.86909796, 0.86028894])"
            ]
          },
          "metadata": {
            "tags": []
          },
          "execution_count": 38
        }
      ]
    },
    {
      "cell_type": "code",
      "metadata": {
        "id": "DSIlCvTh7_s5",
        "colab_type": "code",
        "colab": {
          "base_uri": "https://localhost:8080/",
          "height": 34
        },
        "outputId": "9272e532-6421-4b5f-ce5a-6c9b654dd2ae"
      },
      "source": [
        "cv_acc.mean()"
      ],
      "execution_count": null,
      "outputs": [
        {
          "output_type": "execute_result",
          "data": {
            "text/plain": [
              "0.8648085762773345"
            ]
          },
          "metadata": {
            "tags": []
          },
          "execution_count": 39
        }
      ]
    },
    {
      "cell_type": "code",
      "metadata": {
        "id": "5ZbuV7CY9R7b",
        "colab_type": "code",
        "colab": {
          "base_uri": "https://localhost:8080/",
          "height": 34
        },
        "outputId": "b2c5b1fe-8238-4aee-e931-3b28f44765a4"
      },
      "source": [
        "cv_pre = cross_val_score(clf,\n",
        "                         transformed_X,\n",
        "                         y,\n",
        "                         cv = 5,\n",
        "                         scoring = \"precision\")\n",
        "cv_pre"
      ],
      "execution_count": null,
      "outputs": [
        {
          "output_type": "execute_result",
          "data": {
            "text/plain": [
              "array([0.75      , 0.71674491, 0.71361502, 0.74677419, 0.74597496])"
            ]
          },
          "metadata": {
            "tags": []
          },
          "execution_count": 40
        }
      ]
    },
    {
      "cell_type": "code",
      "metadata": {
        "id": "lqXbVQwo9R1Q",
        "colab_type": "code",
        "colab": {
          "base_uri": "https://localhost:8080/",
          "height": 34
        },
        "outputId": "fc13a1a1-3918-45e6-f404-b54bd970c7ae"
      },
      "source": [
        "cv_rec = cross_val_score(clf,\n",
        "                         transformed_X,\n",
        "                         y,\n",
        "                         cv = 5,\n",
        "                         scoring = \"recall\")\n",
        "cv_rec"
      ],
      "execution_count": null,
      "outputs": [
        {
          "output_type": "execute_result",
          "data": {
            "text/plain": [
              "array([0.4039924 , 0.43536122, 0.44011407, 0.44486692, 0.37072243])"
            ]
          },
          "metadata": {
            "tags": []
          },
          "execution_count": 41
        }
      ]
    },
    {
      "cell_type": "code",
      "metadata": {
        "id": "0mD7v_u_9RvO",
        "colab_type": "code",
        "colab": {
          "base_uri": "https://localhost:8080/",
          "height": 34
        },
        "outputId": "ab722035-5e30-4d44-cd75-c6994c1d48e5"
      },
      "source": [
        "cv_f1 = cross_val_score(clf,\n",
        "                         transformed_X,\n",
        "                         y,\n",
        "                         cv = 5,\n",
        "                         scoring = \"f1\")\n",
        "cv_f1"
      ],
      "execution_count": null,
      "outputs": [
        {
          "output_type": "execute_result",
          "data": {
            "text/plain": [
              "array([0.53259533, 0.54620853, 0.54502649, 0.55209581, 0.51407129])"
            ]
          },
          "metadata": {
            "tags": []
          },
          "execution_count": 42
        }
      ]
    },
    {
      "cell_type": "code",
      "metadata": {
        "id": "WRLh-4zhNX35",
        "colab_type": "code",
        "colab": {
          "base_uri": "https://localhost:8080/",
          "height": 34
        },
        "outputId": "1439f1d4-d82b-4199-e5c9-ffe0418e9641"
      },
      "source": [
        "cv_rec.mean()"
      ],
      "execution_count": null,
      "outputs": [
        {
          "output_type": "execute_result",
          "data": {
            "text/plain": [
              "0.4190114068441065"
            ]
          },
          "metadata": {
            "tags": []
          },
          "execution_count": 44
        }
      ]
    },
    {
      "cell_type": "code",
      "metadata": {
        "id": "ctCPci1T9RqP",
        "colab_type": "code",
        "colab": {
          "base_uri": "https://localhost:8080/",
          "height": 317
        },
        "outputId": "207d7ada-0c16-4b1d-a4d9-8086ca82e8e7"
      },
      "source": [
        "cv_metrics = pd.DataFrame({\"accuracy\": cv_acc.mean(),\n",
        "                           \"precision\": cv_pre.mean(),\n",
        "                           \"f1\": cv_f1.mean(),\n",
        "                           \"recall\": cv_rec.mean()},\n",
        "                          index = [0])\n",
        "cv_metrics.T.plot.bar(legend = False)"
      ],
      "execution_count": null,
      "outputs": [
        {
          "output_type": "execute_result",
          "data": {
            "text/plain": [
              "<matplotlib.axes._subplots.AxesSubplot at 0x7f1433c192b0>"
            ]
          },
          "metadata": {
            "tags": []
          },
          "execution_count": 43
        },
        {
          "output_type": "display_data",
          "data": {
            "image/png": "[encoded data removed]",
            "text/plain": [
              "<Figure size 432x288 with 1 Axes>"
            ]
          },
          "metadata": {
            "tags": [],
            "needs_background": "light"
          }
        }
      ]
    },
    {
      "cell_type": "code",
      "metadata": {
        "id": "gVXt9U-B9Rdc",
        "colab_type": "code",
        "colab": {}
      },
      "source": [
        ""
      ],
      "execution_count": null,
      "outputs": []
    },
    {
      "cell_type": "code",
      "metadata": {
        "id": "8-syqUVV9Q6p",
        "colab_type": "code",
        "colab": {}
      },
      "source": [
        ""
      ],
      "execution_count": null,
      "outputs": []
    },
    {
      "cell_type": "markdown",
      "metadata": {
        "id": "U2xppgvHuUhD",
        "colab_type": "text"
      },
      "source": [
        "# Export"
      ]
    },
    {
      "cell_type": "code",
      "metadata": {
        "id": "1GZFw4T7uYmG",
        "colab_type": "code",
        "colab": {}
      },
      "source": [
        "import pickle\n",
        "filename = \"finalized_model.save\"\n",
        "pickle.dump(clf, open(filename, \"wb\"))"
      ],
      "execution_count": null,
      "outputs": []
    },
    {
      "cell_type": "code",
      "metadata": {
        "id": "ewrChel3_RRl",
        "colab_type": "code",
        "colab": {
          "base_uri": "https://localhost:8080/",
          "height": 34
        },
        "outputId": "f2b72041-665d-43f7-da53-c739eb774e5a"
      },
      "source": [
        "loaded_model = pickle.load(open(filename,\"rb\"))\n",
        "loaded_model.fit(X_train,y_train)\n",
        "result =loaded_model.score(X_test,y_test)\n",
        "print(result)"
      ],
      "execution_count": null,
      "outputs": [
        {
          "output_type": "stream",
          "text": [
            "0.8670072221243614\n"
          ],
          "name": "stdout"
        }
      ]
    },
    {
      "cell_type": "code",
      "metadata": {
        "id": "KuFEbpPbDEDi",
        "colab_type": "code",
        "colab": {}
      },
      "source": [
        ""
      ],
      "execution_count": null,
      "outputs": []
    }
  ]
}