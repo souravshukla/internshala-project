{
  "nbformat": 4,
  "nbformat_minor": 0,
  "metadata": {
    "colab": {
      "name": "churn_prediction.ipynb",
      "provenance": []
    },
    "kernelspec": {
      "name": "python3",
      "display_name": "Python 3"
    }
  },
  "cells": [
    {
      "cell_type": "markdown",
      "metadata": {
        "id": "56NbRTsOU5bI",
        "colab_type": "text"
      },
      "source": [
        "# Customer Churn Prediction:\n",
        "A Bank wants to take care of customer retention for its product: savings accounts. The bank wants you to identify customers likely to churn balances below the minimum balance. You have the customers information such as age, gender, demographics along with their transactions with the bank.\n",
        "Your task as a data scientist would be to predict the propensity to churn for each customer."
      ]
    },
    {
      "cell_type": "markdown",
      "metadata": {
        "id": "1XxzKPMoU7jM",
        "colab_type": "text"
      },
      "source": [
        "## Data Dictionary\n",
        "There are multiple variables in the dataset which can be cleanly divided into 3 categories:\n",
        "\n",
        "## I. Demographic information about customers\n",
        "\n",
        "       •\tcustomer_id - Customer id \n",
        "       •\tvintage - Vintage of the customer with the bank in a number of days \n",
        "       •\tage - Age of customer \n",
        "       •\tgender - Gender of customer \n",
        "       •\tdependents - Number of dependents \n",
        "       •\toccupation - Occupation of the customer \n",
        "       •\tcity - City of the customer (anonymized) \n",
        "       \n",
        "## II. Customer Bank Relationship\n",
        "\n",
        "       •\tcustomer_nw_category - Net worth of customer (3: Low 2: Medium 1: High) \n",
        "       •\tbranch_code - Branch Code for a customer account \n",
        "       •\tdays_since_last_transaction - No of Days Since Last Credit in Last 1 year \n",
        "\n",
        "## III. Transactional Information\n",
        "       •\tcurrent_balance - Balance as of today \n",
        "       •\tprevious_month_end_balance - End of Month Balance of previous month \n",
        "       •\taverage_monthly_balance_prevQ - Average monthly balances (AMB) in Previous Quarter \n",
        "       •\taverage_monthly_balance_prevQ2 - Average monthly balances (AMB) in previous to the previous quarter \n",
        "       •\tcurrent_month_credit - Total Credit Amount current month \n",
        "       •\tprevious_month_credit - Total Credit Amount previous month \n",
        "       •\tcurrent_month_debit - Total Debit Amount current month \n",
        "       •\tprevious_month_debit - Total Debit Amount previous month \n",
        "       •\tcurrent_month_balance - Average Balance of current month \n",
        "       •\tprevious_month_balance - Average Balance of previous month \n",
        "       •\tchurn - Average balance of customer falls below minimum balance in the next quarter (1/0) "
      ]
    },
    {
      "cell_type": "markdown",
      "metadata": {
        "id": "bdCfBt762OAH",
        "colab_type": "text"
      },
      "source": [
        "# Importing Modules"
      ]
    },
    {
      "cell_type": "code",
      "metadata": {
        "id": "JCEyqrVT19YM",
        "colab_type": "code",
        "colab": {}
      },
      "source": [
        "%matplotlib inline\n",
        "import pandas as pd\n",
        "import matplotlib.pyplot as plt\n",
        "import numpy as np\n",
        "\n",
        "from sklearn.metrics import recall_score, classification_report, confusion_matrix\n",
        "from sklearn.metrics import confusion_matrix, accuracy_score\n",
        "from sklearn.metrics import roc_curve, roc_auc_score\n",
        "\n",
        "from sklearn.model_selection import train_test_split, cross_val_score\n",
        "from sklearn.model_selection import RandomizedSearchCV, GridSearchCV\n",
        "\n",
        "from sklearn.preprocessing import MinMaxScaler, StandardScaler, OneHotEncoder\n",
        "\n",
        "from sklearn.ensemble import RandomForestClassifier\n",
        "from sklearn.neighbors import KNeighborsClassifier\n",
        "from sklearn.linear_model import LogisticRegression"
      ],
      "execution_count": null,
      "outputs": []
    },
    {
      "cell_type": "markdown",
      "metadata": {
        "id": "_IVuClb72TCZ",
        "colab_type": "text"
      },
      "source": [
        "# Importing data"
      ]
    },
    {
      "cell_type": "code",
      "metadata": {
        "id": "bZRcXbDF2Lfd",
        "colab_type": "code",
        "colab": {
          "base_uri": "https://localhost:8080/"
        },
        "outputId": "4d623a37-ba22-4b83-b6da-bfda885c26ce"
      },
      "source": [
        "df = pd.read_csv(\"filled_churn_prediction.csv\")\n",
        "df.head()"
      ],
      "execution_count": null,
      "outputs": [
        {
          "output_type": "execute_result",
          "data": {
            "text/html": [
              "<div>\n",
              "<style scoped>\n",
              "    .dataframe tbody tr th:only-of-type {\n",
              "        vertical-align: middle;\n",
              "    }\n",
              "\n",
              "    .dataframe tbody tr th {\n",
              "        vertical-align: top;\n",
              "    }\n",
              "\n",
              "    .dataframe thead th {\n",
              "        text-align: right;\n",
              "    }\n",
              "</style>\n",
              "<table border=\"1\" class=\"dataframe\">\n",
              "  <thead>\n",
              "    <tr style=\"text-align: right;\">\n",
              "      <th></th>\n",
              "      <th>Unnamed: 0</th>\n",
              "      <th>customer_id</th>\n",
              "      <th>vintage</th>\n",
              "      <th>age</th>\n",
              "      <th>gender</th>\n",
              "      <th>dependents</th>\n",
              "      <th>occupation</th>\n",
              "      <th>city</th>\n",
              "      <th>customer_nw_category</th>\n",
              "      <th>branch_code</th>\n",
              "      <th>days_since_last_transaction</th>\n",
              "      <th>current_balance</th>\n",
              "      <th>previous_month_end_balance</th>\n",
              "      <th>average_monthly_balance_prevQ</th>\n",
              "      <th>average_monthly_balance_prevQ2</th>\n",
              "      <th>current_month_credit</th>\n",
              "      <th>previous_month_credit</th>\n",
              "      <th>current_month_debit</th>\n",
              "      <th>previous_month_debit</th>\n",
              "      <th>current_month_balance</th>\n",
              "      <th>previous_month_balance</th>\n",
              "      <th>churn</th>\n",
              "      <th>dependents_with_missing_data</th>\n",
              "      <th>occupation_with_missing_data</th>\n",
              "      <th>city_with_missing_data</th>\n",
              "      <th>gender_with_missing_data</th>\n",
              "      <th>days_since_last_transaction_with_missing_data</th>\n",
              "    </tr>\n",
              "  </thead>\n",
              "  <tbody>\n",
              "    <tr>\n",
              "      <th>0</th>\n",
              "      <td>0</td>\n",
              "      <td>1</td>\n",
              "      <td>3135</td>\n",
              "      <td>66</td>\n",
              "      <td>Male</td>\n",
              "      <td>0</td>\n",
              "      <td>self_employed</td>\n",
              "      <td>187</td>\n",
              "      <td>2</td>\n",
              "      <td>755</td>\n",
              "      <td>224.0</td>\n",
              "      <td>1458.71</td>\n",
              "      <td>1458.71</td>\n",
              "      <td>1458.71</td>\n",
              "      <td>1449.07</td>\n",
              "      <td>0.20</td>\n",
              "      <td>0.20</td>\n",
              "      <td>0.20</td>\n",
              "      <td>0.20</td>\n",
              "      <td>1458.71</td>\n",
              "      <td>1458.71</td>\n",
              "      <td>0</td>\n",
              "      <td>False</td>\n",
              "      <td>False</td>\n",
              "      <td>False</td>\n",
              "      <td>False</td>\n",
              "      <td>False</td>\n",
              "    </tr>\n",
              "    <tr>\n",
              "      <th>1</th>\n",
              "      <td>1</td>\n",
              "      <td>2</td>\n",
              "      <td>310</td>\n",
              "      <td>35</td>\n",
              "      <td>Male</td>\n",
              "      <td>0</td>\n",
              "      <td>self_employed</td>\n",
              "      <td>0</td>\n",
              "      <td>2</td>\n",
              "      <td>3214</td>\n",
              "      <td>60.0</td>\n",
              "      <td>5390.37</td>\n",
              "      <td>8704.66</td>\n",
              "      <td>7799.26</td>\n",
              "      <td>12419.41</td>\n",
              "      <td>0.56</td>\n",
              "      <td>0.56</td>\n",
              "      <td>5486.27</td>\n",
              "      <td>100.56</td>\n",
              "      <td>6496.78</td>\n",
              "      <td>8787.61</td>\n",
              "      <td>0</td>\n",
              "      <td>False</td>\n",
              "      <td>False</td>\n",
              "      <td>True</td>\n",
              "      <td>False</td>\n",
              "      <td>False</td>\n",
              "    </tr>\n",
              "    <tr>\n",
              "      <th>2</th>\n",
              "      <td>2</td>\n",
              "      <td>4</td>\n",
              "      <td>2356</td>\n",
              "      <td>31</td>\n",
              "      <td>Male</td>\n",
              "      <td>0</td>\n",
              "      <td>salaried</td>\n",
              "      <td>146</td>\n",
              "      <td>2</td>\n",
              "      <td>41</td>\n",
              "      <td>30.0</td>\n",
              "      <td>3913.16</td>\n",
              "      <td>5815.29</td>\n",
              "      <td>4910.17</td>\n",
              "      <td>2815.94</td>\n",
              "      <td>0.61</td>\n",
              "      <td>0.61</td>\n",
              "      <td>6046.73</td>\n",
              "      <td>259.23</td>\n",
              "      <td>5006.28</td>\n",
              "      <td>5070.14</td>\n",
              "      <td>0</td>\n",
              "      <td>False</td>\n",
              "      <td>False</td>\n",
              "      <td>False</td>\n",
              "      <td>False</td>\n",
              "      <td>True</td>\n",
              "    </tr>\n",
              "    <tr>\n",
              "      <th>3</th>\n",
              "      <td>3</td>\n",
              "      <td>5</td>\n",
              "      <td>478</td>\n",
              "      <td>90</td>\n",
              "      <td>missing</td>\n",
              "      <td>0</td>\n",
              "      <td>self_employed</td>\n",
              "      <td>1020</td>\n",
              "      <td>2</td>\n",
              "      <td>582</td>\n",
              "      <td>147.0</td>\n",
              "      <td>2291.91</td>\n",
              "      <td>2291.91</td>\n",
              "      <td>2084.54</td>\n",
              "      <td>1006.54</td>\n",
              "      <td>0.47</td>\n",
              "      <td>0.47</td>\n",
              "      <td>0.47</td>\n",
              "      <td>2143.33</td>\n",
              "      <td>2291.91</td>\n",
              "      <td>1669.79</td>\n",
              "      <td>1</td>\n",
              "      <td>True</td>\n",
              "      <td>False</td>\n",
              "      <td>False</td>\n",
              "      <td>True</td>\n",
              "      <td>False</td>\n",
              "    </tr>\n",
              "    <tr>\n",
              "      <th>4</th>\n",
              "      <td>4</td>\n",
              "      <td>6</td>\n",
              "      <td>2531</td>\n",
              "      <td>42</td>\n",
              "      <td>Male</td>\n",
              "      <td>2</td>\n",
              "      <td>self_employed</td>\n",
              "      <td>1494</td>\n",
              "      <td>3</td>\n",
              "      <td>388</td>\n",
              "      <td>58.0</td>\n",
              "      <td>927.72</td>\n",
              "      <td>1401.72</td>\n",
              "      <td>1643.31</td>\n",
              "      <td>1871.12</td>\n",
              "      <td>0.33</td>\n",
              "      <td>714.61</td>\n",
              "      <td>588.62</td>\n",
              "      <td>1538.06</td>\n",
              "      <td>1157.15</td>\n",
              "      <td>1677.16</td>\n",
              "      <td>1</td>\n",
              "      <td>False</td>\n",
              "      <td>False</td>\n",
              "      <td>False</td>\n",
              "      <td>False</td>\n",
              "      <td>False</td>\n",
              "    </tr>\n",
              "  </tbody>\n",
              "</table>\n",
              "</div>"
            ],
            "text/plain": [
              "   Unnamed: 0  ...  days_since_last_transaction_with_missing_data\n",
              "0           0  ...                                          False\n",
              "1           1  ...                                          False\n",
              "2           2  ...                                           True\n",
              "3           3  ...                                          False\n",
              "4           4  ...                                          False\n",
              "\n",
              "[5 rows x 27 columns]"
            ]
          },
          "metadata": {
            "tags": []
          },
          "execution_count": 2
        }
      ]
    },
    {
      "cell_type": "code",
      "metadata": {
        "id": "dVtfpiqz9qKw",
        "colab_type": "code",
        "colab": {
          "base_uri": "https://localhost:8080/"
        },
        "outputId": "d19deb37-ee6e-43ad-f376-7fd3727d0a0c"
      },
      "source": [
        "df.columns"
      ],
      "execution_count": null,
      "outputs": [
        {
          "output_type": "execute_result",
          "data": {
            "text/plain": [
              "Index(['Unnamed: 0', 'customer_id', 'vintage', 'age', 'gender', 'dependents',\n",
              "       'occupation', 'city', 'customer_nw_category', 'branch_code',\n",
              "       'days_since_last_transaction', 'current_balance',\n",
              "       'previous_month_end_balance', 'average_monthly_balance_prevQ',\n",
              "       'average_monthly_balance_prevQ2', 'current_month_credit',\n",
              "       'previous_month_credit', 'current_month_debit', 'previous_month_debit',\n",
              "       'current_month_balance', 'previous_month_balance', 'churn',\n",
              "       'dependents_with_missing_data', 'occupation_with_missing_data',\n",
              "       'city_with_missing_data', 'gender_with_missing_data',\n",
              "       'days_since_last_transaction_with_missing_data'],\n",
              "      dtype='object')"
            ]
          },
          "metadata": {
            "tags": []
          },
          "execution_count": 3
        }
      ]
    },
    {
      "cell_type": "code",
      "metadata": {
        "id": "g8CRU1pd9-FE",
        "colab_type": "code",
        "colab": {}
      },
      "source": [
        "df.drop([\"Unnamed: 0\"],axis =1, inplace =True)"
      ],
      "execution_count": null,
      "outputs": []
    },
    {
      "cell_type": "markdown",
      "metadata": {
        "id": "kqpU9ZgrGdCZ",
        "colab_type": "text"
      },
      "source": [
        "# Selecting the target column for prediction.\n",
        "\n",
        "* y is the target column for prediction\n",
        "* X is the features which is used to predict y."
      ]
    },
    {
      "cell_type": "code",
      "metadata": {
        "id": "96kFTmcqGcm4",
        "colab_type": "code",
        "colab": {}
      },
      "source": [
        "X = df.drop([\"churn\"], axis = 1)\n",
        "y = df[\"churn\"]"
      ],
      "execution_count": null,
      "outputs": []
    },
    {
      "cell_type": "markdown",
      "metadata": {
        "id": "I-reEKfQF9qc",
        "colab_type": "text"
      },
      "source": [
        "# OneHotEncoder\n",
        "\n",
        "It is used to convert categorical data into binary vectors"
      ]
    },
    {
      "cell_type": "code",
      "metadata": {
        "id": "fIkaKOegGJg2",
        "colab_type": "code",
        "colab": {
          "base_uri": "https://localhost:8080/"
        },
        "outputId": "1fc5b90e-aaf7-478b-e814-3a54c0345817"
      },
      "source": [
        "df.dtypes"
      ],
      "execution_count": null,
      "outputs": [
        {
          "output_type": "execute_result",
          "data": {
            "text/plain": [
              "customer_id                                        int64\n",
              "vintage                                            int64\n",
              "age                                                int64\n",
              "gender                                            object\n",
              "dependents                                         int64\n",
              "occupation                                        object\n",
              "city                                               int64\n",
              "customer_nw_category                               int64\n",
              "branch_code                                        int64\n",
              "days_since_last_transaction                      float64\n",
              "current_balance                                  float64\n",
              "previous_month_end_balance                       float64\n",
              "average_monthly_balance_prevQ                    float64\n",
              "average_monthly_balance_prevQ2                   float64\n",
              "current_month_credit                             float64\n",
              "previous_month_credit                            float64\n",
              "current_month_debit                              float64\n",
              "previous_month_debit                             float64\n",
              "current_month_balance                            float64\n",
              "previous_month_balance                           float64\n",
              "churn                                              int64\n",
              "dependents_with_missing_data                        bool\n",
              "occupation_with_missing_data                        bool\n",
              "city_with_missing_data                              bool\n",
              "gender_with_missing_data                            bool\n",
              "days_since_last_transaction_with_missing_data       bool\n",
              "dtype: object"
            ]
          },
          "metadata": {
            "tags": []
          },
          "execution_count": 6
        }
      ]
    },
    {
      "cell_type": "code",
      "metadata": {
        "id": "hMenAdA9GAns",
        "colab_type": "code",
        "colab": {
          "base_uri": "https://localhost:8080/"
        },
        "outputId": "c57ab9e4-ea6c-4e78-db7f-55df91d9d472"
      },
      "source": [
        "from sklearn.compose import ColumnTransformer\n",
        "\n",
        "categorical_features = [\"gender\", \"occupation\"]\n",
        "one_hot = OneHotEncoder()\n",
        "transformer = ColumnTransformer([(\"one_hot\", \n",
        "                                 one_hot, \n",
        "                                 categorical_features)],\n",
        "                                 remainder=\"passthrough\")\n",
        "\n",
        "transformed_X = transformer.fit_transform(X)\n",
        "transformed_X"
      ],
      "execution_count": null,
      "outputs": [
        {
          "output_type": "execute_result",
          "data": {
            "text/plain": [
              "array([[0.0, 1.0, 0.0, ..., False, False, False],\n",
              "       [0.0, 1.0, 0.0, ..., True, False, False],\n",
              "       [0.0, 1.0, 0.0, ..., False, False, True],\n",
              "       ...,\n",
              "       [0.0, 1.0, 0.0, ..., False, False, False],\n",
              "       [0.0, 1.0, 0.0, ..., False, False, True],\n",
              "       [0.0, 1.0, 0.0, ..., False, False, False]], dtype=object)"
            ]
          },
          "metadata": {
            "tags": []
          },
          "execution_count": 7
        }
      ]
    },
    {
      "cell_type": "markdown",
      "metadata": {
        "id": "rf1Oy7Cl26qz",
        "colab_type": "text"
      },
      "source": [
        "# Using Minmaxscaler\n",
        "\n",
        "This feature is used to scale data into a given range i.e. zero and one."
      ]
    },
    {
      "cell_type": "code",
      "metadata": {
        "id": "Ngb8LzeH-R4M",
        "colab_type": "code",
        "colab": {}
      },
      "source": [
        "from sklearn.preprocessing import MinMaxScaler\n",
        "\n",
        "scaler = MinMaxScaler()\n",
        "scaler_X = scaler.fit_transform(transformed_X)"
      ],
      "execution_count": null,
      "outputs": []
    },
    {
      "cell_type": "code",
      "metadata": {
        "id": "fkG_iL5h21Qz",
        "colab_type": "code",
        "colab": {
          "base_uri": "https://localhost:8080/",
          "height": 299
        },
        "outputId": "6cd01121-44ca-4ec8-8cf6-6761d5f42c55"
      },
      "source": [
        "dframe = pd.DataFrame(scaler_X)\n",
        "dframe.head()"
      ],
      "execution_count": null,
      "outputs": [
        {
          "output_type": "execute_result",
          "data": {
            "text/html": [
              "<div>\n",
              "<style scoped>\n",
              "    .dataframe tbody tr th:only-of-type {\n",
              "        vertical-align: middle;\n",
              "    }\n",
              "\n",
              "    .dataframe tbody tr th {\n",
              "        vertical-align: top;\n",
              "    }\n",
              "\n",
              "    .dataframe thead th {\n",
              "        text-align: right;\n",
              "    }\n",
              "</style>\n",
              "<table border=\"1\" class=\"dataframe\">\n",
              "  <thead>\n",
              "    <tr style=\"text-align: right;\">\n",
              "      <th></th>\n",
              "      <th>0</th>\n",
              "      <th>1</th>\n",
              "      <th>2</th>\n",
              "      <th>3</th>\n",
              "      <th>4</th>\n",
              "      <th>5</th>\n",
              "      <th>6</th>\n",
              "      <th>7</th>\n",
              "      <th>8</th>\n",
              "      <th>9</th>\n",
              "      <th>10</th>\n",
              "      <th>11</th>\n",
              "      <th>12</th>\n",
              "      <th>13</th>\n",
              "      <th>14</th>\n",
              "      <th>15</th>\n",
              "      <th>16</th>\n",
              "      <th>17</th>\n",
              "      <th>18</th>\n",
              "      <th>19</th>\n",
              "      <th>20</th>\n",
              "      <th>21</th>\n",
              "      <th>22</th>\n",
              "      <th>23</th>\n",
              "      <th>24</th>\n",
              "      <th>25</th>\n",
              "      <th>26</th>\n",
              "      <th>27</th>\n",
              "      <th>28</th>\n",
              "      <th>29</th>\n",
              "      <th>30</th>\n",
              "    </tr>\n",
              "  </thead>\n",
              "  <tbody>\n",
              "    <tr>\n",
              "      <th>0</th>\n",
              "      <td>0.0</td>\n",
              "      <td>1.0</td>\n",
              "      <td>0.0</td>\n",
              "      <td>0.0</td>\n",
              "      <td>0.0</td>\n",
              "      <td>0.0</td>\n",
              "      <td>1.0</td>\n",
              "      <td>0.0</td>\n",
              "      <td>0.000000</td>\n",
              "      <td>0.232330</td>\n",
              "      <td>0.730337</td>\n",
              "      <td>0.000000</td>\n",
              "      <td>0.113402</td>\n",
              "      <td>0.5</td>\n",
              "      <td>0.157708</td>\n",
              "      <td>0.613699</td>\n",
              "      <td>0.001178</td>\n",
              "      <td>0.000802</td>\n",
              "      <td>0.000005</td>\n",
              "      <td>0.003572</td>\n",
              "      <td>1.548512e-08</td>\n",
              "      <td>8.044683e-08</td>\n",
              "      <td>2.487609e-08</td>\n",
              "      <td>1.343546e-07</td>\n",
              "      <td>0.000836</td>\n",
              "      <td>0.001158</td>\n",
              "      <td>0.0</td>\n",
              "      <td>0.0</td>\n",
              "      <td>0.0</td>\n",
              "      <td>0.0</td>\n",
              "      <td>0.0</td>\n",
              "    </tr>\n",
              "    <tr>\n",
              "      <th>1</th>\n",
              "      <td>0.0</td>\n",
              "      <td>1.0</td>\n",
              "      <td>0.0</td>\n",
              "      <td>0.0</td>\n",
              "      <td>0.0</td>\n",
              "      <td>0.0</td>\n",
              "      <td>1.0</td>\n",
              "      <td>0.0</td>\n",
              "      <td>0.000033</td>\n",
              "      <td>0.010221</td>\n",
              "      <td>0.382022</td>\n",
              "      <td>0.000000</td>\n",
              "      <td>0.000000</td>\n",
              "      <td>0.5</td>\n",
              "      <td>0.672035</td>\n",
              "      <td>0.164384</td>\n",
              "      <td>0.001843</td>\n",
              "      <td>0.002064</td>\n",
              "      <td>0.001118</td>\n",
              "      <td>0.005754</td>\n",
              "      <td>4.482534e-08</td>\n",
              "      <td>2.328724e-07</td>\n",
              "      <td>7.182983e-04</td>\n",
              "      <td>7.110188e-05</td>\n",
              "      <td>0.001707</td>\n",
              "      <td>0.002438</td>\n",
              "      <td>0.0</td>\n",
              "      <td>0.0</td>\n",
              "      <td>1.0</td>\n",
              "      <td>0.0</td>\n",
              "      <td>0.0</td>\n",
              "    </tr>\n",
              "    <tr>\n",
              "      <th>2</th>\n",
              "      <td>0.0</td>\n",
              "      <td>1.0</td>\n",
              "      <td>0.0</td>\n",
              "      <td>0.0</td>\n",
              "      <td>0.0</td>\n",
              "      <td>1.0</td>\n",
              "      <td>0.0</td>\n",
              "      <td>0.0</td>\n",
              "      <td>0.000099</td>\n",
              "      <td>0.171083</td>\n",
              "      <td>0.337079</td>\n",
              "      <td>0.000000</td>\n",
              "      <td>0.088539</td>\n",
              "      <td>0.5</td>\n",
              "      <td>0.008366</td>\n",
              "      <td>0.082192</td>\n",
              "      <td>0.001593</td>\n",
              "      <td>0.001561</td>\n",
              "      <td>0.000611</td>\n",
              "      <td>0.003844</td>\n",
              "      <td>4.890037e-08</td>\n",
              "      <td>2.540426e-07</td>\n",
              "      <td>7.916775e-04</td>\n",
              "      <td>1.833021e-04</td>\n",
              "      <td>0.001450</td>\n",
              "      <td>0.001789</td>\n",
              "      <td>0.0</td>\n",
              "      <td>0.0</td>\n",
              "      <td>0.0</td>\n",
              "      <td>0.0</td>\n",
              "      <td>1.0</td>\n",
              "    </tr>\n",
              "    <tr>\n",
              "      <th>3</th>\n",
              "      <td>0.0</td>\n",
              "      <td>0.0</td>\n",
              "      <td>1.0</td>\n",
              "      <td>0.0</td>\n",
              "      <td>0.0</td>\n",
              "      <td>0.0</td>\n",
              "      <td>1.0</td>\n",
              "      <td>0.0</td>\n",
              "      <td>0.000132</td>\n",
              "      <td>0.023430</td>\n",
              "      <td>1.000000</td>\n",
              "      <td>0.000000</td>\n",
              "      <td>0.618557</td>\n",
              "      <td>0.5</td>\n",
              "      <td>0.121523</td>\n",
              "      <td>0.402740</td>\n",
              "      <td>0.001319</td>\n",
              "      <td>0.000947</td>\n",
              "      <td>0.000115</td>\n",
              "      <td>0.003484</td>\n",
              "      <td>3.749028e-08</td>\n",
              "      <td>1.947660e-07</td>\n",
              "      <td>6.022631e-08</td>\n",
              "      <td>1.515605e-03</td>\n",
              "      <td>0.000980</td>\n",
              "      <td>0.001195</td>\n",
              "      <td>1.0</td>\n",
              "      <td>0.0</td>\n",
              "      <td>0.0</td>\n",
              "      <td>1.0</td>\n",
              "      <td>0.0</td>\n",
              "    </tr>\n",
              "    <tr>\n",
              "      <th>4</th>\n",
              "      <td>0.0</td>\n",
              "      <td>1.0</td>\n",
              "      <td>0.0</td>\n",
              "      <td>0.0</td>\n",
              "      <td>0.0</td>\n",
              "      <td>0.0</td>\n",
              "      <td>1.0</td>\n",
              "      <td>0.0</td>\n",
              "      <td>0.000165</td>\n",
              "      <td>0.184842</td>\n",
              "      <td>0.460674</td>\n",
              "      <td>0.038462</td>\n",
              "      <td>0.906004</td>\n",
              "      <td>1.0</td>\n",
              "      <td>0.080945</td>\n",
              "      <td>0.158904</td>\n",
              "      <td>0.001088</td>\n",
              "      <td>0.000792</td>\n",
              "      <td>0.000038</td>\n",
              "      <td>0.003656</td>\n",
              "      <td>2.608020e-08</td>\n",
              "      <td>3.025648e-04</td>\n",
              "      <td>7.706481e-05</td>\n",
              "      <td>1.087601e-03</td>\n",
              "      <td>0.000784</td>\n",
              "      <td>0.001196</td>\n",
              "      <td>0.0</td>\n",
              "      <td>0.0</td>\n",
              "      <td>0.0</td>\n",
              "      <td>0.0</td>\n",
              "      <td>0.0</td>\n",
              "    </tr>\n",
              "  </tbody>\n",
              "</table>\n",
              "</div>"
            ],
            "text/plain": [
              "    0    1    2    3    4    5   ...        25   26   27   28   29   30\n",
              "0  0.0  1.0  0.0  0.0  0.0  0.0  ...  0.001158  0.0  0.0  0.0  0.0  0.0\n",
              "1  0.0  1.0  0.0  0.0  0.0  0.0  ...  0.002438  0.0  0.0  1.0  0.0  0.0\n",
              "2  0.0  1.0  0.0  0.0  0.0  1.0  ...  0.001789  0.0  0.0  0.0  0.0  1.0\n",
              "3  0.0  0.0  1.0  0.0  0.0  0.0  ...  0.001195  1.0  0.0  0.0  1.0  0.0\n",
              "4  0.0  1.0  0.0  0.0  0.0  0.0  ...  0.001196  0.0  0.0  0.0  0.0  0.0\n",
              "\n",
              "[5 rows x 31 columns]"
            ]
          },
          "metadata": {
            "tags": []
          },
          "execution_count": 9
        }
      ]
    },
    {
      "cell_type": "markdown",
      "metadata": {
        "id": "y-3ce3ybH_uv",
        "colab_type": "text"
      },
      "source": [
        "# Different classification model\n",
        "\n",
        "* RandomForestClassifier\n",
        "* LogisticRegression\n",
        "* KNeighborsClassifier"
      ]
    },
    {
      "cell_type": "code",
      "metadata": {
        "id": "tSpOIDEoHwi1",
        "colab_type": "code",
        "colab": {
          "base_uri": "https://localhost:8080/",
          "height": 118
        },
        "outputId": "6f6c95ce-516f-48f1-bc5e-5f8b579a9a87"
      },
      "source": [
        "#RandomForestClassifier\n",
        "\n",
        "np.random.seed(42)\n",
        "\n",
        "X_train, X_test, y_train, y_test = train_test_split(dframe, y, test_size = 0.2)\n",
        "\n",
        "n_est = [10,20,30,50,100,500]\n",
        "\n",
        "for i in n_est:\n",
        "  clf = RandomForestClassifier(n_estimators = i)\n",
        "  clf.fit(X_train, y_train)\n",
        "  print(clf.score(X_test, y_test))"
      ],
      "execution_count": null,
      "outputs": [
        {
          "output_type": "stream",
          "text": [
            "0.8548529152721508\n",
            "0.8633080852562973\n",
            "0.8629557865069579\n",
            "0.866654923375022\n",
            "0.8638365333803065\n",
            "0.8671833714990311\n"
          ],
          "name": "stdout"
        }
      ]
    },
    {
      "cell_type": "code",
      "metadata": {
        "id": "qBFZDRl-KjTJ",
        "colab_type": "code",
        "colab": {
          "base_uri": "https://localhost:8080/",
          "height": 34
        },
        "outputId": "9fa8c3ec-70c5-4a04-9201-4e58449cf791"
      },
      "source": [
        "model = LogisticRegression(max_iter = 100, n_jobs = -1)\n",
        "model.fit(X_train, y_train)\n",
        "model.score(X_test,y_test)"
      ],
      "execution_count": null,
      "outputs": [
        {
          "output_type": "execute_result",
          "data": {
            "text/plain": [
              "0.8173330984675005"
            ]
          },
          "metadata": {
            "tags": []
          },
          "execution_count": 11
        }
      ]
    },
    {
      "cell_type": "code",
      "metadata": {
        "id": "3cL6Cu28n84p",
        "colab_type": "code",
        "colab": {
          "base_uri": "https://localhost:8080/",
          "height": 168
        },
        "outputId": "e18c8d6c-fa8f-4718-a752-a8b095ef1532"
      },
      "source": [
        "preds = model.predict(X_test)\n",
        "print(classification_report(y_test, preds))"
      ],
      "execution_count": null,
      "outputs": [
        {
          "output_type": "stream",
          "text": [
            "              precision    recall  f1-score   support\n",
            "\n",
            "           0       0.82      1.00      0.90      4639\n",
            "           1       1.00      0.00      0.00      1038\n",
            "\n",
            "    accuracy                           0.82      5677\n",
            "   macro avg       0.91      0.50      0.45      5677\n",
            "weighted avg       0.85      0.82      0.74      5677\n",
            "\n"
          ],
          "name": "stdout"
        }
      ]
    },
    {
      "cell_type": "code",
      "metadata": {
        "id": "A-Z_F3Foop4T",
        "colab_type": "code",
        "colab": {
          "base_uri": "https://localhost:8080/",
          "height": 50
        },
        "outputId": "d8a0f734-341c-4266-9266-1e0c194d13a6"
      },
      "source": [
        "confusion_matrix(y_test, preds)"
      ],
      "execution_count": null,
      "outputs": [
        {
          "output_type": "execute_result",
          "data": {
            "text/plain": [
              "array([[4639,    0],\n",
              "       [1037,    1]])"
            ]
          },
          "metadata": {
            "tags": []
          },
          "execution_count": 13
        }
      ]
    },
    {
      "cell_type": "code",
      "metadata": {
        "id": "pdl11MhBT1ja",
        "colab_type": "code",
        "colab": {
          "base_uri": "https://localhost:8080/",
          "height": 34
        },
        "outputId": "3f2f808b-bf45-4188-fba9-b14854728263"
      },
      "source": [
        "from sklearn.neighbors import KNeighborsClassifier\n",
        "\n",
        "model2 = KNeighborsClassifier()\n",
        "model2.fit(X_train,y_train)\n",
        "model2.score(X_test,y_test)"
      ],
      "execution_count": null,
      "outputs": [
        {
          "output_type": "execute_result",
          "data": {
            "text/plain": [
              "0.7902060947683636"
            ]
          },
          "metadata": {
            "tags": []
          },
          "execution_count": 14
        }
      ]
    },
    {
      "cell_type": "code",
      "metadata": {
        "id": "LN3KJP0VofRs",
        "colab_type": "code",
        "colab": {
          "base_uri": "https://localhost:8080/",
          "height": 168
        },
        "outputId": "a7aca949-c6fa-4adc-ce2a-d8f2520fffc2"
      },
      "source": [
        "preds = model2.predict(X_test)\n",
        "print(classification_report(y_test, preds))"
      ],
      "execution_count": null,
      "outputs": [
        {
          "output_type": "stream",
          "text": [
            "              precision    recall  f1-score   support\n",
            "\n",
            "           0       0.82      0.95      0.88      4639\n",
            "           1       0.25      0.07      0.11      1038\n",
            "\n",
            "    accuracy                           0.79      5677\n",
            "   macro avg       0.53      0.51      0.50      5677\n",
            "weighted avg       0.72      0.79      0.74      5677\n",
            "\n"
          ],
          "name": "stdout"
        }
      ]
    },
    {
      "cell_type": "code",
      "metadata": {
        "id": "w757r4EbT-Ub",
        "colab_type": "code",
        "colab": {
          "base_uri": "https://localhost:8080/",
          "height": 34
        },
        "outputId": "ef560fe1-a67d-460a-f6df-d5d4b695687e"
      },
      "source": [
        "clf = RandomForestClassifier(n_estimators = 50)\n",
        "clf.fit(X_train,y_train)\n",
        "cros_clf = cross_val_score(clf, dframe, y, scoring = \"precision\", cv= 5, n_jobs = -1)\n",
        "cros_clf"
      ],
      "execution_count": null,
      "outputs": [
        {
          "output_type": "execute_result",
          "data": {
            "text/plain": [
              "array([0.75243665, 0.72058824, 0.7032967 , 0.74624374, 0.75638507])"
            ]
          },
          "metadata": {
            "tags": []
          },
          "execution_count": 16
        }
      ]
    },
    {
      "cell_type": "code",
      "metadata": {
        "id": "akfMlyFlVpRN",
        "colab_type": "code",
        "colab": {
          "base_uri": "https://localhost:8080/",
          "height": 34
        },
        "outputId": "44555f87-5a7f-4825-a196-a9a2e261044e"
      },
      "source": [
        "clf = RandomForestClassifier(n_estimators = 50)\n",
        "clf.fit(X_train,y_train)\n",
        "cros_clf = cross_val_score(clf, dframe, y, scoring = \"recall\", cv= 5, n_jobs = -1)\n",
        "cros_clf"
      ],
      "execution_count": null,
      "outputs": [
        {
          "output_type": "execute_result",
          "data": {
            "text/plain": [
              "array([0.37357414, 0.42585551, 0.42870722, 0.43060837, 0.39638783])"
            ]
          },
          "metadata": {
            "tags": []
          },
          "execution_count": 17
        }
      ]
    },
    {
      "cell_type": "code",
      "metadata": {
        "id": "xn4lMeyeV8kL",
        "colab_type": "code",
        "colab": {
          "base_uri": "https://localhost:8080/",
          "height": 34
        },
        "outputId": "d8b83eca-311a-4d30-9c05-655ddbfb196a"
      },
      "source": [
        "clf = RandomForestClassifier(n_estimators = 50)\n",
        "clf.fit(X_train,y_train)\n",
        "cros_clf = cross_val_score(clf, dframe, y, scoring = \"accuracy\", cv= 5, n_jobs = -1)\n",
        "cros_clf"
      ],
      "execution_count": null,
      "outputs": [
        {
          "output_type": "execute_result",
          "data": {
            "text/plain": [
              "array([0.86031355, 0.86524573, 0.85782241, 0.86522199, 0.85870331])"
            ]
          },
          "metadata": {
            "tags": []
          },
          "execution_count": 18
        }
      ]
    },
    {
      "cell_type": "markdown",
      "metadata": {
        "id": "KipiMRZxYR-J",
        "colab_type": "text"
      },
      "source": [
        "Here **RandomForestClassifier** has the highest *accuracy* of **86.30** % and its *recall_score* is **40**%. "
      ]
    },
    {
      "cell_type": "markdown",
      "metadata": {
        "id": "l20Fvl1-kMQD",
        "colab_type": "text"
      },
      "source": [
        "# Standard_scaler\n",
        "\n",
        "It transforms the data in such a manner that it has *mean* as 0 and *standard deviation* as 1. In short, it standardizes the data."
      ]
    },
    {
      "cell_type": "code",
      "metadata": {
        "id": "kLMkC_FzkPIY",
        "colab_type": "code",
        "colab": {}
      },
      "source": [
        "from sklearn.preprocessing import StandardScaler\n",
        "\n",
        "s_scaler = StandardScaler()\n",
        "s_scaler_X = s_scaler.fit_transform(transformed_X)"
      ],
      "execution_count": null,
      "outputs": []
    },
    {
      "cell_type": "code",
      "metadata": {
        "id": "kQ2Rno0tmCT9",
        "colab_type": "code",
        "colab": {
          "base_uri": "https://localhost:8080/",
          "height": 215
        },
        "outputId": "a7aa78a7-67a0-466e-84e1-0a4353d9eee7"
      },
      "source": [
        "dframe2 = pd.DataFrame(s_scaler_X)\n",
        "dframe2.head()"
      ],
      "execution_count": null,
      "outputs": [
        {
          "output_type": "execute_result",
          "data": {
            "text/html": [
              "<div>\n",
              "<style scoped>\n",
              "    .dataframe tbody tr th:only-of-type {\n",
              "        vertical-align: middle;\n",
              "    }\n",
              "\n",
              "    .dataframe tbody tr th {\n",
              "        vertical-align: top;\n",
              "    }\n",
              "\n",
              "    .dataframe thead th {\n",
              "        text-align: right;\n",
              "    }\n",
              "</style>\n",
              "<table border=\"1\" class=\"dataframe\">\n",
              "  <thead>\n",
              "    <tr style=\"text-align: right;\">\n",
              "      <th></th>\n",
              "      <th>0</th>\n",
              "      <th>1</th>\n",
              "      <th>2</th>\n",
              "      <th>3</th>\n",
              "      <th>4</th>\n",
              "      <th>5</th>\n",
              "      <th>6</th>\n",
              "      <th>7</th>\n",
              "      <th>8</th>\n",
              "      <th>9</th>\n",
              "      <th>10</th>\n",
              "      <th>11</th>\n",
              "      <th>12</th>\n",
              "      <th>13</th>\n",
              "      <th>14</th>\n",
              "      <th>15</th>\n",
              "      <th>16</th>\n",
              "      <th>17</th>\n",
              "      <th>18</th>\n",
              "      <th>19</th>\n",
              "      <th>20</th>\n",
              "      <th>21</th>\n",
              "      <th>22</th>\n",
              "      <th>23</th>\n",
              "      <th>24</th>\n",
              "      <th>25</th>\n",
              "      <th>26</th>\n",
              "      <th>27</th>\n",
              "      <th>28</th>\n",
              "      <th>29</th>\n",
              "      <th>30</th>\n",
              "    </tr>\n",
              "  </thead>\n",
              "  <tbody>\n",
              "    <tr>\n",
              "      <th>0</th>\n",
              "      <td>-0.813874</td>\n",
              "      <td>0.845655</td>\n",
              "      <td>-0.137282</td>\n",
              "      <td>-0.037568</td>\n",
              "      <td>-0.277108</td>\n",
              "      <td>-0.556106</td>\n",
              "      <td>0.785274</td>\n",
              "      <td>-0.279606</td>\n",
              "      <td>-1.731304</td>\n",
              "      <td>0.478644</td>\n",
              "      <td>0.999147</td>\n",
              "      <td>-0.330877</td>\n",
              "      <td>-1.313306</td>\n",
              "      <td>-0.341489</td>\n",
              "      <td>-0.182318</td>\n",
              "      <td>1.927027</td>\n",
              "      <td>-0.139017</td>\n",
              "      <td>-0.141953</td>\n",
              "      <td>-0.144709</td>\n",
              "      <td>-0.127317</td>\n",
              "      <td>-0.044545</td>\n",
              "      <td>-0.109858</td>\n",
              "      <td>-0.070378</td>\n",
              "      <td>-0.137427</td>\n",
              "      <td>-0.142564</td>\n",
              "      <td>-0.142265</td>\n",
              "      <td>-0.308264</td>\n",
              "      <td>-0.053166</td>\n",
              "      <td>-0.170635</td>\n",
              "      <td>-0.137282</td>\n",
              "      <td>-0.357918</td>\n",
              "    </tr>\n",
              "    <tr>\n",
              "      <th>1</th>\n",
              "      <td>-0.813874</td>\n",
              "      <td>0.845655</td>\n",
              "      <td>-0.137282</td>\n",
              "      <td>-0.037568</td>\n",
              "      <td>-0.277108</td>\n",
              "      <td>-0.556106</td>\n",
              "      <td>0.785274</td>\n",
              "      <td>-0.279606</td>\n",
              "      <td>-1.731190</td>\n",
              "      <td>-1.275909</td>\n",
              "      <td>-0.741756</td>\n",
              "      <td>-0.330877</td>\n",
              "      <td>-1.731980</td>\n",
              "      <td>-0.341489</td>\n",
              "      <td>2.439824</td>\n",
              "      <td>-0.066312</td>\n",
              "      <td>-0.046720</td>\n",
              "      <td>0.028425</td>\n",
              "      <td>0.007249</td>\n",
              "      <td>0.118793</td>\n",
              "      <td>-0.044540</td>\n",
              "      <td>-0.109846</td>\n",
              "      <td>0.035155</td>\n",
              "      <td>-0.133297</td>\n",
              "      <td>-0.022705</td>\n",
              "      <td>0.030459</td>\n",
              "      <td>-0.308264</td>\n",
              "      <td>-0.053166</td>\n",
              "      <td>5.860457</td>\n",
              "      <td>-0.137282</td>\n",
              "      <td>-0.357918</td>\n",
              "    </tr>\n",
              "    <tr>\n",
              "      <th>2</th>\n",
              "      <td>-0.813874</td>\n",
              "      <td>0.845655</td>\n",
              "      <td>-0.137282</td>\n",
              "      <td>-0.037568</td>\n",
              "      <td>-0.277108</td>\n",
              "      <td>1.798219</td>\n",
              "      <td>-1.273441</td>\n",
              "      <td>-0.279606</td>\n",
              "      <td>-1.730961</td>\n",
              "      <td>-0.005178</td>\n",
              "      <td>-0.966389</td>\n",
              "      <td>-0.330877</td>\n",
              "      <td>-1.405101</td>\n",
              "      <td>-0.341489</td>\n",
              "      <td>-0.943689</td>\n",
              "      <td>-0.430947</td>\n",
              "      <td>-0.081398</td>\n",
              "      <td>-0.039514</td>\n",
              "      <td>-0.061991</td>\n",
              "      <td>-0.096652</td>\n",
              "      <td>-0.044539</td>\n",
              "      <td>-0.109844</td>\n",
              "      <td>0.045936</td>\n",
              "      <td>-0.126767</td>\n",
              "      <td>-0.058165</td>\n",
              "      <td>-0.057152</td>\n",
              "      <td>-0.308264</td>\n",
              "      <td>-0.053166</td>\n",
              "      <td>-0.170635</td>\n",
              "      <td>-0.137282</td>\n",
              "      <td>2.793937</td>\n",
              "    </tr>\n",
              "    <tr>\n",
              "      <th>3</th>\n",
              "      <td>-0.813874</td>\n",
              "      <td>-1.182516</td>\n",
              "      <td>7.284295</td>\n",
              "      <td>-0.037568</td>\n",
              "      <td>-0.277108</td>\n",
              "      <td>-0.556106</td>\n",
              "      <td>0.785274</td>\n",
              "      <td>-0.279606</td>\n",
              "      <td>-1.730847</td>\n",
              "      <td>-1.171568</td>\n",
              "      <td>2.346943</td>\n",
              "      <td>-0.330877</td>\n",
              "      <td>0.551697</td>\n",
              "      <td>-0.341489</td>\n",
              "      <td>-0.366796</td>\n",
              "      <td>0.991130</td>\n",
              "      <td>-0.119457</td>\n",
              "      <td>-0.122361</td>\n",
              "      <td>-0.129711</td>\n",
              "      <td>-0.137244</td>\n",
              "      <td>-0.044541</td>\n",
              "      <td>-0.109849</td>\n",
              "      <td>-0.070372</td>\n",
              "      <td>-0.049234</td>\n",
              "      <td>-0.122742</td>\n",
              "      <td>-0.137290</td>\n",
              "      <td>3.243971</td>\n",
              "      <td>-0.053166</td>\n",
              "      <td>-0.170635</td>\n",
              "      <td>7.284295</td>\n",
              "      <td>-0.357918</td>\n",
              "    </tr>\n",
              "    <tr>\n",
              "      <th>4</th>\n",
              "      <td>-0.813874</td>\n",
              "      <td>0.845655</td>\n",
              "      <td>-0.137282</td>\n",
              "      <td>-0.037568</td>\n",
              "      <td>-0.277108</td>\n",
              "      <td>-0.556106</td>\n",
              "      <td>0.785274</td>\n",
              "      <td>-0.279606</td>\n",
              "      <td>-1.730733</td>\n",
              "      <td>0.103512</td>\n",
              "      <td>-0.348649</td>\n",
              "      <td>1.756001</td>\n",
              "      <td>1.612935</td>\n",
              "      <td>1.172672</td>\n",
              "      <td>-0.573667</td>\n",
              "      <td>-0.090621</td>\n",
              "      <td>-0.151482</td>\n",
              "      <td>-0.143293</td>\n",
              "      <td>-0.140285</td>\n",
              "      <td>-0.117848</td>\n",
              "      <td>-0.044543</td>\n",
              "      <td>-0.085794</td>\n",
              "      <td>-0.059058</td>\n",
              "      <td>-0.074142</td>\n",
              "      <td>-0.149738</td>\n",
              "      <td>-0.137116</td>\n",
              "      <td>-0.308264</td>\n",
              "      <td>-0.053166</td>\n",
              "      <td>-0.170635</td>\n",
              "      <td>-0.137282</td>\n",
              "      <td>-0.357918</td>\n",
              "    </tr>\n",
              "  </tbody>\n",
              "</table>\n",
              "</div>"
            ],
            "text/plain": [
              "         0         1         2   ...        28        29        30\n",
              "0 -0.813874  0.845655 -0.137282  ... -0.170635 -0.137282 -0.357918\n",
              "1 -0.813874  0.845655 -0.137282  ...  5.860457 -0.137282 -0.357918\n",
              "2 -0.813874  0.845655 -0.137282  ... -0.170635 -0.137282  2.793937\n",
              "3 -0.813874 -1.182516  7.284295  ... -0.170635  7.284295 -0.357918\n",
              "4 -0.813874  0.845655 -0.137282  ... -0.170635 -0.137282 -0.357918\n",
              "\n",
              "[5 rows x 31 columns]"
            ]
          },
          "metadata": {
            "tags": []
          },
          "execution_count": 21
        }
      ]
    },
    {
      "cell_type": "markdown",
      "metadata": {
        "id": "pb4J5mZDmQvt",
        "colab_type": "text"
      },
      "source": [
        "# different classification model\n",
        "\n",
        "* RandomForestClassifier\n",
        "* LogisticRegression\n",
        "* KNeighborsClassifier"
      ]
    },
    {
      "cell_type": "code",
      "metadata": {
        "id": "-nfZ6awDmLnc",
        "colab_type": "code",
        "colab": {
          "base_uri": "https://localhost:8080/",
          "height": 118
        },
        "outputId": "baae26c1-8d9b-4f17-fad7-1a3cbebfe482"
      },
      "source": [
        "#RandomForestClassifier\n",
        "\n",
        "np.random.seed(42)\n",
        "\n",
        "X_train, X_test, y_train, y_test = train_test_split(dframe2, y, test_size = 0.2)\n",
        "\n",
        "n_est = [10,20,30,50,100,500]\n",
        "\n",
        "for i in n_est:\n",
        "  clf = RandomForestClassifier(n_estimators = i)\n",
        "  clf.fit(X_train, y_train)\n",
        "  print(clf.score(X_test, y_test))"
      ],
      "execution_count": null,
      "outputs": [
        {
          "output_type": "stream",
          "text": [
            "0.8527391227761142\n",
            "0.8618988902589396\n",
            "0.8631319358816276\n",
            "0.8671833714990311\n",
            "0.8657741765016734\n",
            "0.866654923375022\n"
          ],
          "name": "stdout"
        }
      ]
    },
    {
      "cell_type": "code",
      "metadata": {
        "id": "Yv-vzmckmZRp",
        "colab_type": "code",
        "colab": {
          "base_uri": "https://localhost:8080/",
          "height": 34
        },
        "outputId": "6517b042-8e26-4158-84a0-6671cc948d1d"
      },
      "source": [
        "clf = RandomForestClassifier(n_estimators = 50)\n",
        "clf.fit(X_train,y_train)\n",
        "cros_clf = cross_val_score(clf, dframe2, y, scoring = \"recall\", cv= 5, n_jobs = -1)\n",
        "cros_clf"
      ],
      "execution_count": null,
      "outputs": [
        {
          "output_type": "execute_result",
          "data": {
            "text/plain": [
              "array([0.36311787, 0.42870722, 0.42680608, 0.42585551, 0.39068441])"
            ]
          },
          "metadata": {
            "tags": []
          },
          "execution_count": 23
        }
      ]
    },
    {
      "cell_type": "code",
      "metadata": {
        "id": "NQEcWD_em-43",
        "colab_type": "code",
        "colab": {
          "base_uri": "https://localhost:8080/",
          "height": 34
        },
        "outputId": "4ec45356-b8a8-4c77-fd01-19eb7eea4964"
      },
      "source": [
        "clf = RandomForestClassifier(n_estimators = 50)\n",
        "clf.fit(X_train,y_train)\n",
        "cros_clf = cross_val_score(clf, dframe2, y, scoring = \"precision\", cv= 5, n_jobs = -1)\n",
        "cros_clf"
      ],
      "execution_count": null,
      "outputs": [
        {
          "output_type": "execute_result",
          "data": {
            "text/plain": [
              "array([0.72128378, 0.723229  , 0.70578778, 0.75340136, 0.77124183])"
            ]
          },
          "metadata": {
            "tags": []
          },
          "execution_count": 24
        }
      ]
    },
    {
      "cell_type": "code",
      "metadata": {
        "id": "u8_cHVgAqVLD",
        "colab_type": "code",
        "colab": {
          "base_uri": "https://localhost:8080/",
          "height": 34
        },
        "outputId": "636260ab-0451-406f-b27c-7f8c093ba8c3"
      },
      "source": [
        "model = LogisticRegression(max_iter = 100, n_jobs = -1)\n",
        "model.fit(X_train, y_train)\n",
        "model.score(X_test,y_test)"
      ],
      "execution_count": null,
      "outputs": [
        {
          "output_type": "execute_result",
          "data": {
            "text/plain": [
              "0.8277259115730139"
            ]
          },
          "metadata": {
            "tags": []
          },
          "execution_count": 25
        }
      ]
    },
    {
      "cell_type": "code",
      "metadata": {
        "id": "Qg2yiD6gqXnM",
        "colab_type": "code",
        "colab": {
          "base_uri": "https://localhost:8080/",
          "height": 168
        },
        "outputId": "813878ce-a714-48f7-bd3b-a75b4f6b00b8"
      },
      "source": [
        "preds = model.predict(X_test)\n",
        "print(classification_report(y_test, preds))"
      ],
      "execution_count": null,
      "outputs": [
        {
          "output_type": "stream",
          "text": [
            "              precision    recall  f1-score   support\n",
            "\n",
            "           0       0.83      0.99      0.90      4639\n",
            "           1       0.77      0.08      0.15      1038\n",
            "\n",
            "    accuracy                           0.83      5677\n",
            "   macro avg       0.80      0.54      0.53      5677\n",
            "weighted avg       0.82      0.83      0.77      5677\n",
            "\n"
          ],
          "name": "stdout"
        }
      ]
    },
    {
      "cell_type": "code",
      "metadata": {
        "id": "FODG8NZBs9Py",
        "colab_type": "code",
        "colab": {
          "base_uri": "https://localhost:8080/",
          "height": 34
        },
        "outputId": "5e227a1a-a5e1-4a01-e1f8-1b557deb9187"
      },
      "source": [
        "cros_model = cross_val_score(model, dframe2, y, scoring = \"recall\", cv= 5, n_jobs = -1)\n",
        "cros_model"
      ],
      "execution_count": null,
      "outputs": [
        {
          "output_type": "execute_result",
          "data": {
            "text/plain": [
              "array([0.07129278, 0.07414449, 0.06368821, 0.0769962 , 0.06844106])"
            ]
          },
          "metadata": {
            "tags": []
          },
          "execution_count": 35
        }
      ]
    },
    {
      "cell_type": "code",
      "metadata": {
        "id": "bHGmsBm9tM2J",
        "colab_type": "code",
        "colab": {
          "base_uri": "https://localhost:8080/",
          "height": 34
        },
        "outputId": "abb790f8-e529-4d33-93d5-eb39a311444a"
      },
      "source": [
        "cros_model = cross_val_score(model, dframe2, y, scoring = \"precision\", cv= 5, n_jobs = -1)\n",
        "cros_model"
      ],
      "execution_count": null,
      "outputs": [
        {
          "output_type": "execute_result",
          "data": {
            "text/plain": [
              "array([0.77319588, 0.72222222, 0.67      , 0.77142857, 0.75      ])"
            ]
          },
          "metadata": {
            "tags": []
          },
          "execution_count": 36
        }
      ]
    },
    {
      "cell_type": "code",
      "metadata": {
        "id": "BGLUBqvjqiRb",
        "colab_type": "code",
        "colab": {
          "base_uri": "https://localhost:8080/",
          "height": 34
        },
        "outputId": "046d8f78-ee3f-4ab2-d60b-e530acfa1490"
      },
      "source": [
        "from sklearn.neighbors import KNeighborsClassifier\n",
        "\n",
        "model2 = KNeighborsClassifier()\n",
        "model2.fit(X_train,y_train)\n",
        "model2.score(X_test,y_test)"
      ],
      "execution_count": null,
      "outputs": [
        {
          "output_type": "execute_result",
          "data": {
            "text/plain": [
              "0.8007750572485468"
            ]
          },
          "metadata": {
            "tags": []
          },
          "execution_count": 27
        }
      ]
    },
    {
      "cell_type": "code",
      "metadata": {
        "id": "-Dk9kf4KqjIs",
        "colab_type": "code",
        "colab": {
          "base_uri": "https://localhost:8080/",
          "height": 168
        },
        "outputId": "14abdaf9-fa45-4d53-a7ae-6451a28d15f7"
      },
      "source": [
        "preds = model2.predict(X_test)\n",
        "print(classification_report(y_test, preds))"
      ],
      "execution_count": null,
      "outputs": [
        {
          "output_type": "stream",
          "text": [
            "              precision    recall  f1-score   support\n",
            "\n",
            "           0       0.82      0.96      0.89      4639\n",
            "           1       0.31      0.07      0.12      1038\n",
            "\n",
            "    accuracy                           0.80      5677\n",
            "   macro avg       0.57      0.52      0.50      5677\n",
            "weighted avg       0.73      0.80      0.75      5677\n",
            "\n"
          ],
          "name": "stdout"
        }
      ]
    },
    {
      "cell_type": "code",
      "metadata": {
        "id": "-s4zUbyvrVDD",
        "colab_type": "code",
        "colab": {
          "base_uri": "https://localhost:8080/",
          "height": 50
        },
        "outputId": "375d4400-b7df-40bf-c4bc-43c6a23b70b2"
      },
      "source": [
        "confusion_matrix(y_test,preds)"
      ],
      "execution_count": null,
      "outputs": [
        {
          "output_type": "execute_result",
          "data": {
            "text/plain": [
              "array([[4469,  170],\n",
              "       [ 961,   77]])"
            ]
          },
          "metadata": {
            "tags": []
          },
          "execution_count": 29
        }
      ]
    },
    {
      "cell_type": "code",
      "metadata": {
        "id": "sBtgmHn7rfAc",
        "colab_type": "code",
        "colab": {
          "base_uri": "https://localhost:8080/",
          "height": 34
        },
        "outputId": "c25b67f9-0070-4f79-ef3d-d4b9b5839521"
      },
      "source": [
        "from sklearn.metrics import recall_score\n",
        "recall_score(y_test, preds)"
      ],
      "execution_count": null,
      "outputs": [
        {
          "output_type": "execute_result",
          "data": {
            "text/plain": [
              "0.07418111753371869"
            ]
          },
          "metadata": {
            "tags": []
          },
          "execution_count": 30
        }
      ]
    },
    {
      "cell_type": "code",
      "metadata": {
        "id": "Af9feoe_saDU",
        "colab_type": "code",
        "colab": {
          "base_uri": "https://localhost:8080/",
          "height": 34
        },
        "outputId": "f3889ba1-0f01-4eff-a54c-774ff4b6f5be"
      },
      "source": [
        "cros_model2 = cross_val_score(model2, dframe2, y, scoring = \"recall\", cv= 5, n_jobs = -1)\n",
        "cros_model2"
      ],
      "execution_count": null,
      "outputs": [
        {
          "output_type": "execute_result",
          "data": {
            "text/plain": [
              "array([0.05608365, 0.07509506, 0.07224335, 0.07794677, 0.05798479])"
            ]
          },
          "metadata": {
            "tags": []
          },
          "execution_count": 33
        }
      ]
    },
    {
      "cell_type": "code",
      "metadata": {
        "id": "89gznJUmsxm9",
        "colab_type": "code",
        "colab": {
          "base_uri": "https://localhost:8080/",
          "height": 34
        },
        "outputId": "9a2c54af-a144-4bf6-99b7-d1e2a72ef1a8"
      },
      "source": [
        "cros_model2 = cross_val_score(model2, dframe2, y, scoring = \"precision\", cv= 5, n_jobs = -1)\n",
        "cros_model2"
      ],
      "execution_count": null,
      "outputs": [
        {
          "output_type": "execute_result",
          "data": {
            "text/plain": [
              "array([0.26222222, 0.28832117, 0.25      , 0.3129771 , 0.2699115 ])"
            ]
          },
          "metadata": {
            "tags": []
          },
          "execution_count": 34
        }
      ]
    },
    {
      "cell_type": "markdown",
      "metadata": {
        "id": "QxB_z_97rQK1",
        "colab_type": "text"
      },
      "source": [
        "# hyperparameter"
      ]
    },
    {
      "cell_type": "markdown",
      "metadata": {
        "id": "eFMOqAu4rTFK",
        "colab_type": "text"
      },
      "source": [
        "## hyperparameter tuning for RandomForestClassifier"
      ]
    },
    {
      "cell_type": "markdown",
      "metadata": {
        "id": "mO4fg5MVvWpU",
        "colab_type": "text"
      },
      "source": [
        "### RandomizedSearchCV"
      ]
    },
    {
      "cell_type": "code",
      "metadata": {
        "id": "-XmrA_uVq3DF",
        "colab_type": "code",
        "colab": {
          "base_uri": "https://localhost:8080/",
          "height": 554
        },
        "outputId": "62116cd7-ea5e-4953-9a22-5bb0d1893a2d"
      },
      "source": [
        "from sklearn.model_selection import RandomizedSearchCV\n",
        "\n",
        "rs_grid = {\"n_estimators\": [50,200],\n",
        "            \"max_depth\": [None,10,20],\n",
        "            \"min_samples_split\": [2],\n",
        "            \"max_features\": [\"auto\", \"sqrt\"],\n",
        "            \"min_samples_leaf\": [1,4]}\n",
        "\n",
        "clf = RandomForestClassifier()\n",
        "\n",
        "rs_clf = RandomizedSearchCV(estimator = clf,\n",
        "                            param_distributions = rs_grid,\n",
        "                            n_jobs = -1,\n",
        "                            n_iter = 10,\n",
        "                            cv = 5,\n",
        "                            verbose = 2,\n",
        "                            random_state = 42,\n",
        "                            refit = True)\n",
        "\n",
        "rs_clf.fit(X_train,y_train)"
      ],
      "execution_count": null,
      "outputs": [
        {
          "output_type": "stream",
          "text": [
            "Fitting 5 folds for each of 10 candidates, totalling 50 fits\n"
          ],
          "name": "stdout"
        },
        {
          "output_type": "stream",
          "text": [
            "[Parallel(n_jobs=-1)]: Using backend LokyBackend with 2 concurrent workers.\n",
            "[Parallel(n_jobs=-1)]: Done  37 tasks      | elapsed:  2.6min\n",
            "[Parallel(n_jobs=-1)]: Done  50 out of  50 | elapsed:  4.7min finished\n"
          ],
          "name": "stderr"
        },
        {
          "output_type": "execute_result",
          "data": {
            "text/plain": [
              "RandomizedSearchCV(cv=5, error_score=nan,\n",
              "                   estimator=RandomForestClassifier(bootstrap=True,\n",
              "                                                    ccp_alpha=0.0,\n",
              "                                                    class_weight=None,\n",
              "                                                    criterion='gini',\n",
              "                                                    max_depth=None,\n",
              "                                                    max_features='auto',\n",
              "                                                    max_leaf_nodes=None,\n",
              "                                                    max_samples=None,\n",
              "                                                    min_impurity_decrease=0.0,\n",
              "                                                    min_impurity_split=None,\n",
              "                                                    min_samples_leaf=1,\n",
              "                                                    min_samples_split=2,\n",
              "                                                    min_weight_fraction_leaf=0.0,\n",
              "                                                    n_estimators=100,\n",
              "                                                    n_jobs...,\n",
              "                                                    oob_score=False,\n",
              "                                                    random_state=None,\n",
              "                                                    verbose=0,\n",
              "                                                    warm_start=False),\n",
              "                   iid='deprecated', n_iter=10, n_jobs=-1,\n",
              "                   param_distributions={'max_depth': [None, 10, 20],\n",
              "                                        'max_features': ['auto', 'sqrt'],\n",
              "                                        'min_samples_leaf': [1, 4],\n",
              "                                        'min_samples_split': [2],\n",
              "                                        'n_estimators': [50, 200]},\n",
              "                   pre_dispatch='2*n_jobs', random_state=42, refit=True,\n",
              "                   return_train_score=False, scoring=None, verbose=2)"
            ]
          },
          "metadata": {
            "tags": []
          },
          "execution_count": 42
        }
      ]
    },
    {
      "cell_type": "code",
      "metadata": {
        "id": "rKOIB4xwu-0B",
        "colab_type": "code",
        "colab": {
          "base_uri": "https://localhost:8080/",
          "height": 101
        },
        "outputId": "e20daabb-9190-4d7a-8af1-b2937f253ab3"
      },
      "source": [
        "rs_clf.best_params_"
      ],
      "execution_count": null,
      "outputs": [
        {
          "output_type": "execute_result",
          "data": {
            "text/plain": [
              "{'max_depth': None,\n",
              " 'max_features': 'sqrt',\n",
              " 'min_samples_leaf': 1,\n",
              " 'min_samples_split': 2,\n",
              " 'n_estimators': 200}"
            ]
          },
          "metadata": {
            "tags": []
          },
          "execution_count": 43
        }
      ]
    },
    {
      "cell_type": "code",
      "metadata": {
        "id": "-PBoMqJmwK8L",
        "colab_type": "code",
        "colab": {
          "base_uri": "https://localhost:8080/",
          "height": 34
        },
        "outputId": "f5c07d9f-d13d-4c11-8eef-9a82fe0bdbd4"
      },
      "source": [
        "rs_clf.score(X_test,y_test)"
      ],
      "execution_count": null,
      "outputs": [
        {
          "output_type": "execute_result",
          "data": {
            "text/plain": [
              "0.8668310727496917"
            ]
          },
          "metadata": {
            "tags": []
          },
          "execution_count": 44
        }
      ]
    },
    {
      "cell_type": "code",
      "metadata": {
        "id": "gz9nR5sRvM8o",
        "colab_type": "code",
        "colab": {}
      },
      "source": [
        "clf = RandomForestClassifier( max_depth = None,\n",
        "                          max_features = 'sqrt',\n",
        "                          min_samples_leaf= 1,\n",
        "                          min_samples_split= 2,\n",
        "                          n_estimators = 200)"
      ],
      "execution_count": null,
      "outputs": []
    },
    {
      "cell_type": "code",
      "metadata": {
        "id": "rLpfz81qyVA9",
        "colab_type": "code",
        "colab": {
          "base_uri": "https://localhost:8080/",
          "height": 34
        },
        "outputId": "a4a0fa90-94ad-4bc3-a126-61b82db67104"
      },
      "source": [
        "clf.fit(X_train,y_train)\n",
        "clf.score(X_test,y_test)"
      ],
      "execution_count": null,
      "outputs": [
        {
          "output_type": "execute_result",
          "data": {
            "text/plain": [
              "0.8689448652457283"
            ]
          },
          "metadata": {
            "tags": []
          },
          "execution_count": 46
        }
      ]
    },
    {
      "cell_type": "code",
      "metadata": {
        "id": "zdnCnQbWvM4r",
        "colab_type": "code",
        "colab": {
          "base_uri": "https://localhost:8080/",
          "height": 34
        },
        "outputId": "3267cb19-6de8-4c91-e1c8-3032f420181b"
      },
      "source": [
        "cros_clf = cross_val_score(clf, dframe2, y, scoring = \"recall\", cv= 5, n_jobs = -1)\n",
        "cros_clf"
      ],
      "execution_count": null,
      "outputs": [
        {
          "output_type": "execute_result",
          "data": {
            "text/plain": [
              "array([0.4134981 , 0.43821293, 0.43536122, 0.43631179, 0.37642586])"
            ]
          },
          "metadata": {
            "tags": []
          },
          "execution_count": 47
        }
      ]
    },
    {
      "cell_type": "code",
      "metadata": {
        "id": "rmZ2nkLPyksF",
        "colab_type": "code",
        "colab": {
          "base_uri": "https://localhost:8080/",
          "height": 34
        },
        "outputId": "3ebef71d-2c70-4f1f-9365-7afb282315d2"
      },
      "source": [
        "cros_clf = cross_val_score(clf, dframe2, y, scoring = \"accuracy\", cv= 5, n_jobs = -1)\n",
        "cros_clf"
      ],
      "execution_count": null,
      "outputs": [
        {
          "output_type": "execute_result",
          "data": {
            "text/plain": [
              "array([0.86718337, 0.86489343, 0.86275546, 0.86698379, 0.86275546])"
            ]
          },
          "metadata": {
            "tags": []
          },
          "execution_count": 48
        }
      ]
    },
    {
      "cell_type": "markdown",
      "metadata": {
        "id": "_BWiveODvnQT",
        "colab_type": "text"
      },
      "source": [
        "### GridSearchCV"
      ]
    },
    {
      "cell_type": "code",
      "metadata": {
        "id": "lIOcm6KxvMvQ",
        "colab_type": "code",
        "colab": {
          "base_uri": "https://localhost:8080/",
          "height": 504
        },
        "outputId": "4ae8b069-20b3-49d8-f705-0774e83b1ad3"
      },
      "source": [
        "gs_grid = {\"n_estimators\": [50,100,200],\n",
        "           \"max_depth\": [10,20],\n",
        "           \"max_features\": [\"auto\", \"sqrt\"],\n",
        "           \"min_samples_split\": [2],\n",
        "           \"min_samples_leaf\": [1,2,4]}\n",
        "\n",
        "clf = RandomForestClassifier()\n",
        "\n",
        "gs_clf = GridSearchCV(estimator = clf,\n",
        "                      param_grid = gs_grid,\n",
        "                      cv = 5,\n",
        "                      n_jobs = -1,\n",
        "                      verbose = 2,\n",
        "                      refit = True\n",
        "                     )\n",
        "\n",
        "gs_clf.fit(X_train,y_train)"
      ],
      "execution_count": null,
      "outputs": [
        {
          "output_type": "stream",
          "text": [
            "Fitting 5 folds for each of 36 candidates, totalling 180 fits\n"
          ],
          "name": "stdout"
        },
        {
          "output_type": "stream",
          "text": [
            "[Parallel(n_jobs=-1)]: Using backend LokyBackend with 2 concurrent workers.\n",
            "[Parallel(n_jobs=-1)]: Done  37 tasks      | elapsed:  2.0min\n",
            "[Parallel(n_jobs=-1)]: Done 158 tasks      | elapsed: 10.9min\n",
            "[Parallel(n_jobs=-1)]: Done 180 out of 180 | elapsed: 13.0min finished\n"
          ],
          "name": "stderr"
        },
        {
          "output_type": "execute_result",
          "data": {
            "text/plain": [
              "GridSearchCV(cv=5, error_score=nan,\n",
              "             estimator=RandomForestClassifier(bootstrap=True, ccp_alpha=0.0,\n",
              "                                              class_weight=None,\n",
              "                                              criterion='gini', max_depth=None,\n",
              "                                              max_features='auto',\n",
              "                                              max_leaf_nodes=None,\n",
              "                                              max_samples=None,\n",
              "                                              min_impurity_decrease=0.0,\n",
              "                                              min_impurity_split=None,\n",
              "                                              min_samples_leaf=1,\n",
              "                                              min_samples_split=2,\n",
              "                                              min_weight_fraction_leaf=0.0,\n",
              "                                              n_estimators=100, n_jobs=None,\n",
              "                                              oob_score=False,\n",
              "                                              random_state=None, verbose=0,\n",
              "                                              warm_start=False),\n",
              "             iid='deprecated', n_jobs=-1,\n",
              "             param_grid={'max_depth': [10, 20],\n",
              "                         'max_features': ['auto', 'sqrt'],\n",
              "                         'min_samples_leaf': [1, 2, 4],\n",
              "                         'min_samples_split': [2],\n",
              "                         'n_estimators': [50, 100, 200]},\n",
              "             pre_dispatch='2*n_jobs', refit=True, return_train_score=False,\n",
              "             scoring=None, verbose=2)"
            ]
          },
          "metadata": {
            "tags": []
          },
          "execution_count": 49
        }
      ]
    },
    {
      "cell_type": "code",
      "metadata": {
        "id": "gx1ViDZDvMrm",
        "colab_type": "code",
        "colab": {
          "base_uri": "https://localhost:8080/",
          "height": 101
        },
        "outputId": "2aa17052-d218-4c76-ed18-08600c6af770"
      },
      "source": [
        "gs_clf.best_params_"
      ],
      "execution_count": null,
      "outputs": [
        {
          "output_type": "execute_result",
          "data": {
            "text/plain": [
              "{'max_depth': 20,\n",
              " 'max_features': 'sqrt',\n",
              " 'min_samples_leaf': 2,\n",
              " 'min_samples_split': 2,\n",
              " 'n_estimators': 200}"
            ]
          },
          "metadata": {
            "tags": []
          },
          "execution_count": 50
        }
      ]
    },
    {
      "cell_type": "code",
      "metadata": {
        "id": "pMyQLQAevMoy",
        "colab_type": "code",
        "colab": {
          "base_uri": "https://localhost:8080/",
          "height": 34
        },
        "outputId": "1eccbd81-2f32-4fc5-c048-c8ff75e56efc"
      },
      "source": [
        "gs_clf.score(X_test,y_test)"
      ],
      "execution_count": null,
      "outputs": [
        {
          "output_type": "execute_result",
          "data": {
            "text/plain": [
              "0.8655980271270037"
            ]
          },
          "metadata": {
            "tags": []
          },
          "execution_count": 51
        }
      ]
    },
    {
      "cell_type": "code",
      "metadata": {
        "id": "UXy7IhopvMhQ",
        "colab_type": "code",
        "colab": {}
      },
      "source": [
        "clf = RandomForestClassifier( max_depth = 20,\n",
        "                          max_features = 'sqrt',\n",
        "                          min_samples_leaf= 2,\n",
        "                          min_samples_split= 2,\n",
        "                          n_estimators = 200)"
      ],
      "execution_count": null,
      "outputs": []
    },
    {
      "cell_type": "code",
      "metadata": {
        "id": "5EKsTMhexZ0v",
        "colab_type": "code",
        "colab": {
          "base_uri": "https://localhost:8080/",
          "height": 34
        },
        "outputId": "ab26c22e-54d7-4b86-ec9c-5651b2ecb627"
      },
      "source": [
        "clf.fit(X_train,y_train)\n",
        "clf.score(X_test,y_test)"
      ],
      "execution_count": null,
      "outputs": [
        {
          "output_type": "execute_result",
          "data": {
            "text/plain": [
              "0.8664787740003523"
            ]
          },
          "metadata": {
            "tags": []
          },
          "execution_count": 53
        }
      ]
    },
    {
      "cell_type": "code",
      "metadata": {
        "id": "uX-2Rb5LxZw0",
        "colab_type": "code",
        "colab": {
          "base_uri": "https://localhost:8080/",
          "height": 34
        },
        "outputId": "daaae2aa-c363-44ad-bba0-8c9f808b5630"
      },
      "source": [
        "cros_clf = cross_val_score(clf, dframe2, y, scoring = \"recall\", cv= 5, n_jobs = -1)\n",
        "cros_clf"
      ],
      "execution_count": null,
      "outputs": [
        {
          "output_type": "execute_result",
          "data": {
            "text/plain": [
              "array([0.40494297, 0.42775665, 0.42395437, 0.42585551, 0.38688213])"
            ]
          },
          "metadata": {
            "tags": []
          },
          "execution_count": 54
        }
      ]
    },
    {
      "cell_type": "code",
      "metadata": {
        "id": "XN5X8QwOxZvI",
        "colab_type": "code",
        "colab": {
          "base_uri": "https://localhost:8080/",
          "height": 34
        },
        "outputId": "5684b25e-0342-4b67-8a50-45e5ab376c6c"
      },
      "source": [
        "cros_clf = cross_val_score(clf, dframe2, y, scoring = \"accuracy\", cv= 5, n_jobs = -1)\n",
        "cros_clf"
      ],
      "execution_count": null,
      "outputs": [
        {
          "output_type": "execute_result",
          "data": {
            "text/plain": [
              "array([0.86489343, 0.86542188, 0.86099366, 0.86980268, 0.86222692])"
            ]
          },
          "metadata": {
            "tags": []
          },
          "execution_count": 55
        }
      ]
    },
    {
      "cell_type": "markdown",
      "metadata": {
        "id": "jUaRq61-3jYz",
        "colab_type": "text"
      },
      "source": [
        "# export file"
      ]
    },
    {
      "cell_type": "code",
      "metadata": {
        "id": "C-HAt6LMxZp_",
        "colab_type": "code",
        "colab": {}
      },
      "source": [
        "import pickle\n",
        "filename = \"finalized_model.save\"\n",
        "pickle.dump(clf, open(filename, \"wb\"))"
      ],
      "execution_count": null,
      "outputs": []
    },
    {
      "cell_type": "code",
      "metadata": {
        "id": "3WyR3KCc4B5V",
        "colab_type": "code",
        "colab": {
          "base_uri": "https://localhost:8080/",
          "height": 34
        },
        "outputId": "a550389f-f097-46ab-f832-7176369e4115"
      },
      "source": [
        "loaded_model = pickle.load(open(filename,\"rb\"))\n",
        "loaded_model.fit(X_train,y_train)\n",
        "result =loaded_model.score(X_test,y_test)\n",
        "print(result)"
      ],
      "execution_count": null,
      "outputs": [
        {
          "output_type": "stream",
          "text": [
            "0.8648934296283248\n"
          ],
          "name": "stdout"
        }
      ]
    },
    {
      "cell_type": "code",
      "metadata": {
        "id": "sZ7W3B8U4HeR",
        "colab_type": "code",
        "colab": {}
      },
      "source": [
        ""
      ],
      "execution_count": null,
      "outputs": []
    }
  ]
}