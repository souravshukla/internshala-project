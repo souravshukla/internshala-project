{
  "nbformat": 4,
  "nbformat_minor": 0,
  "metadata": {
    "colab": {
      "name": "Filling_the_missing_values.ipynb",
      "provenance": [],
      "collapsed_sections": [
        "1CGhLzvjeE7U",
        "TaAIF_1qeLFJ",
        "GApiKpC_envl",
        "y5wGb10Fxihc",
        "zN5hV_VbPMyg",
        "cgZmr8gtPQ6y",
        "RbI84ASNUQKL",
        "iMVmwIjjg8yf",
        "Bip8-hhIi7Yh"
      ]
    },
    "kernelspec": {
      "name": "python3",
      "display_name": "Python 3"
    }
  },
  "cells": [
    {
      "cell_type": "markdown",
      "metadata": {
        "id": "1CGhLzvjeE7U",
        "colab_type": "text"
      },
      "source": [
        "# Importing modules"
      ]
    },
    {
      "cell_type": "code",
      "metadata": {
        "id": "BBll--EVdyPc",
        "colab_type": "code",
        "colab": {}
      },
      "source": [
        "%matplotlib inline\n",
        "import pandas as pd\n",
        "import matplotlib.pyplot as plt\n",
        "import numpy as np\n",
        "\n",
        "from sklearn.metrics import recall_score, classification_report, confusion_matrix\n",
        "from sklearn.metrics import confusion_matrix, accuracy_score\n",
        "from sklearn.metrics import roc_curve, roc_auc_score\n",
        "\n",
        "from sklearn.model_selection import train_test_split, cross_val_score\n",
        "from sklearn.model_selection import RandomizedSearchCV, GridSearchCV\n",
        "\n",
        "from sklearn.preprocessing import MinMaxScaler, StandardScaler, OneHotEncoder\n",
        "\n",
        "from sklearn.ensemble import RandomForestClassifier\n",
        "from sklearn.neighbors import KNeighborsClassifier\n",
        "from sklearn.linear_model import LogisticRegression"
      ],
      "execution_count": null,
      "outputs": []
    },
    {
      "cell_type": "markdown",
      "metadata": {
        "id": "TaAIF_1qeLFJ",
        "colab_type": "text"
      },
      "source": [
        "# Importing Data"
      ]
    },
    {
      "cell_type": "code",
      "metadata": {
        "id": "wLBe91qIdzO8",
        "colab_type": "code",
        "colab": {
          "base_uri": "https://localhost:8080/"
        },
        "outputId": "b6139e9a-b347-469c-fadf-f074f9b74d79"
      },
      "source": [
        "df = pd.read_csv(\"churn_prediction.csv\")\n",
        "df.head()"
      ],
      "execution_count": null,
      "outputs": [
        {
          "output_type": "execute_result",
          "data": {
            "text/html": [
              "<div>\n",
              "<style scoped>\n",
              "    .dataframe tbody tr th:only-of-type {\n",
              "        vertical-align: middle;\n",
              "    }\n",
              "\n",
              "    .dataframe tbody tr th {\n",
              "        vertical-align: top;\n",
              "    }\n",
              "\n",
              "    .dataframe thead th {\n",
              "        text-align: right;\n",
              "    }\n",
              "</style>\n",
              "<table border=\"1\" class=\"dataframe\">\n",
              "  <thead>\n",
              "    <tr style=\"text-align: right;\">\n",
              "      <th></th>\n",
              "      <th>customer_id</th>\n",
              "      <th>vintage</th>\n",
              "      <th>age</th>\n",
              "      <th>gender</th>\n",
              "      <th>dependents</th>\n",
              "      <th>occupation</th>\n",
              "      <th>city</th>\n",
              "      <th>customer_nw_category</th>\n",
              "      <th>branch_code</th>\n",
              "      <th>days_since_last_transaction</th>\n",
              "      <th>current_balance</th>\n",
              "      <th>previous_month_end_balance</th>\n",
              "      <th>average_monthly_balance_prevQ</th>\n",
              "      <th>average_monthly_balance_prevQ2</th>\n",
              "      <th>current_month_credit</th>\n",
              "      <th>previous_month_credit</th>\n",
              "      <th>current_month_debit</th>\n",
              "      <th>previous_month_debit</th>\n",
              "      <th>current_month_balance</th>\n",
              "      <th>previous_month_balance</th>\n",
              "      <th>churn</th>\n",
              "    </tr>\n",
              "  </thead>\n",
              "  <tbody>\n",
              "    <tr>\n",
              "      <th>0</th>\n",
              "      <td>1</td>\n",
              "      <td>3135</td>\n",
              "      <td>66</td>\n",
              "      <td>Male</td>\n",
              "      <td>0.0</td>\n",
              "      <td>self_employed</td>\n",
              "      <td>187.0</td>\n",
              "      <td>2</td>\n",
              "      <td>755</td>\n",
              "      <td>224.0</td>\n",
              "      <td>1458.71</td>\n",
              "      <td>1458.71</td>\n",
              "      <td>1458.71</td>\n",
              "      <td>1449.07</td>\n",
              "      <td>0.20</td>\n",
              "      <td>0.20</td>\n",
              "      <td>0.20</td>\n",
              "      <td>0.20</td>\n",
              "      <td>1458.71</td>\n",
              "      <td>1458.71</td>\n",
              "      <td>0</td>\n",
              "    </tr>\n",
              "    <tr>\n",
              "      <th>1</th>\n",
              "      <td>2</td>\n",
              "      <td>310</td>\n",
              "      <td>35</td>\n",
              "      <td>Male</td>\n",
              "      <td>0.0</td>\n",
              "      <td>self_employed</td>\n",
              "      <td>NaN</td>\n",
              "      <td>2</td>\n",
              "      <td>3214</td>\n",
              "      <td>60.0</td>\n",
              "      <td>5390.37</td>\n",
              "      <td>8704.66</td>\n",
              "      <td>7799.26</td>\n",
              "      <td>12419.41</td>\n",
              "      <td>0.56</td>\n",
              "      <td>0.56</td>\n",
              "      <td>5486.27</td>\n",
              "      <td>100.56</td>\n",
              "      <td>6496.78</td>\n",
              "      <td>8787.61</td>\n",
              "      <td>0</td>\n",
              "    </tr>\n",
              "    <tr>\n",
              "      <th>2</th>\n",
              "      <td>4</td>\n",
              "      <td>2356</td>\n",
              "      <td>31</td>\n",
              "      <td>Male</td>\n",
              "      <td>0.0</td>\n",
              "      <td>salaried</td>\n",
              "      <td>146.0</td>\n",
              "      <td>2</td>\n",
              "      <td>41</td>\n",
              "      <td>NaN</td>\n",
              "      <td>3913.16</td>\n",
              "      <td>5815.29</td>\n",
              "      <td>4910.17</td>\n",
              "      <td>2815.94</td>\n",
              "      <td>0.61</td>\n",
              "      <td>0.61</td>\n",
              "      <td>6046.73</td>\n",
              "      <td>259.23</td>\n",
              "      <td>5006.28</td>\n",
              "      <td>5070.14</td>\n",
              "      <td>0</td>\n",
              "    </tr>\n",
              "    <tr>\n",
              "      <th>3</th>\n",
              "      <td>5</td>\n",
              "      <td>478</td>\n",
              "      <td>90</td>\n",
              "      <td>NaN</td>\n",
              "      <td>NaN</td>\n",
              "      <td>self_employed</td>\n",
              "      <td>1020.0</td>\n",
              "      <td>2</td>\n",
              "      <td>582</td>\n",
              "      <td>147.0</td>\n",
              "      <td>2291.91</td>\n",
              "      <td>2291.91</td>\n",
              "      <td>2084.54</td>\n",
              "      <td>1006.54</td>\n",
              "      <td>0.47</td>\n",
              "      <td>0.47</td>\n",
              "      <td>0.47</td>\n",
              "      <td>2143.33</td>\n",
              "      <td>2291.91</td>\n",
              "      <td>1669.79</td>\n",
              "      <td>1</td>\n",
              "    </tr>\n",
              "    <tr>\n",
              "      <th>4</th>\n",
              "      <td>6</td>\n",
              "      <td>2531</td>\n",
              "      <td>42</td>\n",
              "      <td>Male</td>\n",
              "      <td>2.0</td>\n",
              "      <td>self_employed</td>\n",
              "      <td>1494.0</td>\n",
              "      <td>3</td>\n",
              "      <td>388</td>\n",
              "      <td>58.0</td>\n",
              "      <td>927.72</td>\n",
              "      <td>1401.72</td>\n",
              "      <td>1643.31</td>\n",
              "      <td>1871.12</td>\n",
              "      <td>0.33</td>\n",
              "      <td>714.61</td>\n",
              "      <td>588.62</td>\n",
              "      <td>1538.06</td>\n",
              "      <td>1157.15</td>\n",
              "      <td>1677.16</td>\n",
              "      <td>1</td>\n",
              "    </tr>\n",
              "  </tbody>\n",
              "</table>\n",
              "</div>"
            ],
            "text/plain": [
              "   customer_id  vintage  ...  previous_month_balance churn\n",
              "0            1     3135  ...                 1458.71     0\n",
              "1            2      310  ...                 8787.61     0\n",
              "2            4     2356  ...                 5070.14     0\n",
              "3            5      478  ...                 1669.79     1\n",
              "4            6     2531  ...                 1677.16     1\n",
              "\n",
              "[5 rows x 21 columns]"
            ]
          },
          "metadata": {
            "tags": []
          },
          "execution_count": 49
        }
      ]
    },
    {
      "cell_type": "markdown",
      "metadata": {
        "id": "GApiKpC_envl",
        "colab_type": "text"
      },
      "source": [
        "# Familiarizing with data"
      ]
    },
    {
      "cell_type": "code",
      "metadata": {
        "id": "ni7bwcXleCs6",
        "colab_type": "code",
        "colab": {
          "base_uri": "https://localhost:8080/",
          "height": 67
        },
        "outputId": "aadbd4d2-dab0-48c4-b1b5-dd523b3347be"
      },
      "source": [
        "df.churn.value_counts()"
      ],
      "execution_count": null,
      "outputs": [
        {
          "output_type": "execute_result",
          "data": {
            "text/plain": [
              "0    23122\n",
              "1     5260\n",
              "Name: churn, dtype: int64"
            ]
          },
          "metadata": {
            "tags": []
          },
          "execution_count": 6
        }
      ]
    },
    {
      "cell_type": "code",
      "metadata": {
        "id": "DMg094JWexyC",
        "colab_type": "code",
        "colab": {
          "base_uri": "https://localhost:8080/",
          "height": 386
        },
        "outputId": "c73ea437-7a11-404c-9d46-294f1c5b71f1"
      },
      "source": [
        "df.isna().sum()"
      ],
      "execution_count": null,
      "outputs": [
        {
          "output_type": "execute_result",
          "data": {
            "text/plain": [
              "customer_id                          0\n",
              "vintage                              0\n",
              "age                                  0\n",
              "gender                             525\n",
              "dependents                        2463\n",
              "occupation                          80\n",
              "city                               803\n",
              "customer_nw_category                 0\n",
              "branch_code                          0\n",
              "days_since_last_transaction       3223\n",
              "current_balance                      0\n",
              "previous_month_end_balance           0\n",
              "average_monthly_balance_prevQ        0\n",
              "average_monthly_balance_prevQ2       0\n",
              "current_month_credit                 0\n",
              "previous_month_credit                0\n",
              "current_month_debit                  0\n",
              "previous_month_debit                 0\n",
              "current_month_balance                0\n",
              "previous_month_balance               0\n",
              "churn                                0\n",
              "dtype: int64"
            ]
          },
          "metadata": {
            "tags": []
          },
          "execution_count": 12
        }
      ]
    },
    {
      "cell_type": "code",
      "metadata": {
        "id": "PmfXxtE8f3qi",
        "colab_type": "code",
        "colab": {
          "base_uri": "https://localhost:8080/",
          "height": 286
        },
        "outputId": "4568a5c1-dce9-45da-b86b-c8ea5c0a44d2"
      },
      "source": [
        "df.dependents.value_counts()"
      ],
      "execution_count": null,
      "outputs": [
        {
          "output_type": "execute_result",
          "data": {
            "text/plain": [
              "0.0     21435\n",
              "2.0      2150\n",
              "1.0      1395\n",
              "3.0       701\n",
              "4.0       179\n",
              "5.0        41\n",
              "6.0         8\n",
              "7.0         3\n",
              "36.0        1\n",
              "52.0        1\n",
              "25.0        1\n",
              "9.0         1\n",
              "50.0        1\n",
              "32.0        1\n",
              "8.0         1\n",
              "Name: dependents, dtype: int64"
            ]
          },
          "metadata": {
            "tags": []
          },
          "execution_count": 13
        }
      ]
    },
    {
      "cell_type": "code",
      "metadata": {
        "id": "zw8JJIFzf_Pc",
        "colab_type": "code",
        "colab": {
          "base_uri": "https://localhost:8080/",
          "height": 892
        },
        "outputId": "92d7a13d-08de-4d81-b539-45cf8ad64be8"
      },
      "source": [
        "df.hist(figsize = (20,15), bins = 50 );"
      ],
      "execution_count": null,
      "outputs": [
        {
          "output_type": "display_data",
          "data": {
            "image/png": "[encoded data removed]",
            "text/plain": [
              "<Figure size 1440x1080 with 20 Axes>"
            ]
          },
          "metadata": {
            "tags": [],
            "needs_background": "light"
          }
        }
      ]
    },
    {
      "cell_type": "code",
      "metadata": {
        "id": "qIHAxEW9jw3I",
        "colab_type": "code",
        "colab": {
          "base_uri": "https://localhost:8080/",
          "height": 34
        },
        "outputId": "e3d5858e-d782-4a3a-9813-9e6a909de557"
      },
      "source": [
        "df.shape"
      ],
      "execution_count": null,
      "outputs": [
        {
          "output_type": "execute_result",
          "data": {
            "text/plain": [
              "(28382, 21)"
            ]
          },
          "metadata": {
            "tags": []
          },
          "execution_count": 23
        }
      ]
    },
    {
      "cell_type": "code",
      "metadata": {
        "id": "4Muzag1-gRTC",
        "colab_type": "code",
        "colab": {}
      },
      "source": [
        "drop_df = df.dropna(axis = 0, how = 'any' )"
      ],
      "execution_count": null,
      "outputs": []
    },
    {
      "cell_type": "code",
      "metadata": {
        "id": "LS7yRtUGjl2P",
        "colab_type": "code",
        "colab": {
          "base_uri": "https://localhost:8080/",
          "height": 67
        },
        "outputId": "f433290f-5551-472b-ac24-d1070ba210d5"
      },
      "source": [
        "drop_df.churn.value_counts()"
      ],
      "execution_count": null,
      "outputs": [
        {
          "output_type": "execute_result",
          "data": {
            "text/plain": [
              "0    17793\n",
              "1     4274\n",
              "Name: churn, dtype: int64"
            ]
          },
          "metadata": {
            "tags": []
          },
          "execution_count": 26
        }
      ]
    },
    {
      "cell_type": "code",
      "metadata": {
        "id": "CJgXWChDkVBt",
        "colab_type": "code",
        "colab": {
          "base_uri": "https://localhost:8080/",
          "height": 296
        },
        "outputId": "6fe22d32-8617-490c-fcd7-d80943314782"
      },
      "source": [
        "df.plot.scatter(\"age\" , \"churn\")"
      ],
      "execution_count": null,
      "outputs": [
        {
          "output_type": "execute_result",
          "data": {
            "text/plain": [
              "<matplotlib.axes._subplots.AxesSubplot at 0x7fe99baf3da0>"
            ]
          },
          "metadata": {
            "tags": []
          },
          "execution_count": 32
        },
        {
          "output_type": "display_data",
          "data": {
            "image/png": "[encoded data removed]",
            "text/plain": [
              "<Figure size 432x288 with 1 Axes>"
            ]
          },
          "metadata": {
            "tags": [],
            "needs_background": "light"
          }
        }
      ]
    },
    {
      "cell_type": "code",
      "metadata": {
        "id": "Q5THi8Fwks5N",
        "colab_type": "code",
        "colab": {
          "base_uri": "https://localhost:8080/",
          "height": 630
        },
        "outputId": "6262197a-ae89-4a59-b05b-0757f3ea5b36"
      },
      "source": [
        "df.corr()"
      ],
      "execution_count": null,
      "outputs": [
        {
          "output_type": "execute_result",
          "data": {
            "text/html": [
              "<div>\n",
              "<style scoped>\n",
              "    .dataframe tbody tr th:only-of-type {\n",
              "        vertical-align: middle;\n",
              "    }\n",
              "\n",
              "    .dataframe tbody tr th {\n",
              "        vertical-align: top;\n",
              "    }\n",
              "\n",
              "    .dataframe thead th {\n",
              "        text-align: right;\n",
              "    }\n",
              "</style>\n",
              "<table border=\"1\" class=\"dataframe\">\n",
              "  <thead>\n",
              "    <tr style=\"text-align: right;\">\n",
              "      <th></th>\n",
              "      <th>customer_id</th>\n",
              "      <th>vintage</th>\n",
              "      <th>age</th>\n",
              "      <th>dependents</th>\n",
              "      <th>city</th>\n",
              "      <th>customer_nw_category</th>\n",
              "      <th>branch_code</th>\n",
              "      <th>days_since_last_transaction</th>\n",
              "      <th>current_balance</th>\n",
              "      <th>previous_month_end_balance</th>\n",
              "      <th>average_monthly_balance_prevQ</th>\n",
              "      <th>average_monthly_balance_prevQ2</th>\n",
              "      <th>current_month_credit</th>\n",
              "      <th>previous_month_credit</th>\n",
              "      <th>current_month_debit</th>\n",
              "      <th>previous_month_debit</th>\n",
              "      <th>current_month_balance</th>\n",
              "      <th>previous_month_balance</th>\n",
              "      <th>churn</th>\n",
              "    </tr>\n",
              "  </thead>\n",
              "  <tbody>\n",
              "    <tr>\n",
              "      <th>customer_id</th>\n",
              "      <td>1.000000</td>\n",
              "      <td>-0.006093</td>\n",
              "      <td>-0.000442</td>\n",
              "      <td>-0.008616</td>\n",
              "      <td>0.000743</td>\n",
              "      <td>0.009618</td>\n",
              "      <td>-0.000286</td>\n",
              "      <td>0.010267</td>\n",
              "      <td>0.006589</td>\n",
              "      <td>0.005819</td>\n",
              "      <td>0.004485</td>\n",
              "      <td>-0.002532</td>\n",
              "      <td>0.002494</td>\n",
              "      <td>-0.006414</td>\n",
              "      <td>0.002603</td>\n",
              "      <td>-0.008760</td>\n",
              "      <td>0.005140</td>\n",
              "      <td>0.004553</td>\n",
              "      <td>-0.002723</td>\n",
              "    </tr>\n",
              "    <tr>\n",
              "      <th>vintage</th>\n",
              "      <td>-0.006093</td>\n",
              "      <td>1.000000</td>\n",
              "      <td>0.227390</td>\n",
              "      <td>0.036987</td>\n",
              "      <td>0.044200</td>\n",
              "      <td>-0.167366</td>\n",
              "      <td>-0.380714</td>\n",
              "      <td>-0.088744</td>\n",
              "      <td>0.002986</td>\n",
              "      <td>0.004518</td>\n",
              "      <td>0.003433</td>\n",
              "      <td>0.002244</td>\n",
              "      <td>0.002848</td>\n",
              "      <td>0.028034</td>\n",
              "      <td>0.005406</td>\n",
              "      <td>0.023949</td>\n",
              "      <td>0.001638</td>\n",
              "      <td>0.003448</td>\n",
              "      <td>-0.064637</td>\n",
              "    </tr>\n",
              "    <tr>\n",
              "      <th>age</th>\n",
              "      <td>-0.000442</td>\n",
              "      <td>0.227390</td>\n",
              "      <td>1.000000</td>\n",
              "      <td>-0.000612</td>\n",
              "      <td>0.015439</td>\n",
              "      <td>-0.076532</td>\n",
              "      <td>-0.058990</td>\n",
              "      <td>-0.016679</td>\n",
              "      <td>0.054346</td>\n",
              "      <td>0.058342</td>\n",
              "      <td>0.061708</td>\n",
              "      <td>0.059607</td>\n",
              "      <td>0.023840</td>\n",
              "      <td>0.029961</td>\n",
              "      <td>0.027702</td>\n",
              "      <td>0.033296</td>\n",
              "      <td>0.057662</td>\n",
              "      <td>0.060297</td>\n",
              "      <td>-0.020012</td>\n",
              "    </tr>\n",
              "    <tr>\n",
              "      <th>dependents</th>\n",
              "      <td>-0.008616</td>\n",
              "      <td>0.036987</td>\n",
              "      <td>-0.000612</td>\n",
              "      <td>1.000000</td>\n",
              "      <td>0.001892</td>\n",
              "      <td>0.013134</td>\n",
              "      <td>0.020141</td>\n",
              "      <td>-0.079834</td>\n",
              "      <td>-0.003070</td>\n",
              "      <td>0.000216</td>\n",
              "      <td>0.001213</td>\n",
              "      <td>0.002949</td>\n",
              "      <td>0.003260</td>\n",
              "      <td>0.025054</td>\n",
              "      <td>0.008207</td>\n",
              "      <td>0.032021</td>\n",
              "      <td>-0.000652</td>\n",
              "      <td>0.001239</td>\n",
              "      <td>0.033487</td>\n",
              "    </tr>\n",
              "    <tr>\n",
              "      <th>city</th>\n",
              "      <td>0.000743</td>\n",
              "      <td>0.044200</td>\n",
              "      <td>0.015439</td>\n",
              "      <td>0.001892</td>\n",
              "      <td>1.000000</td>\n",
              "      <td>0.006613</td>\n",
              "      <td>-0.061234</td>\n",
              "      <td>-0.004309</td>\n",
              "      <td>-0.005654</td>\n",
              "      <td>-0.004089</td>\n",
              "      <td>-0.006298</td>\n",
              "      <td>-0.007891</td>\n",
              "      <td>0.004118</td>\n",
              "      <td>0.008087</td>\n",
              "      <td>0.001465</td>\n",
              "      <td>0.005995</td>\n",
              "      <td>-0.005796</td>\n",
              "      <td>-0.005839</td>\n",
              "      <td>-0.001585</td>\n",
              "    </tr>\n",
              "    <tr>\n",
              "      <th>customer_nw_category</th>\n",
              "      <td>0.009618</td>\n",
              "      <td>-0.167366</td>\n",
              "      <td>-0.076532</td>\n",
              "      <td>0.013134</td>\n",
              "      <td>0.006613</td>\n",
              "      <td>1.000000</td>\n",
              "      <td>0.235059</td>\n",
              "      <td>0.049531</td>\n",
              "      <td>-0.058314</td>\n",
              "      <td>-0.059854</td>\n",
              "      <td>-0.059535</td>\n",
              "      <td>-0.047010</td>\n",
              "      <td>-0.025254</td>\n",
              "      <td>-0.072374</td>\n",
              "      <td>-0.035917</td>\n",
              "      <td>-0.071721</td>\n",
              "      <td>-0.058648</td>\n",
              "      <td>-0.059113</td>\n",
              "      <td>0.006551</td>\n",
              "    </tr>\n",
              "    <tr>\n",
              "      <th>branch_code</th>\n",
              "      <td>-0.000286</td>\n",
              "      <td>-0.380714</td>\n",
              "      <td>-0.058990</td>\n",
              "      <td>0.020141</td>\n",
              "      <td>-0.061234</td>\n",
              "      <td>0.235059</td>\n",
              "      <td>1.000000</td>\n",
              "      <td>0.038708</td>\n",
              "      <td>0.000181</td>\n",
              "      <td>0.000214</td>\n",
              "      <td>0.001955</td>\n",
              "      <td>0.001310</td>\n",
              "      <td>-0.013988</td>\n",
              "      <td>-0.023849</td>\n",
              "      <td>-0.016944</td>\n",
              "      <td>-0.017584</td>\n",
              "      <td>0.001031</td>\n",
              "      <td>0.002080</td>\n",
              "      <td>0.035469</td>\n",
              "    </tr>\n",
              "    <tr>\n",
              "      <th>days_since_last_transaction</th>\n",
              "      <td>0.010267</td>\n",
              "      <td>-0.088744</td>\n",
              "      <td>-0.016679</td>\n",
              "      <td>-0.079834</td>\n",
              "      <td>-0.004309</td>\n",
              "      <td>0.049531</td>\n",
              "      <td>0.038708</td>\n",
              "      <td>1.000000</td>\n",
              "      <td>-0.019990</td>\n",
              "      <td>-0.014400</td>\n",
              "      <td>-0.012709</td>\n",
              "      <td>-0.006384</td>\n",
              "      <td>-0.033131</td>\n",
              "      <td>-0.071657</td>\n",
              "      <td>-0.039165</td>\n",
              "      <td>-0.070192</td>\n",
              "      <td>-0.017837</td>\n",
              "      <td>-0.011738</td>\n",
              "      <td>-0.055830</td>\n",
              "    </tr>\n",
              "    <tr>\n",
              "      <th>current_balance</th>\n",
              "      <td>0.006589</td>\n",
              "      <td>0.002986</td>\n",
              "      <td>0.054346</td>\n",
              "      <td>-0.003070</td>\n",
              "      <td>-0.005654</td>\n",
              "      <td>-0.058314</td>\n",
              "      <td>0.000181</td>\n",
              "      <td>-0.019990</td>\n",
              "      <td>1.000000</td>\n",
              "      <td>0.947276</td>\n",
              "      <td>0.958307</td>\n",
              "      <td>0.714600</td>\n",
              "      <td>0.030371</td>\n",
              "      <td>0.061754</td>\n",
              "      <td>0.044412</td>\n",
              "      <td>0.081247</td>\n",
              "      <td>0.983412</td>\n",
              "      <td>0.942207</td>\n",
              "      <td>-0.024181</td>\n",
              "    </tr>\n",
              "    <tr>\n",
              "      <th>previous_month_end_balance</th>\n",
              "      <td>0.005819</td>\n",
              "      <td>0.004518</td>\n",
              "      <td>0.058342</td>\n",
              "      <td>0.000216</td>\n",
              "      <td>-0.004089</td>\n",
              "      <td>-0.059854</td>\n",
              "      <td>0.000214</td>\n",
              "      <td>-0.014400</td>\n",
              "      <td>0.947276</td>\n",
              "      <td>1.000000</td>\n",
              "      <td>0.970530</td>\n",
              "      <td>0.722998</td>\n",
              "      <td>0.032493</td>\n",
              "      <td>0.114222</td>\n",
              "      <td>0.066329</td>\n",
              "      <td>0.109606</td>\n",
              "      <td>0.974714</td>\n",
              "      <td>0.969605</td>\n",
              "      <td>0.006886</td>\n",
              "    </tr>\n",
              "    <tr>\n",
              "      <th>average_monthly_balance_prevQ</th>\n",
              "      <td>0.004485</td>\n",
              "      <td>0.003433</td>\n",
              "      <td>0.061708</td>\n",
              "      <td>0.001213</td>\n",
              "      <td>-0.006298</td>\n",
              "      <td>-0.059535</td>\n",
              "      <td>0.001955</td>\n",
              "      <td>-0.012709</td>\n",
              "      <td>0.958307</td>\n",
              "      <td>0.970530</td>\n",
              "      <td>1.000000</td>\n",
              "      <td>0.763495</td>\n",
              "      <td>0.033639</td>\n",
              "      <td>0.085699</td>\n",
              "      <td>0.060579</td>\n",
              "      <td>0.121272</td>\n",
              "      <td>0.976290</td>\n",
              "      <td>0.994038</td>\n",
              "      <td>0.011960</td>\n",
              "    </tr>\n",
              "    <tr>\n",
              "      <th>average_monthly_balance_prevQ2</th>\n",
              "      <td>-0.002532</td>\n",
              "      <td>0.002244</td>\n",
              "      <td>0.059607</td>\n",
              "      <td>0.002949</td>\n",
              "      <td>-0.007891</td>\n",
              "      <td>-0.047010</td>\n",
              "      <td>0.001310</td>\n",
              "      <td>-0.006384</td>\n",
              "      <td>0.714600</td>\n",
              "      <td>0.722998</td>\n",
              "      <td>0.763495</td>\n",
              "      <td>1.000000</td>\n",
              "      <td>0.036271</td>\n",
              "      <td>0.062264</td>\n",
              "      <td>0.045239</td>\n",
              "      <td>0.102519</td>\n",
              "      <td>0.725826</td>\n",
              "      <td>0.736635</td>\n",
              "      <td>0.018376</td>\n",
              "    </tr>\n",
              "    <tr>\n",
              "      <th>current_month_credit</th>\n",
              "      <td>0.002494</td>\n",
              "      <td>0.002848</td>\n",
              "      <td>0.023840</td>\n",
              "      <td>0.003260</td>\n",
              "      <td>0.004118</td>\n",
              "      <td>-0.025254</td>\n",
              "      <td>-0.013988</td>\n",
              "      <td>-0.033131</td>\n",
              "      <td>0.030371</td>\n",
              "      <td>0.032493</td>\n",
              "      <td>0.033639</td>\n",
              "      <td>0.036271</td>\n",
              "      <td>1.000000</td>\n",
              "      <td>0.168561</td>\n",
              "      <td>0.937021</td>\n",
              "      <td>0.135729</td>\n",
              "      <td>0.034182</td>\n",
              "      <td>0.038254</td>\n",
              "      <td>0.020755</td>\n",
              "    </tr>\n",
              "    <tr>\n",
              "      <th>previous_month_credit</th>\n",
              "      <td>-0.006414</td>\n",
              "      <td>0.028034</td>\n",
              "      <td>0.029961</td>\n",
              "      <td>0.025054</td>\n",
              "      <td>0.008087</td>\n",
              "      <td>-0.072374</td>\n",
              "      <td>-0.023849</td>\n",
              "      <td>-0.071657</td>\n",
              "      <td>0.061754</td>\n",
              "      <td>0.114222</td>\n",
              "      <td>0.085699</td>\n",
              "      <td>0.062264</td>\n",
              "      <td>0.168561</td>\n",
              "      <td>1.000000</td>\n",
              "      <td>0.165092</td>\n",
              "      <td>0.733953</td>\n",
              "      <td>0.085320</td>\n",
              "      <td>0.108496</td>\n",
              "      <td>0.042179</td>\n",
              "    </tr>\n",
              "    <tr>\n",
              "      <th>current_month_debit</th>\n",
              "      <td>0.002603</td>\n",
              "      <td>0.005406</td>\n",
              "      <td>0.027702</td>\n",
              "      <td>0.008207</td>\n",
              "      <td>0.001465</td>\n",
              "      <td>-0.035917</td>\n",
              "      <td>-0.016944</td>\n",
              "      <td>-0.039165</td>\n",
              "      <td>0.044412</td>\n",
              "      <td>0.066329</td>\n",
              "      <td>0.060579</td>\n",
              "      <td>0.045239</td>\n",
              "      <td>0.937021</td>\n",
              "      <td>0.165092</td>\n",
              "      <td>1.000000</td>\n",
              "      <td>0.191755</td>\n",
              "      <td>0.069720</td>\n",
              "      <td>0.063375</td>\n",
              "      <td>0.048041</td>\n",
              "    </tr>\n",
              "    <tr>\n",
              "      <th>previous_month_debit</th>\n",
              "      <td>-0.008760</td>\n",
              "      <td>0.023949</td>\n",
              "      <td>0.033296</td>\n",
              "      <td>0.032021</td>\n",
              "      <td>0.005995</td>\n",
              "      <td>-0.071721</td>\n",
              "      <td>-0.017584</td>\n",
              "      <td>-0.070192</td>\n",
              "      <td>0.081247</td>\n",
              "      <td>0.109606</td>\n",
              "      <td>0.121272</td>\n",
              "      <td>0.102519</td>\n",
              "      <td>0.135729</td>\n",
              "      <td>0.733953</td>\n",
              "      <td>0.191755</td>\n",
              "      <td>1.000000</td>\n",
              "      <td>0.102010</td>\n",
              "      <td>0.139723</td>\n",
              "      <td>0.073058</td>\n",
              "    </tr>\n",
              "    <tr>\n",
              "      <th>current_month_balance</th>\n",
              "      <td>0.005140</td>\n",
              "      <td>0.001638</td>\n",
              "      <td>0.057662</td>\n",
              "      <td>-0.000652</td>\n",
              "      <td>-0.005796</td>\n",
              "      <td>-0.058648</td>\n",
              "      <td>0.001031</td>\n",
              "      <td>-0.017837</td>\n",
              "      <td>0.983412</td>\n",
              "      <td>0.974714</td>\n",
              "      <td>0.976290</td>\n",
              "      <td>0.725826</td>\n",
              "      <td>0.034182</td>\n",
              "      <td>0.085320</td>\n",
              "      <td>0.069720</td>\n",
              "      <td>0.102010</td>\n",
              "      <td>1.000000</td>\n",
              "      <td>0.963276</td>\n",
              "      <td>-0.006391</td>\n",
              "    </tr>\n",
              "    <tr>\n",
              "      <th>previous_month_balance</th>\n",
              "      <td>0.004553</td>\n",
              "      <td>0.003448</td>\n",
              "      <td>0.060297</td>\n",
              "      <td>0.001239</td>\n",
              "      <td>-0.005839</td>\n",
              "      <td>-0.059113</td>\n",
              "      <td>0.002080</td>\n",
              "      <td>-0.011738</td>\n",
              "      <td>0.942207</td>\n",
              "      <td>0.969605</td>\n",
              "      <td>0.994038</td>\n",
              "      <td>0.736635</td>\n",
              "      <td>0.038254</td>\n",
              "      <td>0.108496</td>\n",
              "      <td>0.063375</td>\n",
              "      <td>0.139723</td>\n",
              "      <td>0.963276</td>\n",
              "      <td>1.000000</td>\n",
              "      <td>0.014593</td>\n",
              "    </tr>\n",
              "    <tr>\n",
              "      <th>churn</th>\n",
              "      <td>-0.002723</td>\n",
              "      <td>-0.064637</td>\n",
              "      <td>-0.020012</td>\n",
              "      <td>0.033487</td>\n",
              "      <td>-0.001585</td>\n",
              "      <td>0.006551</td>\n",
              "      <td>0.035469</td>\n",
              "      <td>-0.055830</td>\n",
              "      <td>-0.024181</td>\n",
              "      <td>0.006886</td>\n",
              "      <td>0.011960</td>\n",
              "      <td>0.018376</td>\n",
              "      <td>0.020755</td>\n",
              "      <td>0.042179</td>\n",
              "      <td>0.048041</td>\n",
              "      <td>0.073058</td>\n",
              "      <td>-0.006391</td>\n",
              "      <td>0.014593</td>\n",
              "      <td>1.000000</td>\n",
              "    </tr>\n",
              "  </tbody>\n",
              "</table>\n",
              "</div>"
            ],
            "text/plain": [
              "                                customer_id  ...     churn\n",
              "customer_id                        1.000000  ... -0.002723\n",
              "vintage                           -0.006093  ... -0.064637\n",
              "age                               -0.000442  ... -0.020012\n",
              "dependents                        -0.008616  ...  0.033487\n",
              "city                               0.000743  ... -0.001585\n",
              "customer_nw_category               0.009618  ...  0.006551\n",
              "branch_code                       -0.000286  ...  0.035469\n",
              "days_since_last_transaction        0.010267  ... -0.055830\n",
              "current_balance                    0.006589  ... -0.024181\n",
              "previous_month_end_balance         0.005819  ...  0.006886\n",
              "average_monthly_balance_prevQ      0.004485  ...  0.011960\n",
              "average_monthly_balance_prevQ2    -0.002532  ...  0.018376\n",
              "current_month_credit               0.002494  ...  0.020755\n",
              "previous_month_credit             -0.006414  ...  0.042179\n",
              "current_month_debit                0.002603  ...  0.048041\n",
              "previous_month_debit              -0.008760  ...  0.073058\n",
              "current_month_balance              0.005140  ... -0.006391\n",
              "previous_month_balance             0.004553  ...  0.014593\n",
              "churn                             -0.002723  ...  1.000000\n",
              "\n",
              "[19 rows x 19 columns]"
            ]
          },
          "metadata": {
            "tags": []
          },
          "execution_count": 33
        }
      ]
    },
    {
      "cell_type": "code",
      "metadata": {
        "id": "5pbn73abl9jo",
        "colab_type": "code",
        "colab": {
          "base_uri": "https://localhost:8080/",
          "height": 296
        },
        "outputId": "749ab6a2-b562-41e5-a4b1-4f6f23ce9714"
      },
      "source": [
        "df.plot.scatter( \"age\", \"dependents\")"
      ],
      "execution_count": null,
      "outputs": [
        {
          "output_type": "execute_result",
          "data": {
            "text/plain": [
              "<matplotlib.axes._subplots.AxesSubplot at 0x7fe99bb67550>"
            ]
          },
          "metadata": {
            "tags": []
          },
          "execution_count": 35
        },
        {
          "output_type": "display_data",
          "data": {
            "image/png": "[encoded data removed]",
            "text/plain": [
              "<Figure size 432x288 with 1 Axes>"
            ]
          },
          "metadata": {
            "tags": [],
            "needs_background": "light"
          }
        }
      ]
    },
    {
      "cell_type": "code",
      "metadata": {
        "id": "Z-bkjX5soGNH",
        "colab_type": "code",
        "colab": {
          "base_uri": "https://localhost:8080/",
          "height": 296
        },
        "outputId": "a12097a8-8ab4-418d-f519-b8a258690823"
      },
      "source": [
        "df.plot.scatter(\"age\", \"days_since_last_transaction\")"
      ],
      "execution_count": null,
      "outputs": [
        {
          "output_type": "execute_result",
          "data": {
            "text/plain": [
              "<matplotlib.axes._subplots.AxesSubplot at 0x7fe99b270a58>"
            ]
          },
          "metadata": {
            "tags": []
          },
          "execution_count": 36
        },
        {
          "output_type": "display_data",
          "data": {
            "image/png": "[encoded data removed]",
            "text/plain": [
              "<Figure size 432x288 with 1 Axes>"
            ]
          },
          "metadata": {
            "tags": [],
            "needs_background": "light"
          }
        }
      ]
    },
    {
      "cell_type": "code",
      "metadata": {
        "id": "VXAtD93Dofvp",
        "colab_type": "code",
        "colab": {
          "base_uri": "https://localhost:8080/",
          "height": 296
        },
        "outputId": "eb1edb6b-7da3-4ea6-dc05-8eab74e01811"
      },
      "source": [
        "df.plot.scatter(\"vintage\", \"days_since_last_transaction\")"
      ],
      "execution_count": null,
      "outputs": [
        {
          "output_type": "execute_result",
          "data": {
            "text/plain": [
              "<matplotlib.axes._subplots.AxesSubplot at 0x7fe99b724588>"
            ]
          },
          "metadata": {
            "tags": []
          },
          "execution_count": 38
        },
        {
          "output_type": "display_data",
          "data": {
            "image/png": "[encoded data removed]",
            "text/plain": [
              "<Figure size 432x288 with 1 Axes>"
            ]
          },
          "metadata": {
            "tags": [],
            "needs_background": "light"
          }
        }
      ]
    },
    {
      "cell_type": "code",
      "metadata": {
        "id": "O81VAT7Xos6I",
        "colab_type": "code",
        "colab": {
          "base_uri": "https://localhost:8080/",
          "height": 297
        },
        "outputId": "81068534-9c2d-4b0d-ef3c-256f3dacea79"
      },
      "source": [
        "df.plot.scatter(\"current_balance\", \"days_since_last_transaction\")"
      ],
      "execution_count": null,
      "outputs": [
        {
          "output_type": "execute_result",
          "data": {
            "text/plain": [
              "<matplotlib.axes._subplots.AxesSubplot at 0x7fe99bfeea90>"
            ]
          },
          "metadata": {
            "tags": []
          },
          "execution_count": 39
        },
        {
          "output_type": "display_data",
          "data": {
            "image/png": "[encoded data removed]",
            "text/plain": [
              "<Figure size 432x288 with 1 Axes>"
            ]
          },
          "metadata": {
            "tags": [],
            "needs_background": "light"
          }
        }
      ]
    },
    {
      "cell_type": "code",
      "metadata": {
        "id": "v8NKZgXptaBa",
        "colab_type": "code",
        "colab": {
          "base_uri": "https://localhost:8080/",
          "height": 67
        },
        "outputId": "4f8d2d93-2e70-4b47-ea30-765fb422c2dd"
      },
      "source": [
        "df.gender.value_counts()"
      ],
      "execution_count": null,
      "outputs": [
        {
          "output_type": "execute_result",
          "data": {
            "text/plain": [
              "Male      16548\n",
              "Female    11309\n",
              "Name: gender, dtype: int64"
            ]
          },
          "metadata": {
            "tags": []
          },
          "execution_count": 45
        }
      ]
    },
    {
      "cell_type": "code",
      "metadata": {
        "id": "1W9JoshhtonC",
        "colab_type": "code",
        "colab": {
          "base_uri": "https://localhost:8080/",
          "height": 136
        },
        "outputId": "d032577d-b3e3-402e-8bda-00b879a9fc94"
      },
      "source": [
        "pd.crosstab(df.churn, df.gender)"
      ],
      "execution_count": null,
      "outputs": [
        {
          "output_type": "execute_result",
          "data": {
            "text/html": [
              "<div>\n",
              "<style scoped>\n",
              "    .dataframe tbody tr th:only-of-type {\n",
              "        vertical-align: middle;\n",
              "    }\n",
              "\n",
              "    .dataframe tbody tr th {\n",
              "        vertical-align: top;\n",
              "    }\n",
              "\n",
              "    .dataframe thead th {\n",
              "        text-align: right;\n",
              "    }\n",
              "</style>\n",
              "<table border=\"1\" class=\"dataframe\">\n",
              "  <thead>\n",
              "    <tr style=\"text-align: right;\">\n",
              "      <th>gender</th>\n",
              "      <th>Female</th>\n",
              "      <th>Male</th>\n",
              "    </tr>\n",
              "    <tr>\n",
              "      <th>churn</th>\n",
              "      <th></th>\n",
              "      <th></th>\n",
              "    </tr>\n",
              "  </thead>\n",
              "  <tbody>\n",
              "    <tr>\n",
              "      <th>0</th>\n",
              "      <td>9324</td>\n",
              "      <td>13379</td>\n",
              "    </tr>\n",
              "    <tr>\n",
              "      <th>1</th>\n",
              "      <td>1985</td>\n",
              "      <td>3169</td>\n",
              "    </tr>\n",
              "  </tbody>\n",
              "</table>\n",
              "</div>"
            ],
            "text/plain": [
              "gender  Female   Male\n",
              "churn                \n",
              "0         9324  13379\n",
              "1         1985   3169"
            ]
          },
          "metadata": {
            "tags": []
          },
          "execution_count": 46
        }
      ]
    },
    {
      "cell_type": "code",
      "metadata": {
        "id": "rQMWUskDpa22",
        "colab_type": "code",
        "colab": {
          "base_uri": "https://localhost:8080/",
          "height": 296
        },
        "outputId": "40efc270-0ef0-42ce-8f9c-47d77ee708c9"
      },
      "source": [
        "pd.crosstab(df.churn, df.gender).plot(kind = \"bar\")"
      ],
      "execution_count": null,
      "outputs": [
        {
          "output_type": "execute_result",
          "data": {
            "text/plain": [
              "<matplotlib.axes._subplots.AxesSubplot at 0x7fe97aea5438>"
            ]
          },
          "metadata": {
            "tags": []
          },
          "execution_count": 47
        },
        {
          "output_type": "display_data",
          "data": {
            "image/png": "[encoded data removed]",
            "text/plain": [
              "<Figure size 432x288 with 1 Axes>"
            ]
          },
          "metadata": {
            "tags": [],
            "needs_background": "light"
          }
        }
      ]
    },
    {
      "cell_type": "code",
      "metadata": {
        "id": "rCKasaXmrKTH",
        "colab_type": "code",
        "colab": {
          "base_uri": "https://localhost:8080/",
          "height": 326
        },
        "outputId": "6baf7e7b-b355-43ad-81f2-1d96855b547f"
      },
      "source": [
        "pd.crosstab(df.churn, df.gender).T.plot(kind = \"bar\")"
      ],
      "execution_count": null,
      "outputs": [
        {
          "output_type": "execute_result",
          "data": {
            "text/plain": [
              "<matplotlib.axes._subplots.AxesSubplot at 0x7fe97b532a90>"
            ]
          },
          "metadata": {
            "tags": []
          },
          "execution_count": 48
        },
        {
          "output_type": "display_data",
          "data": {
            "image/png": "[encoded data removed]",
            "text/plain": [
              "<Figure size 432x288 with 1 Axes>"
            ]
          },
          "metadata": {
            "tags": [],
            "needs_background": "light"
          }
        }
      ]
    },
    {
      "cell_type": "code",
      "metadata": {
        "id": "ZILNO9g6uBpf",
        "colab_type": "code",
        "colab": {
          "base_uri": "https://localhost:8080/",
          "height": 421
        },
        "outputId": "a4c88754-4744-4a34-adde-149545f8c6b1"
      },
      "source": [
        "# Create another figure\n",
        "plt.figure(figsize=(10,6))\n",
        "\n",
        "# Start with positve examples\n",
        "plt.scatter(df.age[df.churn==1], \n",
        "            df.dependents[df.churn==1], \n",
        "            c=\"salmon\") # define it as a scatter figure\n",
        "\n",
        "# Now for negative examples, we want them on the same plot, so we call plt again\n",
        "plt.scatter(df.age[df.churn==0], \n",
        "            df.dependents[df.churn==0], \n",
        "            c=\"lightblue\") # axis always come as (x, y)\n",
        "\n",
        "# Add some helpful info\n",
        "plt.title(\"age and dependents\")\n",
        "plt.xlabel(\"Age\")\n",
        "plt.legend([\"churn\", \"No churn\"])"
      ],
      "execution_count": null,
      "outputs": [
        {
          "output_type": "execute_result",
          "data": {
            "text/plain": [
              "<matplotlib.legend.Legend at 0x7fe97ad61b38>"
            ]
          },
          "metadata": {
            "tags": []
          },
          "execution_count": 50
        },
        {
          "output_type": "display_data",
          "data": {
            "image/png": "[encoded data removed]",
            "text/plain": [
              "<Figure size 720x432 with 1 Axes>"
            ]
          },
          "metadata": {
            "tags": [],
            "needs_background": "light"
          }
        }
      ]
    },
    {
      "cell_type": "code",
      "metadata": {
        "id": "xAXF32McvWn9",
        "colab_type": "code",
        "colab": {
          "base_uri": "https://localhost:8080/",
          "height": 421
        },
        "outputId": "3221685a-7cf2-4e48-c045-223d4f3055d8"
      },
      "source": [
        "# Create another figure\n",
        "plt.figure(figsize=(10,6))\n",
        "\n",
        "# Start with positve examples\n",
        "plt.scatter(df.age[df.churn==1], \n",
        "            df.days_since_last_transaction[df.churn==1], \n",
        "            c=\"salmon\") # define it as a scatter figure\n",
        "\n",
        "# Now for negative examples, we want them on the same plot, so we call plt again\n",
        "plt.scatter(df.age[df.churn==0], \n",
        "            df.days_since_last_transaction[df.churn==0], \n",
        "            c=\"lightblue\") # axis always come as (x, y)\n",
        "\n",
        "# Add some helpful info\n",
        "plt.title(\"age and days_since_last_transaction\")\n",
        "plt.xlabel(\"Age\")\n",
        "plt.legend([\"churn\", \"No churn\"])"
      ],
      "execution_count": null,
      "outputs": [
        {
          "output_type": "execute_result",
          "data": {
            "text/plain": [
              "<matplotlib.legend.Legend at 0x7fe97aea5c50>"
            ]
          },
          "metadata": {
            "tags": []
          },
          "execution_count": 51
        },
        {
          "output_type": "display_data",
          "data": {
            "image/png": "[encoded data removed]",
            "text/plain": [
              "<Figure size 720x432 with 1 Axes>"
            ]
          },
          "metadata": {
            "tags": [],
            "needs_background": "light"
          }
        }
      ]
    },
    {
      "cell_type": "code",
      "metadata": {
        "id": "1ctViMwTwJPG",
        "colab_type": "code",
        "colab": {
          "base_uri": "https://localhost:8080/",
          "height": 421
        },
        "outputId": "20e11b89-2b36-4320-f8d0-283dd071c8b6"
      },
      "source": [
        "# Create another figure\n",
        "plt.figure(figsize=(10,6))\n",
        "\n",
        "# Start with positve examples\n",
        "plt.scatter(df.dependents[df.churn==1], \n",
        "            df.days_since_last_transaction[df.churn==1], \n",
        "            c=\"salmon\") # define it as a scatter figure\n",
        "\n",
        "# Now for negative examples, we want them on the same plot, so we call plt again\n",
        "plt.scatter(df.dependents[df.churn==0], \n",
        "            df.days_since_last_transaction[df.churn==0], \n",
        "            c=\"lightblue\") # axis always come as (x, y)\n",
        "\n",
        "# Add some helpful info\n",
        "plt.title(\"dependents and days_since_last_transaction\")\n",
        "plt.xlabel(\"Age\")\n",
        "plt.legend([\"churn\", \"No churn\"])"
      ],
      "execution_count": null,
      "outputs": [
        {
          "output_type": "execute_result",
          "data": {
            "text/plain": [
              "<matplotlib.legend.Legend at 0x7fe97ac7d2e8>"
            ]
          },
          "metadata": {
            "tags": []
          },
          "execution_count": 52
        },
        {
          "output_type": "display_data",
          "data": {
            "image/png": "[encoded data removed]",
            "text/plain": [
              "<Figure size 720x432 with 1 Axes>"
            ]
          },
          "metadata": {
            "tags": [],
            "needs_background": "light"
          }
        }
      ]
    },
    {
      "cell_type": "code",
      "metadata": {
        "id": "-TBp9v0NwYMW",
        "colab_type": "code",
        "colab": {
          "base_uri": "https://localhost:8080/",
          "height": 185
        },
        "outputId": "6dc9f650-c1c2-4c72-dbee-b43b19c6af56"
      },
      "source": [
        "df.dependents[df.churn == 1].value_counts()"
      ],
      "execution_count": null,
      "outputs": [
        {
          "output_type": "execute_result",
          "data": {
            "text/plain": [
              "0.0     3735\n",
              "2.0      485\n",
              "1.0      319\n",
              "3.0      150\n",
              "4.0       33\n",
              "5.0        5\n",
              "6.0        4\n",
              "50.0       1\n",
              "8.0        1\n",
              "Name: dependents, dtype: int64"
            ]
          },
          "metadata": {
            "tags": []
          },
          "execution_count": 53
        }
      ]
    },
    {
      "cell_type": "markdown",
      "metadata": {
        "id": "y5wGb10Fxihc",
        "colab_type": "text"
      },
      "source": [
        "# Filling the missing data\n",
        "\n"
      ]
    },
    {
      "cell_type": "code",
      "metadata": {
        "id": "0OwjCc9JxZJI",
        "colab_type": "code",
        "colab": {
          "base_uri": "https://localhost:8080/",
          "height": 386
        },
        "outputId": "9c7320cf-9320-489b-c991-6e23b16e9bf4"
      },
      "source": [
        "df.dtypes"
      ],
      "execution_count": null,
      "outputs": [
        {
          "output_type": "execute_result",
          "data": {
            "text/plain": [
              "customer_id                         int64\n",
              "vintage                             int64\n",
              "age                                 int64\n",
              "gender                             object\n",
              "dependents                          int64\n",
              "occupation                         object\n",
              "city                              float64\n",
              "customer_nw_category                int64\n",
              "branch_code                         int64\n",
              "days_since_last_transaction       float64\n",
              "current_balance                   float64\n",
              "previous_month_end_balance        float64\n",
              "average_monthly_balance_prevQ     float64\n",
              "average_monthly_balance_prevQ2    float64\n",
              "current_month_credit              float64\n",
              "previous_month_credit             float64\n",
              "current_month_debit               float64\n",
              "previous_month_debit              float64\n",
              "current_month_balance             float64\n",
              "previous_month_balance            float64\n",
              "churn                               int64\n",
              "dtype: object"
            ]
          },
          "metadata": {
            "tags": []
          },
          "execution_count": 18
        }
      ]
    },
    {
      "cell_type": "markdown",
      "metadata": {
        "id": "klO1pVQAPjCt",
        "colab_type": "text"
      },
      "source": [
        "We have 5 columns which has missing values:\n",
        "\n",
        "* gender\n",
        "* dependents\n",
        "* occupation\n",
        "* city\n",
        "* days_since_last_transaction "
      ]
    },
    {
      "cell_type": "markdown",
      "metadata": {
        "id": "zN5hV_VbPMyg",
        "colab_type": "text"
      },
      "source": [
        "## Occupation\n",
        "\n",
        "Here the column \"**Occupation**\" with missing values are filled with value \"**Self_employed**\" which is most frequent.\n",
        "\n",
        "One more column with binary value i.e. True and False, is added under column name \"**occupation_with_missing_data**\"."
      ]
    },
    {
      "cell_type": "code",
      "metadata": {
        "id": "RVvRMZVRySzF",
        "colab_type": "code",
        "colab": {
          "base_uri": "https://localhost:8080/",
          "height": 118
        },
        "outputId": "5f38e0df-07d8-443f-86c4-7cc462bc5af2"
      },
      "source": [
        "df.occupation.value_counts()"
      ],
      "execution_count": null,
      "outputs": [
        {
          "output_type": "execute_result",
          "data": {
            "text/plain": [
              "self_employed    17476\n",
              "salaried          6704\n",
              "student           2058\n",
              "retired           2024\n",
              "company             40\n",
              "Name: occupation, dtype: int64"
            ]
          },
          "metadata": {
            "tags": []
          },
          "execution_count": 56
        }
      ]
    },
    {
      "cell_type": "code",
      "metadata": {
        "id": "WK4tAg-7yk2X",
        "colab_type": "code",
        "colab": {
          "base_uri": "https://localhost:8080/",
          "height": 225
        },
        "outputId": "3580c1f6-f00e-42c9-a4f8-83a117b7c8ec"
      },
      "source": [
        "pd.crosstab(df.occupation, df.churn)"
      ],
      "execution_count": null,
      "outputs": [
        {
          "output_type": "execute_result",
          "data": {
            "text/html": [
              "<div>\n",
              "<style scoped>\n",
              "    .dataframe tbody tr th:only-of-type {\n",
              "        vertical-align: middle;\n",
              "    }\n",
              "\n",
              "    .dataframe tbody tr th {\n",
              "        vertical-align: top;\n",
              "    }\n",
              "\n",
              "    .dataframe thead th {\n",
              "        text-align: right;\n",
              "    }\n",
              "</style>\n",
              "<table border=\"1\" class=\"dataframe\">\n",
              "  <thead>\n",
              "    <tr style=\"text-align: right;\">\n",
              "      <th>churn</th>\n",
              "      <th>0</th>\n",
              "      <th>1</th>\n",
              "    </tr>\n",
              "    <tr>\n",
              "      <th>occupation</th>\n",
              "      <th></th>\n",
              "      <th></th>\n",
              "    </tr>\n",
              "  </thead>\n",
              "  <tbody>\n",
              "    <tr>\n",
              "      <th>company</th>\n",
              "      <td>36</td>\n",
              "      <td>4</td>\n",
              "    </tr>\n",
              "    <tr>\n",
              "      <th>retired</th>\n",
              "      <td>1719</td>\n",
              "      <td>305</td>\n",
              "    </tr>\n",
              "    <tr>\n",
              "      <th>salaried</th>\n",
              "      <td>5557</td>\n",
              "      <td>1147</td>\n",
              "    </tr>\n",
              "    <tr>\n",
              "      <th>self_employed</th>\n",
              "      <td>14076</td>\n",
              "      <td>3480</td>\n",
              "    </tr>\n",
              "    <tr>\n",
              "      <th>student</th>\n",
              "      <td>1734</td>\n",
              "      <td>324</td>\n",
              "    </tr>\n",
              "  </tbody>\n",
              "</table>\n",
              "</div>"
            ],
            "text/plain": [
              "churn              0     1\n",
              "occupation                \n",
              "company           36     4\n",
              "retired         1719   305\n",
              "salaried        5557  1147\n",
              "self_employed  14076  3480\n",
              "student         1734   324"
            ]
          },
          "metadata": {
            "tags": []
          },
          "execution_count": 5
        }
      ]
    },
    {
      "cell_type": "code",
      "metadata": {
        "id": "59H3IGkEPgAR",
        "colab_type": "code",
        "colab": {}
      },
      "source": [
        "for name, content in df.items():\n",
        "  if name == \"occupation\":\n",
        "    df[\"occupation_with_missing_data\"] = pd.isnull(content)"
      ],
      "execution_count": null,
      "outputs": []
    },
    {
      "cell_type": "code",
      "metadata": {
        "id": "xuvi4ZRiTooP",
        "colab_type": "code",
        "colab": {}
      },
      "source": [
        "df[\"occupation\"].fillna(value = \"self_employed\", inplace = True)"
      ],
      "execution_count": null,
      "outputs": []
    },
    {
      "cell_type": "code",
      "metadata": {
        "id": "NjcDeRylStrz",
        "colab_type": "code",
        "colab": {
          "base_uri": "https://localhost:8080/",
          "height": 34
        },
        "outputId": "5d8fba8a-1359-4475-d3f0-67225266f0d6"
      },
      "source": [
        "df.shape"
      ],
      "execution_count": null,
      "outputs": [
        {
          "output_type": "execute_result",
          "data": {
            "text/plain": [
              "(28382, 22)"
            ]
          },
          "metadata": {
            "tags": []
          },
          "execution_count": 17
        }
      ]
    },
    {
      "cell_type": "code",
      "metadata": {
        "id": "Z4pn_AN_S4vk",
        "colab_type": "code",
        "colab": {
          "base_uri": "https://localhost:8080/",
          "height": 67
        },
        "outputId": "591c9224-2126-4697-adcc-8351766d7bd9"
      },
      "source": [
        "df.occupation_with_missing_data.value_counts()"
      ],
      "execution_count": null,
      "outputs": [
        {
          "output_type": "execute_result",
          "data": {
            "text/plain": [
              "False    28302\n",
              "True        80\n",
              "Name: occupation_with_missing_data, dtype: int64"
            ]
          },
          "metadata": {
            "tags": []
          },
          "execution_count": 18
        }
      ]
    },
    {
      "cell_type": "markdown",
      "metadata": {
        "id": "cgZmr8gtPQ6y",
        "colab_type": "text"
      },
      "source": [
        "## dependents\n",
        "\n",
        "Here the column \"**dependents**\" with missing values are filled with value \"**0**\".\n",
        "In the next step, the column values are converted to ***int*** type.\n",
        "\n",
        "One more column with binary value i.e. True and False, is added under column name \"**dependents_with_missing_data**\"."
      ]
    },
    {
      "cell_type": "code",
      "metadata": {
        "id": "ohhN20Ep1F_C",
        "colab_type": "code",
        "colab": {
          "base_uri": "https://localhost:8080/",
          "height": 185
        },
        "outputId": "7dd53087-6b22-40bc-a7ea-cedbd5a553c1"
      },
      "source": [
        "df.dependents[df.churn == 1].value_counts()"
      ],
      "execution_count": null,
      "outputs": [
        {
          "output_type": "execute_result",
          "data": {
            "text/plain": [
              "0.0     3735\n",
              "2.0      485\n",
              "1.0      319\n",
              "3.0      150\n",
              "4.0       33\n",
              "5.0        5\n",
              "6.0        4\n",
              "50.0       1\n",
              "8.0        1\n",
              "Name: dependents, dtype: int64"
            ]
          },
          "metadata": {
            "tags": []
          },
          "execution_count": 8
        }
      ]
    },
    {
      "cell_type": "code",
      "metadata": {
        "id": "PS9YBRdTOLsu",
        "colab_type": "code",
        "colab": {
          "base_uri": "https://localhost:8080/",
          "height": 252
        },
        "outputId": "b2b85b9f-31af-4bee-a9c2-193119e9a865"
      },
      "source": [
        "df.dependents[df.churn == 0].value_counts()"
      ],
      "execution_count": null,
      "outputs": [
        {
          "output_type": "execute_result",
          "data": {
            "text/plain": [
              "0.0     17700\n",
              "2.0      1665\n",
              "1.0      1076\n",
              "3.0       551\n",
              "4.0       146\n",
              "5.0        36\n",
              "6.0         4\n",
              "7.0         3\n",
              "36.0        1\n",
              "52.0        1\n",
              "9.0         1\n",
              "25.0        1\n",
              "32.0        1\n",
              "Name: dependents, dtype: int64"
            ]
          },
          "metadata": {
            "tags": []
          },
          "execution_count": 9
        }
      ]
    },
    {
      "cell_type": "code",
      "metadata": {
        "id": "GNgCezP_OaZG",
        "colab_type": "code",
        "colab": {
          "base_uri": "https://localhost:8080/",
          "height": 34
        },
        "outputId": "bcac2459-1f2c-4949-d36f-6cd6bda2a186"
      },
      "source": [
        "df.dependents[df.churn == 1].isna().sum()"
      ],
      "execution_count": null,
      "outputs": [
        {
          "output_type": "execute_result",
          "data": {
            "text/plain": [
              "527"
            ]
          },
          "metadata": {
            "tags": []
          },
          "execution_count": 10
        }
      ]
    },
    {
      "cell_type": "code",
      "metadata": {
        "id": "HIDddtejO5VQ",
        "colab_type": "code",
        "colab": {
          "base_uri": "https://localhost:8080/",
          "height": 34
        },
        "outputId": "7b3153c5-40f6-4aa1-ee1a-f62d72274da5"
      },
      "source": [
        "df.dependents[df.churn == 0].isna().sum()"
      ],
      "execution_count": null,
      "outputs": [
        {
          "output_type": "execute_result",
          "data": {
            "text/plain": [
              "1936"
            ]
          },
          "metadata": {
            "tags": []
          },
          "execution_count": 11
        }
      ]
    },
    {
      "cell_type": "code",
      "metadata": {
        "id": "4KDlNYw3dDwY",
        "colab_type": "code",
        "colab": {}
      },
      "source": [
        "for name, content in df.items():\n",
        "  if name == \"dependents\":\n",
        "    df[\"dependents_with_missing_data\"] = pd.isnull(content)"
      ],
      "execution_count": null,
      "outputs": []
    },
    {
      "cell_type": "code",
      "metadata": {
        "id": "1qX5zVlyTNm1",
        "colab_type": "code",
        "colab": {}
      },
      "source": [
        "df.dependents.fillna(value = 0, inplace = True)\n",
        "df.dependents = df.dependents.astype(\"int\")"
      ],
      "execution_count": null,
      "outputs": []
    },
    {
      "cell_type": "markdown",
      "metadata": {
        "id": "RbI84ASNUQKL",
        "colab_type": "text"
      },
      "source": [
        "## city\n",
        "\n",
        "Here the column \"**city**\" is anonymised with float value. So, in place of missing values, \"**0**\" is inserted and then converted to **int** value.\n",
        "\n",
        "One more column with binary value i.e. True and False, is added under column name \"**city_with_missing_data**\".\n",
        "\n"
      ]
    },
    {
      "cell_type": "code",
      "metadata": {
        "id": "TTl7YCs3d6kW",
        "colab_type": "code",
        "colab": {}
      },
      "source": [
        "for name, content in df.items():\n",
        "  if name == \"city\":\n",
        "    df[\"city_with_missing_data\"] = pd.isnull(content)"
      ],
      "execution_count": null,
      "outputs": []
    },
    {
      "cell_type": "code",
      "metadata": {
        "id": "n5VveG7_SHjg",
        "colab_type": "code",
        "colab": {}
      },
      "source": [
        "df.city.fillna(value = 0, inplace = True)\n",
        "df[\"city\"] = df[\"city\"].astype(int)"
      ],
      "execution_count": null,
      "outputs": []
    },
    {
      "cell_type": "code",
      "metadata": {
        "id": "7yv4-ZzKgm8a",
        "colab_type": "code",
        "colab": {
          "base_uri": "https://localhost:8080/",
          "height": 215
        },
        "outputId": "eb9486e8-ee2b-4751-96f2-f8316395c229"
      },
      "source": [
        "df.head()"
      ],
      "execution_count": null,
      "outputs": [
        {
          "output_type": "execute_result",
          "data": {
            "text/html": [
              "<div>\n",
              "<style scoped>\n",
              "    .dataframe tbody tr th:only-of-type {\n",
              "        vertical-align: middle;\n",
              "    }\n",
              "\n",
              "    .dataframe tbody tr th {\n",
              "        vertical-align: top;\n",
              "    }\n",
              "\n",
              "    .dataframe thead th {\n",
              "        text-align: right;\n",
              "    }\n",
              "</style>\n",
              "<table border=\"1\" class=\"dataframe\">\n",
              "  <thead>\n",
              "    <tr style=\"text-align: right;\">\n",
              "      <th></th>\n",
              "      <th>customer_id</th>\n",
              "      <th>vintage</th>\n",
              "      <th>age</th>\n",
              "      <th>gender</th>\n",
              "      <th>dependents</th>\n",
              "      <th>occupation</th>\n",
              "      <th>city</th>\n",
              "      <th>customer_nw_category</th>\n",
              "      <th>branch_code</th>\n",
              "      <th>days_since_last_transaction</th>\n",
              "      <th>current_balance</th>\n",
              "      <th>previous_month_end_balance</th>\n",
              "      <th>average_monthly_balance_prevQ</th>\n",
              "      <th>average_monthly_balance_prevQ2</th>\n",
              "      <th>current_month_credit</th>\n",
              "      <th>previous_month_credit</th>\n",
              "      <th>current_month_debit</th>\n",
              "      <th>previous_month_debit</th>\n",
              "      <th>current_month_balance</th>\n",
              "      <th>previous_month_balance</th>\n",
              "      <th>churn</th>\n",
              "      <th>dependents_with_missing_data</th>\n",
              "      <th>occupation_with_missing_data</th>\n",
              "      <th>city_with_missing_data</th>\n",
              "    </tr>\n",
              "  </thead>\n",
              "  <tbody>\n",
              "    <tr>\n",
              "      <th>0</th>\n",
              "      <td>1</td>\n",
              "      <td>3135</td>\n",
              "      <td>66</td>\n",
              "      <td>Male</td>\n",
              "      <td>0</td>\n",
              "      <td>self_employed</td>\n",
              "      <td>187</td>\n",
              "      <td>2</td>\n",
              "      <td>755</td>\n",
              "      <td>224.0</td>\n",
              "      <td>1458.71</td>\n",
              "      <td>1458.71</td>\n",
              "      <td>1458.71</td>\n",
              "      <td>1449.07</td>\n",
              "      <td>0.20</td>\n",
              "      <td>0.20</td>\n",
              "      <td>0.20</td>\n",
              "      <td>0.20</td>\n",
              "      <td>1458.71</td>\n",
              "      <td>1458.71</td>\n",
              "      <td>0</td>\n",
              "      <td>False</td>\n",
              "      <td>False</td>\n",
              "      <td>False</td>\n",
              "    </tr>\n",
              "    <tr>\n",
              "      <th>1</th>\n",
              "      <td>2</td>\n",
              "      <td>310</td>\n",
              "      <td>35</td>\n",
              "      <td>Male</td>\n",
              "      <td>0</td>\n",
              "      <td>self_employed</td>\n",
              "      <td>0</td>\n",
              "      <td>2</td>\n",
              "      <td>3214</td>\n",
              "      <td>60.0</td>\n",
              "      <td>5390.37</td>\n",
              "      <td>8704.66</td>\n",
              "      <td>7799.26</td>\n",
              "      <td>12419.41</td>\n",
              "      <td>0.56</td>\n",
              "      <td>0.56</td>\n",
              "      <td>5486.27</td>\n",
              "      <td>100.56</td>\n",
              "      <td>6496.78</td>\n",
              "      <td>8787.61</td>\n",
              "      <td>0</td>\n",
              "      <td>False</td>\n",
              "      <td>False</td>\n",
              "      <td>True</td>\n",
              "    </tr>\n",
              "    <tr>\n",
              "      <th>2</th>\n",
              "      <td>4</td>\n",
              "      <td>2356</td>\n",
              "      <td>31</td>\n",
              "      <td>Male</td>\n",
              "      <td>0</td>\n",
              "      <td>salaried</td>\n",
              "      <td>146</td>\n",
              "      <td>2</td>\n",
              "      <td>41</td>\n",
              "      <td>NaN</td>\n",
              "      <td>3913.16</td>\n",
              "      <td>5815.29</td>\n",
              "      <td>4910.17</td>\n",
              "      <td>2815.94</td>\n",
              "      <td>0.61</td>\n",
              "      <td>0.61</td>\n",
              "      <td>6046.73</td>\n",
              "      <td>259.23</td>\n",
              "      <td>5006.28</td>\n",
              "      <td>5070.14</td>\n",
              "      <td>0</td>\n",
              "      <td>False</td>\n",
              "      <td>False</td>\n",
              "      <td>False</td>\n",
              "    </tr>\n",
              "    <tr>\n",
              "      <th>3</th>\n",
              "      <td>5</td>\n",
              "      <td>478</td>\n",
              "      <td>90</td>\n",
              "      <td>NaN</td>\n",
              "      <td>0</td>\n",
              "      <td>self_employed</td>\n",
              "      <td>1020</td>\n",
              "      <td>2</td>\n",
              "      <td>582</td>\n",
              "      <td>147.0</td>\n",
              "      <td>2291.91</td>\n",
              "      <td>2291.91</td>\n",
              "      <td>2084.54</td>\n",
              "      <td>1006.54</td>\n",
              "      <td>0.47</td>\n",
              "      <td>0.47</td>\n",
              "      <td>0.47</td>\n",
              "      <td>2143.33</td>\n",
              "      <td>2291.91</td>\n",
              "      <td>1669.79</td>\n",
              "      <td>1</td>\n",
              "      <td>True</td>\n",
              "      <td>False</td>\n",
              "      <td>False</td>\n",
              "    </tr>\n",
              "    <tr>\n",
              "      <th>4</th>\n",
              "      <td>6</td>\n",
              "      <td>2531</td>\n",
              "      <td>42</td>\n",
              "      <td>Male</td>\n",
              "      <td>2</td>\n",
              "      <td>self_employed</td>\n",
              "      <td>1494</td>\n",
              "      <td>3</td>\n",
              "      <td>388</td>\n",
              "      <td>58.0</td>\n",
              "      <td>927.72</td>\n",
              "      <td>1401.72</td>\n",
              "      <td>1643.31</td>\n",
              "      <td>1871.12</td>\n",
              "      <td>0.33</td>\n",
              "      <td>714.61</td>\n",
              "      <td>588.62</td>\n",
              "      <td>1538.06</td>\n",
              "      <td>1157.15</td>\n",
              "      <td>1677.16</td>\n",
              "      <td>1</td>\n",
              "      <td>False</td>\n",
              "      <td>False</td>\n",
              "      <td>False</td>\n",
              "    </tr>\n",
              "  </tbody>\n",
              "</table>\n",
              "</div>"
            ],
            "text/plain": [
              "   customer_id  vintage  ...  occupation_with_missing_data city_with_missing_data\n",
              "0            1     3135  ...                         False                  False\n",
              "1            2      310  ...                         False                   True\n",
              "2            4     2356  ...                         False                  False\n",
              "3            5      478  ...                         False                  False\n",
              "4            6     2531  ...                         False                  False\n",
              "\n",
              "[5 rows x 24 columns]"
            ]
          },
          "metadata": {
            "tags": []
          },
          "execution_count": 56
        }
      ]
    },
    {
      "cell_type": "markdown",
      "metadata": {
        "id": "iMVmwIjjg8yf",
        "colab_type": "text"
      },
      "source": [
        "## gender\n",
        "\n",
        "Here the column \"gender\" with missing value is filled the value \"missing\".\n",
        "\n",
        "One more column with binary value i.e. True and False, is added under column name \"**gender_with_missing_data**\"."
      ]
    },
    {
      "cell_type": "code",
      "metadata": {
        "id": "mGabuazpgoNh",
        "colab_type": "code",
        "colab": {}
      },
      "source": [
        "for name, content in df.items():\n",
        "  if name == \"gender\":\n",
        "    df[\"gender_with_missing_data\"] = pd.isnull(content)"
      ],
      "execution_count": null,
      "outputs": []
    },
    {
      "cell_type": "code",
      "metadata": {
        "id": "IVhYSgpAhgqQ",
        "colab_type": "code",
        "colab": {}
      },
      "source": [
        "df[\"gender\"].fillna(value = \"missing\", inplace = True) "
      ],
      "execution_count": null,
      "outputs": []
    },
    {
      "cell_type": "code",
      "metadata": {
        "id": "mrhDnm0-ixRC",
        "colab_type": "code",
        "colab": {
          "base_uri": "https://localhost:8080/",
          "height": 67
        },
        "outputId": "774ca12b-c0de-4117-d3cd-7f57477706e4"
      },
      "source": [
        "df.gender_with_missing_data.value_counts()"
      ],
      "execution_count": null,
      "outputs": [
        {
          "output_type": "execute_result",
          "data": {
            "text/plain": [
              "False    27857\n",
              "True       525\n",
              "Name: gender_with_missing_data, dtype: int64"
            ]
          },
          "metadata": {
            "tags": []
          },
          "execution_count": 33
        }
      ]
    },
    {
      "cell_type": "markdown",
      "metadata": {
        "id": "Bip8-hhIi7Yh",
        "colab_type": "text"
      },
      "source": [
        "## Days since last transaction\n",
        "\n",
        "Here the column \"**days_since_last_transaction**\" is filled with the median value i.e.** 30**.\n",
        "\n",
        "One more column with binary value i.e. True and False, is added under column name \"**days_since_last_transaction_with_missing_data**\"."
      ]
    },
    {
      "cell_type": "code",
      "metadata": {
        "id": "ToKQo-iIi6_V",
        "colab_type": "code",
        "colab": {}
      },
      "source": [
        "for name, content in df.items():\n",
        "  if name == \"days_since_last_transaction\":\n",
        "    df[\"days_since_last_transaction_with_missing_data\"] = pd.isnull(content)"
      ],
      "execution_count": null,
      "outputs": []
    },
    {
      "cell_type": "code",
      "metadata": {
        "id": "UAbokYyqkt8X",
        "colab_type": "code",
        "colab": {}
      },
      "source": [
        "df[\"days_since_last_transaction\"].fillna(value = 30, inplace =True) "
      ],
      "execution_count": null,
      "outputs": []
    },
    {
      "cell_type": "code",
      "metadata": {
        "id": "QSWCpyawuUJ3",
        "colab_type": "code",
        "colab": {
          "base_uri": "https://localhost:8080/",
          "height": 470
        },
        "outputId": "45ed7afa-71a0-43d8-8429-69bb216c0a3c"
      },
      "source": [
        "df.isna().sum()"
      ],
      "execution_count": null,
      "outputs": [
        {
          "output_type": "execute_result",
          "data": {
            "text/plain": [
              "customer_id                                      0\n",
              "vintage                                          0\n",
              "age                                              0\n",
              "gender                                           0\n",
              "dependents                                       0\n",
              "occupation                                       0\n",
              "city                                             0\n",
              "customer_nw_category                             0\n",
              "branch_code                                      0\n",
              "days_since_last_transaction                      0\n",
              "current_balance                                  0\n",
              "previous_month_end_balance                       0\n",
              "average_monthly_balance_prevQ                    0\n",
              "average_monthly_balance_prevQ2                   0\n",
              "current_month_credit                             0\n",
              "previous_month_credit                            0\n",
              "current_month_debit                              0\n",
              "previous_month_debit                             0\n",
              "current_month_balance                            0\n",
              "previous_month_balance                           0\n",
              "churn                                            0\n",
              "dependents_with_missing_data                     0\n",
              "occupation_with_missing_data                     0\n",
              "city_with_missing_data                           0\n",
              "gender_with_missing_data                         0\n",
              "days_since_last_transaction_with_missing_data    0\n",
              "dtype: int64"
            ]
          },
          "metadata": {
            "tags": []
          },
          "execution_count": 61
        }
      ]
    },
    {
      "cell_type": "markdown",
      "metadata": {
        "id": "QUrOlYBLzGVz",
        "colab_type": "text"
      },
      "source": [
        "# export filled dataset"
      ]
    },
    {
      "cell_type": "code",
      "metadata": {
        "id": "ivWJ3hh4zM-I",
        "colab_type": "code",
        "colab": {}
      },
      "source": [
        "dframe = df.to_csv(\"filled_churn_prediction.csv\")"
      ],
      "execution_count": null,
      "outputs": []
    },
    {
      "cell_type": "code",
      "metadata": {
        "id": "GXkzVnDh0cTf",
        "colab_type": "code",
        "colab": {}
      },
      "source": [
        "dframe"
      ],
      "execution_count": null,
      "outputs": []
    },
    {
      "cell_type": "code",
      "metadata": {
        "id": "zA5ubqAL1GPo",
        "colab_type": "code",
        "colab": {}
      },
      "source": [
        "df = pd.read_csv(\"filled_churn_prediction.csv\")"
      ],
      "execution_count": null,
      "outputs": []
    },
    {
      "cell_type": "code",
      "metadata": {
        "id": "wtJAXi4k1O7w",
        "colab_type": "code",
        "colab": {
          "base_uri": "https://localhost:8080/",
          "height": 232
        },
        "outputId": "c9c91b60-50e6-4fa4-8e49-7f7d20d58332"
      },
      "source": [
        "df.head()"
      ],
      "execution_count": null,
      "outputs": [
        {
          "output_type": "execute_result",
          "data": {
            "text/html": [
              "<div>\n",
              "<style scoped>\n",
              "    .dataframe tbody tr th:only-of-type {\n",
              "        vertical-align: middle;\n",
              "    }\n",
              "\n",
              "    .dataframe tbody tr th {\n",
              "        vertical-align: top;\n",
              "    }\n",
              "\n",
              "    .dataframe thead th {\n",
              "        text-align: right;\n",
              "    }\n",
              "</style>\n",
              "<table border=\"1\" class=\"dataframe\">\n",
              "  <thead>\n",
              "    <tr style=\"text-align: right;\">\n",
              "      <th></th>\n",
              "      <th>Unnamed: 0</th>\n",
              "      <th>customer_id</th>\n",
              "      <th>vintage</th>\n",
              "      <th>age</th>\n",
              "      <th>gender</th>\n",
              "      <th>dependents</th>\n",
              "      <th>occupation</th>\n",
              "      <th>city</th>\n",
              "      <th>customer_nw_category</th>\n",
              "      <th>branch_code</th>\n",
              "      <th>days_since_last_transaction</th>\n",
              "      <th>current_balance</th>\n",
              "      <th>previous_month_end_balance</th>\n",
              "      <th>average_monthly_balance_prevQ</th>\n",
              "      <th>average_monthly_balance_prevQ2</th>\n",
              "      <th>current_month_credit</th>\n",
              "      <th>previous_month_credit</th>\n",
              "      <th>current_month_debit</th>\n",
              "      <th>previous_month_debit</th>\n",
              "      <th>current_month_balance</th>\n",
              "      <th>previous_month_balance</th>\n",
              "      <th>churn</th>\n",
              "      <th>dependents_with_missing_data</th>\n",
              "      <th>occupation_with_missing_data</th>\n",
              "      <th>city_with_missing_data</th>\n",
              "      <th>gender_with_missing_data</th>\n",
              "      <th>days_since_last_transaction_with_missing_data</th>\n",
              "    </tr>\n",
              "  </thead>\n",
              "  <tbody>\n",
              "    <tr>\n",
              "      <th>0</th>\n",
              "      <td>0</td>\n",
              "      <td>1</td>\n",
              "      <td>3135</td>\n",
              "      <td>66</td>\n",
              "      <td>Male</td>\n",
              "      <td>0</td>\n",
              "      <td>self_employed</td>\n",
              "      <td>187</td>\n",
              "      <td>2</td>\n",
              "      <td>755</td>\n",
              "      <td>224.0</td>\n",
              "      <td>1458.71</td>\n",
              "      <td>1458.71</td>\n",
              "      <td>1458.71</td>\n",
              "      <td>1449.07</td>\n",
              "      <td>0.20</td>\n",
              "      <td>0.20</td>\n",
              "      <td>0.20</td>\n",
              "      <td>0.20</td>\n",
              "      <td>1458.71</td>\n",
              "      <td>1458.71</td>\n",
              "      <td>0</td>\n",
              "      <td>False</td>\n",
              "      <td>False</td>\n",
              "      <td>False</td>\n",
              "      <td>False</td>\n",
              "      <td>False</td>\n",
              "    </tr>\n",
              "    <tr>\n",
              "      <th>1</th>\n",
              "      <td>1</td>\n",
              "      <td>2</td>\n",
              "      <td>310</td>\n",
              "      <td>35</td>\n",
              "      <td>Male</td>\n",
              "      <td>0</td>\n",
              "      <td>self_employed</td>\n",
              "      <td>0</td>\n",
              "      <td>2</td>\n",
              "      <td>3214</td>\n",
              "      <td>60.0</td>\n",
              "      <td>5390.37</td>\n",
              "      <td>8704.66</td>\n",
              "      <td>7799.26</td>\n",
              "      <td>12419.41</td>\n",
              "      <td>0.56</td>\n",
              "      <td>0.56</td>\n",
              "      <td>5486.27</td>\n",
              "      <td>100.56</td>\n",
              "      <td>6496.78</td>\n",
              "      <td>8787.61</td>\n",
              "      <td>0</td>\n",
              "      <td>False</td>\n",
              "      <td>False</td>\n",
              "      <td>True</td>\n",
              "      <td>False</td>\n",
              "      <td>False</td>\n",
              "    </tr>\n",
              "    <tr>\n",
              "      <th>2</th>\n",
              "      <td>2</td>\n",
              "      <td>4</td>\n",
              "      <td>2356</td>\n",
              "      <td>31</td>\n",
              "      <td>Male</td>\n",
              "      <td>0</td>\n",
              "      <td>salaried</td>\n",
              "      <td>146</td>\n",
              "      <td>2</td>\n",
              "      <td>41</td>\n",
              "      <td>30.0</td>\n",
              "      <td>3913.16</td>\n",
              "      <td>5815.29</td>\n",
              "      <td>4910.17</td>\n",
              "      <td>2815.94</td>\n",
              "      <td>0.61</td>\n",
              "      <td>0.61</td>\n",
              "      <td>6046.73</td>\n",
              "      <td>259.23</td>\n",
              "      <td>5006.28</td>\n",
              "      <td>5070.14</td>\n",
              "      <td>0</td>\n",
              "      <td>False</td>\n",
              "      <td>False</td>\n",
              "      <td>False</td>\n",
              "      <td>False</td>\n",
              "      <td>True</td>\n",
              "    </tr>\n",
              "    <tr>\n",
              "      <th>3</th>\n",
              "      <td>3</td>\n",
              "      <td>5</td>\n",
              "      <td>478</td>\n",
              "      <td>90</td>\n",
              "      <td>missing</td>\n",
              "      <td>0</td>\n",
              "      <td>self_employed</td>\n",
              "      <td>1020</td>\n",
              "      <td>2</td>\n",
              "      <td>582</td>\n",
              "      <td>147.0</td>\n",
              "      <td>2291.91</td>\n",
              "      <td>2291.91</td>\n",
              "      <td>2084.54</td>\n",
              "      <td>1006.54</td>\n",
              "      <td>0.47</td>\n",
              "      <td>0.47</td>\n",
              "      <td>0.47</td>\n",
              "      <td>2143.33</td>\n",
              "      <td>2291.91</td>\n",
              "      <td>1669.79</td>\n",
              "      <td>1</td>\n",
              "      <td>True</td>\n",
              "      <td>False</td>\n",
              "      <td>False</td>\n",
              "      <td>True</td>\n",
              "      <td>False</td>\n",
              "    </tr>\n",
              "    <tr>\n",
              "      <th>4</th>\n",
              "      <td>4</td>\n",
              "      <td>6</td>\n",
              "      <td>2531</td>\n",
              "      <td>42</td>\n",
              "      <td>Male</td>\n",
              "      <td>2</td>\n",
              "      <td>self_employed</td>\n",
              "      <td>1494</td>\n",
              "      <td>3</td>\n",
              "      <td>388</td>\n",
              "      <td>58.0</td>\n",
              "      <td>927.72</td>\n",
              "      <td>1401.72</td>\n",
              "      <td>1643.31</td>\n",
              "      <td>1871.12</td>\n",
              "      <td>0.33</td>\n",
              "      <td>714.61</td>\n",
              "      <td>588.62</td>\n",
              "      <td>1538.06</td>\n",
              "      <td>1157.15</td>\n",
              "      <td>1677.16</td>\n",
              "      <td>1</td>\n",
              "      <td>False</td>\n",
              "      <td>False</td>\n",
              "      <td>False</td>\n",
              "      <td>False</td>\n",
              "      <td>False</td>\n",
              "    </tr>\n",
              "  </tbody>\n",
              "</table>\n",
              "</div>"
            ],
            "text/plain": [
              "   Unnamed: 0  ...  days_since_last_transaction_with_missing_data\n",
              "0           0  ...                                          False\n",
              "1           1  ...                                          False\n",
              "2           2  ...                                           True\n",
              "3           3  ...                                          False\n",
              "4           4  ...                                          False\n",
              "\n",
              "[5 rows x 27 columns]"
            ]
          },
          "metadata": {
            "tags": []
          },
          "execution_count": 67
        }
      ]
    },
    {
      "cell_type": "code",
      "metadata": {
        "id": "_lxw_mbs1ist",
        "colab_type": "code",
        "colab": {}
      },
      "source": [
        ""
      ],
      "execution_count": null,
      "outputs": []
    }
  ]
}